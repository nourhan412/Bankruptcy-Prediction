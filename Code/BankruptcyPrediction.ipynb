{
  "nbformat": 4,
  "nbformat_minor": 0,
  "metadata": {
    "colab": {
      "provenance": []
    },
    "kernelspec": {
      "name": "python3",
      "display_name": "Python 3"
    },
    "language_info": {
      "name": "python"
    }
  },
  "cells": [
    {
      "cell_type": "markdown",
      "source": [
        "# In this project, I'll explore data collected by a team of Polish economists studying bankruptcy [Dataset Link](https://archive.ics.uci.edu/dataset/365/polish+companies+bankruptcy+data).\n",
        "# My goal is to build a model that can predict whether a company will go bankrupt or not."
      ],
      "metadata": {
        "id": "voKd_X_yvHx4"
      }
    },
    {
      "cell_type": "markdown",
      "source": [
        "# **Importing Libraries**"
      ],
      "metadata": {
        "id": "vDA5ITeFOhaP"
      }
    },
    {
      "cell_type": "code",
      "source": [
        "from scipy.io import arff\n",
        "import numpy as np\n",
        "import pandas as pd\n",
        "import matplotlib.pyplot as plt\n",
        "import seaborn as sns\n",
        "from sklearn.model_selection import train_test_split\n",
        "from imblearn.over_sampling import RandomOverSampler\n",
        "from imblearn.under_sampling import RandomUnderSampler\n",
        "from sklearn.impute import SimpleImputer\n",
        "from sklearn.pipeline import make_pipeline\n",
        "from sklearn.tree import DecisionTreeClassifier\n",
        "from sklearn.metrics import ConfusionMatrixDisplay\n",
        "import pickle"
      ],
      "metadata": {
        "id": "0TVly3NVGXLY"
      },
      "execution_count": 1,
      "outputs": []
    },
    {
      "cell_type": "markdown",
      "source": [
        "# **Preparing Data**"
      ],
      "metadata": {
        "id": "B0bRWJdROcMH"
      }
    },
    {
      "cell_type": "code",
      "source": [
        "file_path = \"/content/drive/MyDrive/polish+companies+bankruptcy+data/3year.arff\"\n",
        "\n",
        "# Load the ARFF file\n",
        "data, meta = arff.loadarff(file_path)\n",
        "meta"
      ],
      "metadata": {
        "colab": {
          "base_uri": "https://localhost:8080/"
        },
        "id": "JM0byUrOBQKN",
        "outputId": "673deafe-d6a5-40bd-bd58-9dc5227871d7"
      },
      "execution_count": 2,
      "outputs": [
        {
          "output_type": "execute_result",
          "data": {
            "text/plain": [
              "Dataset: '1year-weka.filters.unsupervised.instance.SubsetByExpression-Enot\n",
              "\tAttr1's type is numeric\n",
              "\tAttr2's type is numeric\n",
              "\tAttr3's type is numeric\n",
              "\tAttr4's type is numeric\n",
              "\tAttr5's type is numeric\n",
              "\tAttr6's type is numeric\n",
              "\tAttr7's type is numeric\n",
              "\tAttr8's type is numeric\n",
              "\tAttr9's type is numeric\n",
              "\tAttr10's type is numeric\n",
              "\tAttr11's type is numeric\n",
              "\tAttr12's type is numeric\n",
              "\tAttr13's type is numeric\n",
              "\tAttr14's type is numeric\n",
              "\tAttr15's type is numeric\n",
              "\tAttr16's type is numeric\n",
              "\tAttr17's type is numeric\n",
              "\tAttr18's type is numeric\n",
              "\tAttr19's type is numeric\n",
              "\tAttr20's type is numeric\n",
              "\tAttr21's type is numeric\n",
              "\tAttr22's type is numeric\n",
              "\tAttr23's type is numeric\n",
              "\tAttr24's type is numeric\n",
              "\tAttr25's type is numeric\n",
              "\tAttr26's type is numeric\n",
              "\tAttr27's type is numeric\n",
              "\tAttr28's type is numeric\n",
              "\tAttr29's type is numeric\n",
              "\tAttr30's type is numeric\n",
              "\tAttr31's type is numeric\n",
              "\tAttr32's type is numeric\n",
              "\tAttr33's type is numeric\n",
              "\tAttr34's type is numeric\n",
              "\tAttr35's type is numeric\n",
              "\tAttr36's type is numeric\n",
              "\tAttr37's type is numeric\n",
              "\tAttr38's type is numeric\n",
              "\tAttr39's type is numeric\n",
              "\tAttr40's type is numeric\n",
              "\tAttr41's type is numeric\n",
              "\tAttr42's type is numeric\n",
              "\tAttr43's type is numeric\n",
              "\tAttr44's type is numeric\n",
              "\tAttr45's type is numeric\n",
              "\tAttr46's type is numeric\n",
              "\tAttr47's type is numeric\n",
              "\tAttr48's type is numeric\n",
              "\tAttr49's type is numeric\n",
              "\tAttr50's type is numeric\n",
              "\tAttr51's type is numeric\n",
              "\tAttr52's type is numeric\n",
              "\tAttr53's type is numeric\n",
              "\tAttr54's type is numeric\n",
              "\tAttr55's type is numeric\n",
              "\tAttr56's type is numeric\n",
              "\tAttr57's type is numeric\n",
              "\tAttr58's type is numeric\n",
              "\tAttr59's type is numeric\n",
              "\tAttr60's type is numeric\n",
              "\tAttr61's type is numeric\n",
              "\tAttr62's type is numeric\n",
              "\tAttr63's type is numeric\n",
              "\tAttr64's type is numeric\n",
              "\tclass's type is nominal, range is ('0', '1')"
            ]
          },
          "metadata": {},
          "execution_count": 2
        }
      ]
    },
    {
      "cell_type": "code",
      "source": [
        "len(data)"
      ],
      "metadata": {
        "colab": {
          "base_uri": "https://localhost:8080/"
        },
        "id": "k_o4ZlEsBS_V",
        "outputId": "7769d842-5dbb-4ee3-9573-293589a4ff93"
      },
      "execution_count": 3,
      "outputs": [
        {
          "output_type": "execute_result",
          "data": {
            "text/plain": [
              "10503"
            ]
          },
          "metadata": {},
          "execution_count": 3
        }
      ]
    },
    {
      "cell_type": "code",
      "source": [
        "data[1]"
      ],
      "metadata": {
        "colab": {
          "base_uri": "https://localhost:8080/"
        },
        "id": "_Q4m7j2-ByzX",
        "outputId": "3292afe4-473f-4328-c07a-d6aa4ac7a10a"
      },
      "execution_count": 4,
      "outputs": [
        {
          "output_type": "execute_result",
          "data": {
            "text/plain": [
              "(0.14624, 0.46038, 0.2823, 1.6294, 2.5952, 0., 0.17185, 1.1721, 1.6018, 0.53962, 0.17579, 0.38317, 0.12647, 0.17185, 829.46, 0.44004, 2.1721, 0.17185, 0.10728, 60.954, 5.0889, 0.17571, 0.091295, nan, 0.17523, 0.38442, 44.593, 1.0486, 4.0792, 0.24384, 0.10974, 105.09, 3.4733, 3.3836, 0.044076, 1.6018, nan, 0.53962, 0.027516, 0.16406, 0.074333, 0.10969, 149.75, 88.801, 0.54669, 1.033, 62.678, 0.14497, 0.090503, 1.5874, 0.44849, 0.28791, 2.0044, 2.0044, 3387.8, 0.027516, 0.271, 0.90108, 0., 5.9882, 4.1103, 102.19, 3.5716, 5.95, b'0')"
            ]
          },
          "metadata": {},
          "execution_count": 4
        }
      ]
    },
    {
      "cell_type": "code",
      "source": [
        "len(data[0])"
      ],
      "metadata": {
        "colab": {
          "base_uri": "https://localhost:8080/"
        },
        "id": "v5jtg_NOC4TI",
        "outputId": "7f8990fb-d75e-4133-fe24-41e40976dd70"
      },
      "execution_count": 5,
      "outputs": [
        {
          "output_type": "execute_result",
          "data": {
            "text/plain": [
              "65"
            ]
          },
          "metadata": {},
          "execution_count": 5
        }
      ]
    },
    {
      "cell_type": "code",
      "source": [
        "df=pd.DataFrame(data)\n",
        "df.index.name='company_id'\n",
        "df.head()"
      ],
      "metadata": {
        "colab": {
          "base_uri": "https://localhost:8080/",
          "height": 267
        },
        "id": "KhCQxJE1EwyD",
        "outputId": "ffee5a58-66cf-46c0-e5c0-9e88575ee147"
      },
      "execution_count": 6,
      "outputs": [
        {
          "output_type": "execute_result",
          "data": {
            "text/plain": [
              "               Attr1    Attr2    Attr3   Attr4    Attr5    Attr6     Attr7  \\\n",
              "company_id                                                                   \n",
              "0           0.174190  0.41299  0.14371  1.3480 -28.9820  0.60383  0.219460   \n",
              "1           0.146240  0.46038  0.28230  1.6294   2.5952  0.00000  0.171850   \n",
              "2           0.000595  0.22612  0.48839  3.1599  84.8740  0.19114  0.004572   \n",
              "3           0.024526  0.43236  0.27546  1.7833 -10.1050  0.56944  0.024526   \n",
              "4           0.188290  0.41504  0.34231  1.9279 -58.2740  0.00000  0.233580   \n",
              "\n",
              "             Attr8   Attr9   Attr10  ...    Attr56    Attr57   Attr58  \\\n",
              "company_id                           ...                                \n",
              "0           1.1225  1.1961  0.46359  ...  0.163960  0.375740  0.83604   \n",
              "1           1.1721  1.6018  0.53962  ...  0.027516  0.271000  0.90108   \n",
              "2           2.9881  1.0077  0.67566  ...  0.007639  0.000881  0.99236   \n",
              "3           1.3057  1.0509  0.56453  ...  0.048398  0.043445  0.95160   \n",
              "4           1.4094  1.3393  0.58496  ...  0.176480  0.321880  0.82635   \n",
              "\n",
              "              Attr59  Attr60  Attr61   Attr62  Attr63  Attr64  class  \n",
              "company_id                                                            \n",
              "0           0.000007  9.7145  6.2813   84.291  4.3303  4.0341   b'0'  \n",
              "1           0.000000  5.9882  4.1103  102.190  3.5716  5.9500   b'0'  \n",
              "2           0.000000  6.7742  3.7922   64.846  5.6287  4.4581   b'0'  \n",
              "3           0.142980  4.2286  5.0528   98.783  3.6950  3.4844   b'0'  \n",
              "4           0.073039  2.5912  7.0756  100.540  3.6303  4.6375   b'0'  \n",
              "\n",
              "[5 rows x 65 columns]"
            ],
            "text/html": [
              "\n",
              "\n",
              "  <div id=\"df-7000d191-92e6-4b0e-9e3d-521ebb16b99d\">\n",
              "    <div class=\"colab-df-container\">\n",
              "      <div>\n",
              "<style scoped>\n",
              "    .dataframe tbody tr th:only-of-type {\n",
              "        vertical-align: middle;\n",
              "    }\n",
              "\n",
              "    .dataframe tbody tr th {\n",
              "        vertical-align: top;\n",
              "    }\n",
              "\n",
              "    .dataframe thead th {\n",
              "        text-align: right;\n",
              "    }\n",
              "</style>\n",
              "<table border=\"1\" class=\"dataframe\">\n",
              "  <thead>\n",
              "    <tr style=\"text-align: right;\">\n",
              "      <th></th>\n",
              "      <th>Attr1</th>\n",
              "      <th>Attr2</th>\n",
              "      <th>Attr3</th>\n",
              "      <th>Attr4</th>\n",
              "      <th>Attr5</th>\n",
              "      <th>Attr6</th>\n",
              "      <th>Attr7</th>\n",
              "      <th>Attr8</th>\n",
              "      <th>Attr9</th>\n",
              "      <th>Attr10</th>\n",
              "      <th>...</th>\n",
              "      <th>Attr56</th>\n",
              "      <th>Attr57</th>\n",
              "      <th>Attr58</th>\n",
              "      <th>Attr59</th>\n",
              "      <th>Attr60</th>\n",
              "      <th>Attr61</th>\n",
              "      <th>Attr62</th>\n",
              "      <th>Attr63</th>\n",
              "      <th>Attr64</th>\n",
              "      <th>class</th>\n",
              "    </tr>\n",
              "    <tr>\n",
              "      <th>company_id</th>\n",
              "      <th></th>\n",
              "      <th></th>\n",
              "      <th></th>\n",
              "      <th></th>\n",
              "      <th></th>\n",
              "      <th></th>\n",
              "      <th></th>\n",
              "      <th></th>\n",
              "      <th></th>\n",
              "      <th></th>\n",
              "      <th></th>\n",
              "      <th></th>\n",
              "      <th></th>\n",
              "      <th></th>\n",
              "      <th></th>\n",
              "      <th></th>\n",
              "      <th></th>\n",
              "      <th></th>\n",
              "      <th></th>\n",
              "      <th></th>\n",
              "      <th></th>\n",
              "    </tr>\n",
              "  </thead>\n",
              "  <tbody>\n",
              "    <tr>\n",
              "      <th>0</th>\n",
              "      <td>0.174190</td>\n",
              "      <td>0.41299</td>\n",
              "      <td>0.14371</td>\n",
              "      <td>1.3480</td>\n",
              "      <td>-28.9820</td>\n",
              "      <td>0.60383</td>\n",
              "      <td>0.219460</td>\n",
              "      <td>1.1225</td>\n",
              "      <td>1.1961</td>\n",
              "      <td>0.46359</td>\n",
              "      <td>...</td>\n",
              "      <td>0.163960</td>\n",
              "      <td>0.375740</td>\n",
              "      <td>0.83604</td>\n",
              "      <td>0.000007</td>\n",
              "      <td>9.7145</td>\n",
              "      <td>6.2813</td>\n",
              "      <td>84.291</td>\n",
              "      <td>4.3303</td>\n",
              "      <td>4.0341</td>\n",
              "      <td>b'0'</td>\n",
              "    </tr>\n",
              "    <tr>\n",
              "      <th>1</th>\n",
              "      <td>0.146240</td>\n",
              "      <td>0.46038</td>\n",
              "      <td>0.28230</td>\n",
              "      <td>1.6294</td>\n",
              "      <td>2.5952</td>\n",
              "      <td>0.00000</td>\n",
              "      <td>0.171850</td>\n",
              "      <td>1.1721</td>\n",
              "      <td>1.6018</td>\n",
              "      <td>0.53962</td>\n",
              "      <td>...</td>\n",
              "      <td>0.027516</td>\n",
              "      <td>0.271000</td>\n",
              "      <td>0.90108</td>\n",
              "      <td>0.000000</td>\n",
              "      <td>5.9882</td>\n",
              "      <td>4.1103</td>\n",
              "      <td>102.190</td>\n",
              "      <td>3.5716</td>\n",
              "      <td>5.9500</td>\n",
              "      <td>b'0'</td>\n",
              "    </tr>\n",
              "    <tr>\n",
              "      <th>2</th>\n",
              "      <td>0.000595</td>\n",
              "      <td>0.22612</td>\n",
              "      <td>0.48839</td>\n",
              "      <td>3.1599</td>\n",
              "      <td>84.8740</td>\n",
              "      <td>0.19114</td>\n",
              "      <td>0.004572</td>\n",
              "      <td>2.9881</td>\n",
              "      <td>1.0077</td>\n",
              "      <td>0.67566</td>\n",
              "      <td>...</td>\n",
              "      <td>0.007639</td>\n",
              "      <td>0.000881</td>\n",
              "      <td>0.99236</td>\n",
              "      <td>0.000000</td>\n",
              "      <td>6.7742</td>\n",
              "      <td>3.7922</td>\n",
              "      <td>64.846</td>\n",
              "      <td>5.6287</td>\n",
              "      <td>4.4581</td>\n",
              "      <td>b'0'</td>\n",
              "    </tr>\n",
              "    <tr>\n",
              "      <th>3</th>\n",
              "      <td>0.024526</td>\n",
              "      <td>0.43236</td>\n",
              "      <td>0.27546</td>\n",
              "      <td>1.7833</td>\n",
              "      <td>-10.1050</td>\n",
              "      <td>0.56944</td>\n",
              "      <td>0.024526</td>\n",
              "      <td>1.3057</td>\n",
              "      <td>1.0509</td>\n",
              "      <td>0.56453</td>\n",
              "      <td>...</td>\n",
              "      <td>0.048398</td>\n",
              "      <td>0.043445</td>\n",
              "      <td>0.95160</td>\n",
              "      <td>0.142980</td>\n",
              "      <td>4.2286</td>\n",
              "      <td>5.0528</td>\n",
              "      <td>98.783</td>\n",
              "      <td>3.6950</td>\n",
              "      <td>3.4844</td>\n",
              "      <td>b'0'</td>\n",
              "    </tr>\n",
              "    <tr>\n",
              "      <th>4</th>\n",
              "      <td>0.188290</td>\n",
              "      <td>0.41504</td>\n",
              "      <td>0.34231</td>\n",
              "      <td>1.9279</td>\n",
              "      <td>-58.2740</td>\n",
              "      <td>0.00000</td>\n",
              "      <td>0.233580</td>\n",
              "      <td>1.4094</td>\n",
              "      <td>1.3393</td>\n",
              "      <td>0.58496</td>\n",
              "      <td>...</td>\n",
              "      <td>0.176480</td>\n",
              "      <td>0.321880</td>\n",
              "      <td>0.82635</td>\n",
              "      <td>0.073039</td>\n",
              "      <td>2.5912</td>\n",
              "      <td>7.0756</td>\n",
              "      <td>100.540</td>\n",
              "      <td>3.6303</td>\n",
              "      <td>4.6375</td>\n",
              "      <td>b'0'</td>\n",
              "    </tr>\n",
              "  </tbody>\n",
              "</table>\n",
              "<p>5 rows × 65 columns</p>\n",
              "</div>\n",
              "      <button class=\"colab-df-convert\" onclick=\"convertToInteractive('df-7000d191-92e6-4b0e-9e3d-521ebb16b99d')\"\n",
              "              title=\"Convert this dataframe to an interactive table.\"\n",
              "              style=\"display:none;\">\n",
              "\n",
              "  <svg xmlns=\"http://www.w3.org/2000/svg\" height=\"24px\"viewBox=\"0 0 24 24\"\n",
              "       width=\"24px\">\n",
              "    <path d=\"M0 0h24v24H0V0z\" fill=\"none\"/>\n",
              "    <path d=\"M18.56 5.44l.94 2.06.94-2.06 2.06-.94-2.06-.94-.94-2.06-.94 2.06-2.06.94zm-11 1L8.5 8.5l.94-2.06 2.06-.94-2.06-.94L8.5 2.5l-.94 2.06-2.06.94zm10 10l.94 2.06.94-2.06 2.06-.94-2.06-.94-.94-2.06-.94 2.06-2.06.94z\"/><path d=\"M17.41 7.96l-1.37-1.37c-.4-.4-.92-.59-1.43-.59-.52 0-1.04.2-1.43.59L10.3 9.45l-7.72 7.72c-.78.78-.78 2.05 0 2.83L4 21.41c.39.39.9.59 1.41.59.51 0 1.02-.2 1.41-.59l7.78-7.78 2.81-2.81c.8-.78.8-2.07 0-2.86zM5.41 20L4 18.59l7.72-7.72 1.47 1.35L5.41 20z\"/>\n",
              "  </svg>\n",
              "      </button>\n",
              "\n",
              "\n",
              "\n",
              "    <div id=\"df-b61a087c-714b-408f-86fe-cc6a46970ba9\">\n",
              "      <button class=\"colab-df-quickchart\" onclick=\"quickchart('df-b61a087c-714b-408f-86fe-cc6a46970ba9')\"\n",
              "              title=\"Suggest charts.\"\n",
              "              style=\"display:none;\">\n",
              "\n",
              "<svg xmlns=\"http://www.w3.org/2000/svg\" height=\"24px\"viewBox=\"0 0 24 24\"\n",
              "     width=\"24px\">\n",
              "    <g>\n",
              "        <path d=\"M19 3H5c-1.1 0-2 .9-2 2v14c0 1.1.9 2 2 2h14c1.1 0 2-.9 2-2V5c0-1.1-.9-2-2-2zM9 17H7v-7h2v7zm4 0h-2V7h2v10zm4 0h-2v-4h2v4z\"/>\n",
              "    </g>\n",
              "</svg>\n",
              "      </button>\n",
              "    </div>\n",
              "\n",
              "<style>\n",
              "  .colab-df-quickchart {\n",
              "    background-color: #E8F0FE;\n",
              "    border: none;\n",
              "    border-radius: 50%;\n",
              "    cursor: pointer;\n",
              "    display: none;\n",
              "    fill: #1967D2;\n",
              "    height: 32px;\n",
              "    padding: 0 0 0 0;\n",
              "    width: 32px;\n",
              "  }\n",
              "\n",
              "  .colab-df-quickchart:hover {\n",
              "    background-color: #E2EBFA;\n",
              "    box-shadow: 0px 1px 2px rgba(60, 64, 67, 0.3), 0px 1px 3px 1px rgba(60, 64, 67, 0.15);\n",
              "    fill: #174EA6;\n",
              "  }\n",
              "\n",
              "  [theme=dark] .colab-df-quickchart {\n",
              "    background-color: #3B4455;\n",
              "    fill: #D2E3FC;\n",
              "  }\n",
              "\n",
              "  [theme=dark] .colab-df-quickchart:hover {\n",
              "    background-color: #434B5C;\n",
              "    box-shadow: 0px 1px 3px 1px rgba(0, 0, 0, 0.15);\n",
              "    filter: drop-shadow(0px 1px 2px rgba(0, 0, 0, 0.3));\n",
              "    fill: #FFFFFF;\n",
              "  }\n",
              "</style>\n",
              "\n",
              "    <script>\n",
              "      async function quickchart(key) {\n",
              "        const containerElement = document.querySelector('#' + key);\n",
              "        const charts = await google.colab.kernel.invokeFunction(\n",
              "            'suggestCharts', [key], {});\n",
              "      }\n",
              "    </script>\n",
              "\n",
              "      <script>\n",
              "\n",
              "function displayQuickchartButton(domScope) {\n",
              "  let quickchartButtonEl =\n",
              "    domScope.querySelector('#df-b61a087c-714b-408f-86fe-cc6a46970ba9 button.colab-df-quickchart');\n",
              "  quickchartButtonEl.style.display =\n",
              "    google.colab.kernel.accessAllowed ? 'block' : 'none';\n",
              "}\n",
              "\n",
              "        displayQuickchartButton(document);\n",
              "      </script>\n",
              "      <style>\n",
              "    .colab-df-container {\n",
              "      display:flex;\n",
              "      flex-wrap:wrap;\n",
              "      gap: 12px;\n",
              "    }\n",
              "\n",
              "    .colab-df-convert {\n",
              "      background-color: #E8F0FE;\n",
              "      border: none;\n",
              "      border-radius: 50%;\n",
              "      cursor: pointer;\n",
              "      display: none;\n",
              "      fill: #1967D2;\n",
              "      height: 32px;\n",
              "      padding: 0 0 0 0;\n",
              "      width: 32px;\n",
              "    }\n",
              "\n",
              "    .colab-df-convert:hover {\n",
              "      background-color: #E2EBFA;\n",
              "      box-shadow: 0px 1px 2px rgba(60, 64, 67, 0.3), 0px 1px 3px 1px rgba(60, 64, 67, 0.15);\n",
              "      fill: #174EA6;\n",
              "    }\n",
              "\n",
              "    [theme=dark] .colab-df-convert {\n",
              "      background-color: #3B4455;\n",
              "      fill: #D2E3FC;\n",
              "    }\n",
              "\n",
              "    [theme=dark] .colab-df-convert:hover {\n",
              "      background-color: #434B5C;\n",
              "      box-shadow: 0px 1px 3px 1px rgba(0, 0, 0, 0.15);\n",
              "      filter: drop-shadow(0px 1px 2px rgba(0, 0, 0, 0.3));\n",
              "      fill: #FFFFFF;\n",
              "    }\n",
              "  </style>\n",
              "\n",
              "      <script>\n",
              "        const buttonEl =\n",
              "          document.querySelector('#df-7000d191-92e6-4b0e-9e3d-521ebb16b99d button.colab-df-convert');\n",
              "        buttonEl.style.display =\n",
              "          google.colab.kernel.accessAllowed ? 'block' : 'none';\n",
              "\n",
              "        async function convertToInteractive(key) {\n",
              "          const element = document.querySelector('#df-7000d191-92e6-4b0e-9e3d-521ebb16b99d');\n",
              "          const dataTable =\n",
              "            await google.colab.kernel.invokeFunction('convertToInteractive',\n",
              "                                                     [key], {});\n",
              "          if (!dataTable) return;\n",
              "\n",
              "          const docLinkHtml = 'Like what you see? Visit the ' +\n",
              "            '<a target=\"_blank\" href=https://colab.research.google.com/notebooks/data_table.ipynb>data table notebook</a>'\n",
              "            + ' to learn more about interactive tables.';\n",
              "          element.innerHTML = '';\n",
              "          dataTable['output_type'] = 'display_data';\n",
              "          await google.colab.output.renderOutput(dataTable, element);\n",
              "          const docLink = document.createElement('div');\n",
              "          docLink.innerHTML = docLinkHtml;\n",
              "          element.appendChild(docLink);\n",
              "        }\n",
              "      </script>\n",
              "    </div>\n",
              "  </div>\n"
            ]
          },
          "metadata": {},
          "execution_count": 6
        }
      ]
    },
    {
      "cell_type": "code",
      "source": [
        "df.shape"
      ],
      "metadata": {
        "colab": {
          "base_uri": "https://localhost:8080/"
        },
        "id": "3xir85gjH6dO",
        "outputId": "230fb7a1-9a06-442b-cce9-02ee34215737"
      },
      "execution_count": 7,
      "outputs": [
        {
          "output_type": "execute_result",
          "data": {
            "text/plain": [
              "(10503, 65)"
            ]
          },
          "metadata": {},
          "execution_count": 7
        }
      ]
    },
    {
      "cell_type": "code",
      "source": [
        "df.info()"
      ],
      "metadata": {
        "colab": {
          "base_uri": "https://localhost:8080/"
        },
        "id": "V1rw2sJiIDfH",
        "outputId": "97e9178c-8d3e-4617-81c6-e1c61029861e"
      },
      "execution_count": 8,
      "outputs": [
        {
          "output_type": "stream",
          "name": "stdout",
          "text": [
            "<class 'pandas.core.frame.DataFrame'>\n",
            "RangeIndex: 10503 entries, 0 to 10502\n",
            "Data columns (total 65 columns):\n",
            " #   Column  Non-Null Count  Dtype  \n",
            "---  ------  --------------  -----  \n",
            " 0   Attr1   10503 non-null  float64\n",
            " 1   Attr2   10503 non-null  float64\n",
            " 2   Attr3   10503 non-null  float64\n",
            " 3   Attr4   10485 non-null  float64\n",
            " 4   Attr5   10478 non-null  float64\n",
            " 5   Attr6   10503 non-null  float64\n",
            " 6   Attr7   10503 non-null  float64\n",
            " 7   Attr8   10489 non-null  float64\n",
            " 8   Attr9   10500 non-null  float64\n",
            " 9   Attr10  10503 non-null  float64\n",
            " 10  Attr11  10503 non-null  float64\n",
            " 11  Attr12  10485 non-null  float64\n",
            " 12  Attr13  10460 non-null  float64\n",
            " 13  Attr14  10503 non-null  float64\n",
            " 14  Attr15  10495 non-null  float64\n",
            " 15  Attr16  10489 non-null  float64\n",
            " 16  Attr17  10489 non-null  float64\n",
            " 17  Attr18  10503 non-null  float64\n",
            " 18  Attr19  10460 non-null  float64\n",
            " 19  Attr20  10460 non-null  float64\n",
            " 20  Attr21  9696 non-null   float64\n",
            " 21  Attr22  10503 non-null  float64\n",
            " 22  Attr23  10460 non-null  float64\n",
            " 23  Attr24  10276 non-null  float64\n",
            " 24  Attr25  10503 non-null  float64\n",
            " 25  Attr26  10489 non-null  float64\n",
            " 26  Attr27  9788 non-null   float64\n",
            " 27  Attr28  10275 non-null  float64\n",
            " 28  Attr29  10503 non-null  float64\n",
            " 29  Attr30  10460 non-null  float64\n",
            " 30  Attr31  10460 non-null  float64\n",
            " 31  Attr32  10402 non-null  float64\n",
            " 32  Attr33  10485 non-null  float64\n",
            " 33  Attr34  10489 non-null  float64\n",
            " 34  Attr35  10503 non-null  float64\n",
            " 35  Attr36  10503 non-null  float64\n",
            " 36  Attr37  5767 non-null   float64\n",
            " 37  Attr38  10503 non-null  float64\n",
            " 38  Attr39  10460 non-null  float64\n",
            " 39  Attr40  10485 non-null  float64\n",
            " 40  Attr41  10301 non-null  float64\n",
            " 41  Attr42  10460 non-null  float64\n",
            " 42  Attr43  10460 non-null  float64\n",
            " 43  Attr44  10460 non-null  float64\n",
            " 44  Attr45  9912 non-null   float64\n",
            " 45  Attr46  10485 non-null  float64\n",
            " 46  Attr47  10417 non-null  float64\n",
            " 47  Attr48  10503 non-null  float64\n",
            " 48  Attr49  10460 non-null  float64\n",
            " 49  Attr50  10489 non-null  float64\n",
            " 50  Attr51  10503 non-null  float64\n",
            " 51  Attr52  10417 non-null  float64\n",
            " 52  Attr53  10275 non-null  float64\n",
            " 53  Attr54  10275 non-null  float64\n",
            " 54  Attr55  10503 non-null  float64\n",
            " 55  Attr56  10460 non-null  float64\n",
            " 56  Attr57  10503 non-null  float64\n",
            " 57  Attr58  10474 non-null  float64\n",
            " 58  Attr59  10503 non-null  float64\n",
            " 59  Attr60  9911 non-null   float64\n",
            " 60  Attr61  10486 non-null  float64\n",
            " 61  Attr62  10460 non-null  float64\n",
            " 62  Attr63  10485 non-null  float64\n",
            " 63  Attr64  10275 non-null  float64\n",
            " 64  class   10503 non-null  object \n",
            "dtypes: float64(64), object(1)\n",
            "memory usage: 5.2+ MB\n"
          ]
        }
      ]
    },
    {
      "cell_type": "code",
      "source": [
        "df.isna().all(axis=1).sum()"
      ],
      "metadata": {
        "colab": {
          "base_uri": "https://localhost:8080/"
        },
        "id": "j9XaBxusIHmY",
        "outputId": "fd48372d-f845-4c06-c75c-8128cc4ef4ff"
      },
      "execution_count": 9,
      "outputs": [
        {
          "output_type": "execute_result",
          "data": {
            "text/plain": [
              "0"
            ]
          },
          "metadata": {},
          "execution_count": 9
        }
      ]
    },
    {
      "cell_type": "code",
      "source": [
        "df['class'].unique()"
      ],
      "metadata": {
        "colab": {
          "base_uri": "https://localhost:8080/"
        },
        "id": "VDu0Des0JLP7",
        "outputId": "338195a6-bc8e-4c4c-8020-73a6573c4e95"
      },
      "execution_count": 10,
      "outputs": [
        {
          "output_type": "execute_result",
          "data": {
            "text/plain": [
              "array([b'0', b'1'], dtype=object)"
            ]
          },
          "metadata": {},
          "execution_count": 10
        }
      ]
    },
    {
      "cell_type": "code",
      "source": [
        "df['class'][0]"
      ],
      "metadata": {
        "colab": {
          "base_uri": "https://localhost:8080/"
        },
        "id": "m54Ch-zLK4Xc",
        "outputId": "5dfe3eaa-83df-4e22-8d80-0436947fba64"
      },
      "execution_count": 11,
      "outputs": [
        {
          "output_type": "execute_result",
          "data": {
            "text/plain": [
              "b'0'"
            ]
          },
          "metadata": {},
          "execution_count": 11
        }
      ]
    },
    {
      "cell_type": "code",
      "source": [
        "type(df['class'][0])"
      ],
      "metadata": {
        "colab": {
          "base_uri": "https://localhost:8080/"
        },
        "id": "8H-SMBxSKwuH",
        "outputId": "be4234eb-6bc6-4dc7-ab0a-e8765b0d3f93"
      },
      "execution_count": 12,
      "outputs": [
        {
          "output_type": "execute_result",
          "data": {
            "text/plain": [
              "bytes"
            ]
          },
          "metadata": {},
          "execution_count": 12
        }
      ]
    },
    {
      "cell_type": "code",
      "source": [
        "for idx in range(len(df['class'])):\n",
        "  if df['class'][idx]== b'0':\n",
        "    df['class'][idx]=0\n",
        "  else:\n",
        "    df['class'][idx]=1\n",
        "df['class'].unique()"
      ],
      "metadata": {
        "colab": {
          "base_uri": "https://localhost:8080/"
        },
        "id": "5Rwc5G1aJZUy",
        "outputId": "4287eced-8e9c-4141-c2ca-32505f200122"
      },
      "execution_count": 13,
      "outputs": [
        {
          "output_type": "stream",
          "name": "stderr",
          "text": [
            "<ipython-input-13-571e50ea9f5e>:3: SettingWithCopyWarning: \n",
            "A value is trying to be set on a copy of a slice from a DataFrame\n",
            "\n",
            "See the caveats in the documentation: https://pandas.pydata.org/pandas-docs/stable/user_guide/indexing.html#returning-a-view-versus-a-copy\n",
            "  df['class'][idx]=0\n",
            "<ipython-input-13-571e50ea9f5e>:5: SettingWithCopyWarning: \n",
            "A value is trying to be set on a copy of a slice from a DataFrame\n",
            "\n",
            "See the caveats in the documentation: https://pandas.pydata.org/pandas-docs/stable/user_guide/indexing.html#returning-a-view-versus-a-copy\n",
            "  df['class'][idx]=1\n"
          ]
        },
        {
          "output_type": "execute_result",
          "data": {
            "text/plain": [
              "array([0, 1], dtype=object)"
            ]
          },
          "metadata": {},
          "execution_count": 13
        }
      ]
    },
    {
      "cell_type": "code",
      "source": [
        "df['class']=df['class'].astype(int)"
      ],
      "metadata": {
        "id": "IFaWhxJ-LLuk"
      },
      "execution_count": 14,
      "outputs": []
    },
    {
      "cell_type": "code",
      "source": [
        "df.head()"
      ],
      "metadata": {
        "colab": {
          "base_uri": "https://localhost:8080/",
          "height": 267
        },
        "id": "dvaxs14zJr_U",
        "outputId": "a4a54284-b9c9-4920-eff2-8f9aca8c0ed1"
      },
      "execution_count": 15,
      "outputs": [
        {
          "output_type": "execute_result",
          "data": {
            "text/plain": [
              "               Attr1    Attr2    Attr3   Attr4    Attr5    Attr6     Attr7  \\\n",
              "company_id                                                                   \n",
              "0           0.174190  0.41299  0.14371  1.3480 -28.9820  0.60383  0.219460   \n",
              "1           0.146240  0.46038  0.28230  1.6294   2.5952  0.00000  0.171850   \n",
              "2           0.000595  0.22612  0.48839  3.1599  84.8740  0.19114  0.004572   \n",
              "3           0.024526  0.43236  0.27546  1.7833 -10.1050  0.56944  0.024526   \n",
              "4           0.188290  0.41504  0.34231  1.9279 -58.2740  0.00000  0.233580   \n",
              "\n",
              "             Attr8   Attr9   Attr10  ...    Attr56    Attr57   Attr58  \\\n",
              "company_id                           ...                                \n",
              "0           1.1225  1.1961  0.46359  ...  0.163960  0.375740  0.83604   \n",
              "1           1.1721  1.6018  0.53962  ...  0.027516  0.271000  0.90108   \n",
              "2           2.9881  1.0077  0.67566  ...  0.007639  0.000881  0.99236   \n",
              "3           1.3057  1.0509  0.56453  ...  0.048398  0.043445  0.95160   \n",
              "4           1.4094  1.3393  0.58496  ...  0.176480  0.321880  0.82635   \n",
              "\n",
              "              Attr59  Attr60  Attr61   Attr62  Attr63  Attr64  class  \n",
              "company_id                                                            \n",
              "0           0.000007  9.7145  6.2813   84.291  4.3303  4.0341      0  \n",
              "1           0.000000  5.9882  4.1103  102.190  3.5716  5.9500      0  \n",
              "2           0.000000  6.7742  3.7922   64.846  5.6287  4.4581      0  \n",
              "3           0.142980  4.2286  5.0528   98.783  3.6950  3.4844      0  \n",
              "4           0.073039  2.5912  7.0756  100.540  3.6303  4.6375      0  \n",
              "\n",
              "[5 rows x 65 columns]"
            ],
            "text/html": [
              "\n",
              "\n",
              "  <div id=\"df-725a30a0-d6c8-449a-b935-5c19a9dc41d4\">\n",
              "    <div class=\"colab-df-container\">\n",
              "      <div>\n",
              "<style scoped>\n",
              "    .dataframe tbody tr th:only-of-type {\n",
              "        vertical-align: middle;\n",
              "    }\n",
              "\n",
              "    .dataframe tbody tr th {\n",
              "        vertical-align: top;\n",
              "    }\n",
              "\n",
              "    .dataframe thead th {\n",
              "        text-align: right;\n",
              "    }\n",
              "</style>\n",
              "<table border=\"1\" class=\"dataframe\">\n",
              "  <thead>\n",
              "    <tr style=\"text-align: right;\">\n",
              "      <th></th>\n",
              "      <th>Attr1</th>\n",
              "      <th>Attr2</th>\n",
              "      <th>Attr3</th>\n",
              "      <th>Attr4</th>\n",
              "      <th>Attr5</th>\n",
              "      <th>Attr6</th>\n",
              "      <th>Attr7</th>\n",
              "      <th>Attr8</th>\n",
              "      <th>Attr9</th>\n",
              "      <th>Attr10</th>\n",
              "      <th>...</th>\n",
              "      <th>Attr56</th>\n",
              "      <th>Attr57</th>\n",
              "      <th>Attr58</th>\n",
              "      <th>Attr59</th>\n",
              "      <th>Attr60</th>\n",
              "      <th>Attr61</th>\n",
              "      <th>Attr62</th>\n",
              "      <th>Attr63</th>\n",
              "      <th>Attr64</th>\n",
              "      <th>class</th>\n",
              "    </tr>\n",
              "    <tr>\n",
              "      <th>company_id</th>\n",
              "      <th></th>\n",
              "      <th></th>\n",
              "      <th></th>\n",
              "      <th></th>\n",
              "      <th></th>\n",
              "      <th></th>\n",
              "      <th></th>\n",
              "      <th></th>\n",
              "      <th></th>\n",
              "      <th></th>\n",
              "      <th></th>\n",
              "      <th></th>\n",
              "      <th></th>\n",
              "      <th></th>\n",
              "      <th></th>\n",
              "      <th></th>\n",
              "      <th></th>\n",
              "      <th></th>\n",
              "      <th></th>\n",
              "      <th></th>\n",
              "      <th></th>\n",
              "    </tr>\n",
              "  </thead>\n",
              "  <tbody>\n",
              "    <tr>\n",
              "      <th>0</th>\n",
              "      <td>0.174190</td>\n",
              "      <td>0.41299</td>\n",
              "      <td>0.14371</td>\n",
              "      <td>1.3480</td>\n",
              "      <td>-28.9820</td>\n",
              "      <td>0.60383</td>\n",
              "      <td>0.219460</td>\n",
              "      <td>1.1225</td>\n",
              "      <td>1.1961</td>\n",
              "      <td>0.46359</td>\n",
              "      <td>...</td>\n",
              "      <td>0.163960</td>\n",
              "      <td>0.375740</td>\n",
              "      <td>0.83604</td>\n",
              "      <td>0.000007</td>\n",
              "      <td>9.7145</td>\n",
              "      <td>6.2813</td>\n",
              "      <td>84.291</td>\n",
              "      <td>4.3303</td>\n",
              "      <td>4.0341</td>\n",
              "      <td>0</td>\n",
              "    </tr>\n",
              "    <tr>\n",
              "      <th>1</th>\n",
              "      <td>0.146240</td>\n",
              "      <td>0.46038</td>\n",
              "      <td>0.28230</td>\n",
              "      <td>1.6294</td>\n",
              "      <td>2.5952</td>\n",
              "      <td>0.00000</td>\n",
              "      <td>0.171850</td>\n",
              "      <td>1.1721</td>\n",
              "      <td>1.6018</td>\n",
              "      <td>0.53962</td>\n",
              "      <td>...</td>\n",
              "      <td>0.027516</td>\n",
              "      <td>0.271000</td>\n",
              "      <td>0.90108</td>\n",
              "      <td>0.000000</td>\n",
              "      <td>5.9882</td>\n",
              "      <td>4.1103</td>\n",
              "      <td>102.190</td>\n",
              "      <td>3.5716</td>\n",
              "      <td>5.9500</td>\n",
              "      <td>0</td>\n",
              "    </tr>\n",
              "    <tr>\n",
              "      <th>2</th>\n",
              "      <td>0.000595</td>\n",
              "      <td>0.22612</td>\n",
              "      <td>0.48839</td>\n",
              "      <td>3.1599</td>\n",
              "      <td>84.8740</td>\n",
              "      <td>0.19114</td>\n",
              "      <td>0.004572</td>\n",
              "      <td>2.9881</td>\n",
              "      <td>1.0077</td>\n",
              "      <td>0.67566</td>\n",
              "      <td>...</td>\n",
              "      <td>0.007639</td>\n",
              "      <td>0.000881</td>\n",
              "      <td>0.99236</td>\n",
              "      <td>0.000000</td>\n",
              "      <td>6.7742</td>\n",
              "      <td>3.7922</td>\n",
              "      <td>64.846</td>\n",
              "      <td>5.6287</td>\n",
              "      <td>4.4581</td>\n",
              "      <td>0</td>\n",
              "    </tr>\n",
              "    <tr>\n",
              "      <th>3</th>\n",
              "      <td>0.024526</td>\n",
              "      <td>0.43236</td>\n",
              "      <td>0.27546</td>\n",
              "      <td>1.7833</td>\n",
              "      <td>-10.1050</td>\n",
              "      <td>0.56944</td>\n",
              "      <td>0.024526</td>\n",
              "      <td>1.3057</td>\n",
              "      <td>1.0509</td>\n",
              "      <td>0.56453</td>\n",
              "      <td>...</td>\n",
              "      <td>0.048398</td>\n",
              "      <td>0.043445</td>\n",
              "      <td>0.95160</td>\n",
              "      <td>0.142980</td>\n",
              "      <td>4.2286</td>\n",
              "      <td>5.0528</td>\n",
              "      <td>98.783</td>\n",
              "      <td>3.6950</td>\n",
              "      <td>3.4844</td>\n",
              "      <td>0</td>\n",
              "    </tr>\n",
              "    <tr>\n",
              "      <th>4</th>\n",
              "      <td>0.188290</td>\n",
              "      <td>0.41504</td>\n",
              "      <td>0.34231</td>\n",
              "      <td>1.9279</td>\n",
              "      <td>-58.2740</td>\n",
              "      <td>0.00000</td>\n",
              "      <td>0.233580</td>\n",
              "      <td>1.4094</td>\n",
              "      <td>1.3393</td>\n",
              "      <td>0.58496</td>\n",
              "      <td>...</td>\n",
              "      <td>0.176480</td>\n",
              "      <td>0.321880</td>\n",
              "      <td>0.82635</td>\n",
              "      <td>0.073039</td>\n",
              "      <td>2.5912</td>\n",
              "      <td>7.0756</td>\n",
              "      <td>100.540</td>\n",
              "      <td>3.6303</td>\n",
              "      <td>4.6375</td>\n",
              "      <td>0</td>\n",
              "    </tr>\n",
              "  </tbody>\n",
              "</table>\n",
              "<p>5 rows × 65 columns</p>\n",
              "</div>\n",
              "      <button class=\"colab-df-convert\" onclick=\"convertToInteractive('df-725a30a0-d6c8-449a-b935-5c19a9dc41d4')\"\n",
              "              title=\"Convert this dataframe to an interactive table.\"\n",
              "              style=\"display:none;\">\n",
              "\n",
              "  <svg xmlns=\"http://www.w3.org/2000/svg\" height=\"24px\"viewBox=\"0 0 24 24\"\n",
              "       width=\"24px\">\n",
              "    <path d=\"M0 0h24v24H0V0z\" fill=\"none\"/>\n",
              "    <path d=\"M18.56 5.44l.94 2.06.94-2.06 2.06-.94-2.06-.94-.94-2.06-.94 2.06-2.06.94zm-11 1L8.5 8.5l.94-2.06 2.06-.94-2.06-.94L8.5 2.5l-.94 2.06-2.06.94zm10 10l.94 2.06.94-2.06 2.06-.94-2.06-.94-.94-2.06-.94 2.06-2.06.94z\"/><path d=\"M17.41 7.96l-1.37-1.37c-.4-.4-.92-.59-1.43-.59-.52 0-1.04.2-1.43.59L10.3 9.45l-7.72 7.72c-.78.78-.78 2.05 0 2.83L4 21.41c.39.39.9.59 1.41.59.51 0 1.02-.2 1.41-.59l7.78-7.78 2.81-2.81c.8-.78.8-2.07 0-2.86zM5.41 20L4 18.59l7.72-7.72 1.47 1.35L5.41 20z\"/>\n",
              "  </svg>\n",
              "      </button>\n",
              "\n",
              "\n",
              "\n",
              "    <div id=\"df-c694196b-72e5-4183-90e3-014ce2b852f8\">\n",
              "      <button class=\"colab-df-quickchart\" onclick=\"quickchart('df-c694196b-72e5-4183-90e3-014ce2b852f8')\"\n",
              "              title=\"Suggest charts.\"\n",
              "              style=\"display:none;\">\n",
              "\n",
              "<svg xmlns=\"http://www.w3.org/2000/svg\" height=\"24px\"viewBox=\"0 0 24 24\"\n",
              "     width=\"24px\">\n",
              "    <g>\n",
              "        <path d=\"M19 3H5c-1.1 0-2 .9-2 2v14c0 1.1.9 2 2 2h14c1.1 0 2-.9 2-2V5c0-1.1-.9-2-2-2zM9 17H7v-7h2v7zm4 0h-2V7h2v10zm4 0h-2v-4h2v4z\"/>\n",
              "    </g>\n",
              "</svg>\n",
              "      </button>\n",
              "    </div>\n",
              "\n",
              "<style>\n",
              "  .colab-df-quickchart {\n",
              "    background-color: #E8F0FE;\n",
              "    border: none;\n",
              "    border-radius: 50%;\n",
              "    cursor: pointer;\n",
              "    display: none;\n",
              "    fill: #1967D2;\n",
              "    height: 32px;\n",
              "    padding: 0 0 0 0;\n",
              "    width: 32px;\n",
              "  }\n",
              "\n",
              "  .colab-df-quickchart:hover {\n",
              "    background-color: #E2EBFA;\n",
              "    box-shadow: 0px 1px 2px rgba(60, 64, 67, 0.3), 0px 1px 3px 1px rgba(60, 64, 67, 0.15);\n",
              "    fill: #174EA6;\n",
              "  }\n",
              "\n",
              "  [theme=dark] .colab-df-quickchart {\n",
              "    background-color: #3B4455;\n",
              "    fill: #D2E3FC;\n",
              "  }\n",
              "\n",
              "  [theme=dark] .colab-df-quickchart:hover {\n",
              "    background-color: #434B5C;\n",
              "    box-shadow: 0px 1px 3px 1px rgba(0, 0, 0, 0.15);\n",
              "    filter: drop-shadow(0px 1px 2px rgba(0, 0, 0, 0.3));\n",
              "    fill: #FFFFFF;\n",
              "  }\n",
              "</style>\n",
              "\n",
              "    <script>\n",
              "      async function quickchart(key) {\n",
              "        const containerElement = document.querySelector('#' + key);\n",
              "        const charts = await google.colab.kernel.invokeFunction(\n",
              "            'suggestCharts', [key], {});\n",
              "      }\n",
              "    </script>\n",
              "\n",
              "      <script>\n",
              "\n",
              "function displayQuickchartButton(domScope) {\n",
              "  let quickchartButtonEl =\n",
              "    domScope.querySelector('#df-c694196b-72e5-4183-90e3-014ce2b852f8 button.colab-df-quickchart');\n",
              "  quickchartButtonEl.style.display =\n",
              "    google.colab.kernel.accessAllowed ? 'block' : 'none';\n",
              "}\n",
              "\n",
              "        displayQuickchartButton(document);\n",
              "      </script>\n",
              "      <style>\n",
              "    .colab-df-container {\n",
              "      display:flex;\n",
              "      flex-wrap:wrap;\n",
              "      gap: 12px;\n",
              "    }\n",
              "\n",
              "    .colab-df-convert {\n",
              "      background-color: #E8F0FE;\n",
              "      border: none;\n",
              "      border-radius: 50%;\n",
              "      cursor: pointer;\n",
              "      display: none;\n",
              "      fill: #1967D2;\n",
              "      height: 32px;\n",
              "      padding: 0 0 0 0;\n",
              "      width: 32px;\n",
              "    }\n",
              "\n",
              "    .colab-df-convert:hover {\n",
              "      background-color: #E2EBFA;\n",
              "      box-shadow: 0px 1px 2px rgba(60, 64, 67, 0.3), 0px 1px 3px 1px rgba(60, 64, 67, 0.15);\n",
              "      fill: #174EA6;\n",
              "    }\n",
              "\n",
              "    [theme=dark] .colab-df-convert {\n",
              "      background-color: #3B4455;\n",
              "      fill: #D2E3FC;\n",
              "    }\n",
              "\n",
              "    [theme=dark] .colab-df-convert:hover {\n",
              "      background-color: #434B5C;\n",
              "      box-shadow: 0px 1px 3px 1px rgba(0, 0, 0, 0.15);\n",
              "      filter: drop-shadow(0px 1px 2px rgba(0, 0, 0, 0.3));\n",
              "      fill: #FFFFFF;\n",
              "    }\n",
              "  </style>\n",
              "\n",
              "      <script>\n",
              "        const buttonEl =\n",
              "          document.querySelector('#df-725a30a0-d6c8-449a-b935-5c19a9dc41d4 button.colab-df-convert');\n",
              "        buttonEl.style.display =\n",
              "          google.colab.kernel.accessAllowed ? 'block' : 'none';\n",
              "\n",
              "        async function convertToInteractive(key) {\n",
              "          const element = document.querySelector('#df-725a30a0-d6c8-449a-b935-5c19a9dc41d4');\n",
              "          const dataTable =\n",
              "            await google.colab.kernel.invokeFunction('convertToInteractive',\n",
              "                                                     [key], {});\n",
              "          if (!dataTable) return;\n",
              "\n",
              "          const docLinkHtml = 'Like what you see? Visit the ' +\n",
              "            '<a target=\"_blank\" href=https://colab.research.google.com/notebooks/data_table.ipynb>data table notebook</a>'\n",
              "            + ' to learn more about interactive tables.';\n",
              "          element.innerHTML = '';\n",
              "          dataTable['output_type'] = 'display_data';\n",
              "          await google.colab.output.renderOutput(dataTable, element);\n",
              "          const docLink = document.createElement('div');\n",
              "          docLink.innerHTML = docLinkHtml;\n",
              "          element.appendChild(docLink);\n",
              "        }\n",
              "      </script>\n",
              "    </div>\n",
              "  </div>\n"
            ]
          },
          "metadata": {},
          "execution_count": 15
        }
      ]
    },
    {
      "cell_type": "code",
      "source": [
        "df[df['class']==1].shape[0], df[df['class']==0].shape[0] , df[df['class']==1].shape[0]+df[df['class']==0].shape[0]"
      ],
      "metadata": {
        "colab": {
          "base_uri": "https://localhost:8080/"
        },
        "id": "HFp_sJyPLWuV",
        "outputId": "cef48901-6261-4789-9c0d-e0db9718cd78"
      },
      "execution_count": 16,
      "outputs": [
        {
          "output_type": "execute_result",
          "data": {
            "text/plain": [
              "(495, 10008, 10503)"
            ]
          },
          "metadata": {},
          "execution_count": 16
        }
      ]
    },
    {
      "cell_type": "markdown",
      "source": [
        "# Imbalanced Data Problem"
      ],
      "metadata": {
        "id": "YdMLVl9bO2Fp"
      }
    },
    {
      "cell_type": "code",
      "source": [
        "df['class'].value_counts(normalize=True).plot(kind='bar')\n",
        "plt.ylabel(\"Frequency\")\n",
        "plt.xlabel(\"Bankrupt\")\n",
        "plt.title(\"Class Balance\");"
      ],
      "metadata": {
        "colab": {
          "base_uri": "https://localhost:8080/",
          "height": 467
        },
        "id": "o67D3_FiNK8X",
        "outputId": "af8630d2-48c0-4c88-a84d-dea4cd89696d"
      },
      "execution_count": 17,
      "outputs": [
        {
          "output_type": "display_data",
          "data": {
            "text/plain": [
              "<Figure size 640x480 with 1 Axes>"
            ],
            "image/png": "[encoded data removed]"
          },
          "metadata": {}
        }
      ]
    },
    {
      "cell_type": "markdown",
      "source": [
        "# Explore some features\n"
      ],
      "metadata": {
        "id": "lQnjrV2RX0qd"
      }
    },
    {
      "cell_type": "code",
      "source": [
        "# Summary statistics for `Attrb27`\n",
        "df[\"Attr27\"].describe().apply(\"{0:,.0f}\".format)"
      ],
      "metadata": {
        "colab": {
          "base_uri": "https://localhost:8080/"
        },
        "id": "qr9CIGsXVgbJ",
        "outputId": "e594fe55-0238-4203-b6e2-5d428b6fd1d6"
      },
      "execution_count": 18,
      "outputs": [
        {
          "output_type": "execute_result",
          "data": {
            "text/plain": [
              "count        9,788\n",
              "mean         1,186\n",
              "std         34,691\n",
              "min       -190,130\n",
              "25%              0\n",
              "50%              1\n",
              "75%              5\n",
              "max      2,723,000\n",
              "Name: Attr27, dtype: object"
            ]
          },
          "metadata": {},
          "execution_count": 18
        }
      ]
    },
    {
      "cell_type": "markdown",
      "source": [
        "# This feature is skewed to the right! ( mean is over 1000 and median is around 1 )"
      ],
      "metadata": {
        "id": "Z9fijb-5ZuNX"
      }
    },
    {
      "cell_type": "code",
      "source": [
        "# Create a histogram"
      ],
      "metadata": {
        "id": "-ykPurxEYycv"
      },
      "execution_count": 19,
      "outputs": []
    },
    {
      "cell_type": "code",
      "source": [
        "# Plot histogram of `feat_27`\n",
        "df['Attr27'].hist()\n",
        "plt.xlabel(\"Profit On Operating Activities / Financial Expenses \")\n",
        "plt.ylabel(\"Count\"),\n",
        "plt.title(\"Distribution of Profit/Expenses Ratio\");"
      ],
      "metadata": {
        "colab": {
          "base_uri": "https://localhost:8080/",
          "height": 472
        },
        "id": "FHnxBTxzaOKW",
        "outputId": "dec16faa-3579-4d01-fc61-1694d3fa166c"
      },
      "execution_count": 20,
      "outputs": [
        {
          "output_type": "display_data",
          "data": {
            "text/plain": [
              "<Figure size 640x480 with 1 Axes>"
            ],
            "image/png": "[encoded data removed]"
          },
          "metadata": {}
        }
      ]
    },
    {
      "cell_type": "code",
      "source": [
        "# Trim the data\n",
        "q1,q9=df['Attr27'].quantile([0.1,0.9])\n",
        "print(q1,q9)\n",
        "mask=df['Attr27'].between(q1,q9)\n",
        "mask.head()"
      ],
      "metadata": {
        "colab": {
          "base_uri": "https://localhost:8080/"
        },
        "id": "miM0G1vOa6sE",
        "outputId": "df061ac0-3699-49fc-8d38-58ae59f0d05f"
      },
      "execution_count": 21,
      "outputs": [
        {
          "output_type": "stream",
          "name": "stdout",
          "text": [
            "-2.0482499999999995 27.709100000000007\n"
          ]
        },
        {
          "output_type": "execute_result",
          "data": {
            "text/plain": [
              "company_id\n",
              "0     True\n",
              "1    False\n",
              "2     True\n",
              "3     True\n",
              "4    False\n",
              "Name: Attr27, dtype: bool"
            ]
          },
          "metadata": {},
          "execution_count": 21
        }
      ]
    },
    {
      "cell_type": "code",
      "source": [
        "# Create clipped boxplot\n",
        "sns.boxplot(x=\"class\",y=\"Attr27\",data=df[mask])\n",
        "plt.xlabel(\"Bankrupt\")\n",
        "plt.ylabel(\"POA / financial expenses\")\n",
        "plt.title(\"Distribution of Profit/Expenses Ratio, by Bankruptcy Status\");"
      ],
      "metadata": {
        "colab": {
          "base_uri": "https://localhost:8080/",
          "height": 472
        },
        "id": "Uj3SVJI1bf7h",
        "outputId": "ab50723b-37ec-4a55-fec3-e273af7e5e2e"
      },
      "execution_count": 22,
      "outputs": [
        {
          "output_type": "display_data",
          "data": {
            "text/plain": [
              "<Figure size 640x480 with 1 Axes>"
            ],
            "image/png": "[encoded data removed]"
          },
          "metadata": {}
        }
      ]
    },
    {
      "cell_type": "code",
      "source": [
        "# Summary statistics of another feature like `Attrb2`\n",
        "df[\"Attr32\"].describe().apply(\"{0:,.0f}\".format)"
      ],
      "metadata": {
        "colab": {
          "base_uri": "https://localhost:8080/"
        },
        "id": "L0UeE4m4bnge",
        "outputId": "bf7a26c5-aaf4-45c3-e4d3-4f80d3776cd8"
      },
      "execution_count": 23,
      "outputs": [
        {
          "output_type": "execute_result",
          "data": {
            "text/plain": [
              "count       10,402\n",
              "mean         1,172\n",
              "std         68,413\n",
              "min         -9,296\n",
              "25%             45\n",
              "50%             78\n",
              "75%            129\n",
              "max      6,674,200\n",
              "Name: Attr32, dtype: object"
            ]
          },
          "metadata": {},
          "execution_count": 23
        }
      ]
    },
    {
      "cell_type": "markdown",
      "source": [
        "## Also Skewed * we must consider suitable model *"
      ],
      "metadata": {
        "id": "Jxt0mATEIWFZ"
      }
    },
    {
      "cell_type": "markdown",
      "source": [
        "# Check Multicollinearity"
      ],
      "metadata": {
        "id": "MSzHEu1dIofM"
      }
    },
    {
      "cell_type": "code",
      "source": [
        "corr = df.drop(columns=['class']).corr()\n",
        "sns.heatmap(corr);"
      ],
      "metadata": {
        "colab": {
          "base_uri": "https://localhost:8080/",
          "height": 465
        },
        "id": "bJzvXL-aH6fQ",
        "outputId": "c019fdb1-6529-4c16-859c-a4b1356522a2"
      },
      "execution_count": 24,
      "outputs": [
        {
          "output_type": "display_data",
          "data": {
            "text/plain": [
              "<Figure size 640x480 with 2 Axes>"
            ],
            "image/png": "[encoded data removed]"
          },
          "metadata": {}
        }
      ]
    },
    {
      "cell_type": "markdown",
      "source": [
        "## We have autocorrelation issues, which means that we should steer clear of linear models"
      ],
      "metadata": {
        "id": "0b9gTGC0JODX"
      }
    },
    {
      "cell_type": "markdown",
      "source": [
        "# **Split**"
      ],
      "metadata": {
        "id": "jnaEhE9XJWsH"
      }
    },
    {
      "cell_type": "code",
      "source": [
        "target = \"class\"\n",
        "X = df.drop(columns=[target])\n",
        "y = df[target]\n",
        "\n",
        "print(\"X shape:\", X.shape)\n",
        "print(\"y shape:\", y.shape)"
      ],
      "metadata": {
        "colab": {
          "base_uri": "https://localhost:8080/"
        },
        "id": "BtqmD71iI3JJ",
        "outputId": "bbba8ef5-6e56-4f78-f8af-03bb55cc5403"
      },
      "execution_count": 25,
      "outputs": [
        {
          "output_type": "stream",
          "name": "stdout",
          "text": [
            "X shape: (10503, 64)\n",
            "y shape: (10503,)\n"
          ]
        }
      ]
    },
    {
      "cell_type": "code",
      "source": [
        "X_train, X_test, y_train, y_test = train_test_split(X,y,test_size=0.2,random_state=42)\n",
        "\n",
        "print(\"X_train shape:\", X_train.shape)\n",
        "print(\"y_train shape:\", y_train.shape)\n",
        "print(\"X_test shape:\", X_test.shape)\n",
        "print(\"y_test shape:\", y_test.shape)"
      ],
      "metadata": {
        "colab": {
          "base_uri": "https://localhost:8080/"
        },
        "id": "_9j-KUMYJcd8",
        "outputId": "cae1c164-49b5-4229-e4c7-260eecbf4ec6"
      },
      "execution_count": 26,
      "outputs": [
        {
          "output_type": "stream",
          "name": "stdout",
          "text": [
            "X_train shape: (8402, 64)\n",
            "y_train shape: (8402,)\n",
            "X_test shape: (2101, 64)\n",
            "y_test shape: (2101,)\n"
          ]
        }
      ]
    },
    {
      "cell_type": "markdown",
      "source": [
        "## **Resample**"
      ],
      "metadata": {
        "id": "WerEMtFVJ8qy"
      }
    },
    {
      "cell_type": "code",
      "source": [
        "# In order to handle the problem of imbalanced data"
      ],
      "metadata": {
        "id": "royUs1BbJsNy"
      },
      "execution_count": 27,
      "outputs": []
    },
    {
      "cell_type": "code",
      "source": [
        "# Undersampling (reduce observations in the majority class randomly)\n",
        "under_sampler = RandomUnderSampler(random_state=42)\n",
        "X_train_under, y_train_under =under_sampler.fit_resample(X_train,y_train)\n",
        "print(X_train_under.shape)\n",
        "X_train_under.head()"
      ],
      "metadata": {
        "colab": {
          "base_uri": "https://localhost:8080/",
          "height": 253
        },
        "id": "FROouUVVKF26",
        "outputId": "96029397-cc0c-4266-939e-42d5ddab49d1"
      },
      "execution_count": 28,
      "outputs": [
        {
          "output_type": "stream",
          "name": "stdout",
          "text": [
            "(776, 64)\n"
          ]
        },
        {
          "output_type": "execute_result",
          "data": {
            "text/plain": [
              "      Attr1    Attr2     Attr3    Attr4     Attr5     Attr6     Attr7  \\\n",
              "0  0.006047  0.55783  0.409520  1.73410    3.9252  0.000000  0.006047   \n",
              "1 -0.028712  0.47265 -0.031601  0.93314  815.8700 -0.026679 -0.028712   \n",
              "2  0.096043  0.59468  0.015333  1.02710  -99.2660  0.000000  0.096043   \n",
              "3  0.082480  0.77894  0.272710  1.47150   -6.5337  0.082480  0.110100   \n",
              "4  0.001164  0.66895  0.018791  1.02810  -59.2060  0.156500  0.004810   \n",
              "\n",
              "     Attr8   Attr9   Attr10  ...    Attr55    Attr56    Attr57    Attr58  \\\n",
              "0  0.79265  4.3806  0.44217  ...   915.550  0.999700  0.013677  0.001607   \n",
              "1  1.11570  2.1434  0.52735  ...   -26.152 -0.010802 -0.054445  1.013400   \n",
              "2  0.68157  1.8370  0.40532  ...   193.370  0.615250  0.236960  0.384980   \n",
              "3  0.28026  1.0564  0.21831  ...  2845.600  0.053404  0.377820  0.946600   \n",
              "4  0.48068  1.0373  0.32155  ...  1840.000  0.035919  0.003621  0.964080   \n",
              "\n",
              "    Attr59   Attr60   Attr61   Attr62  Attr63    Attr64  \n",
              "0  0.00000   9.9684  10.8710   46.480  7.8529  134.2000  \n",
              "1  0.00000  14.9890  18.3080   80.489  4.5348    3.8346  \n",
              "2  0.00000   9.3786   7.1775  112.380  3.2479    4.3832  \n",
              "3  0.91855  10.7670   8.0951   60.668  6.0164   23.3750  \n",
              "4  0.00000   6.1276   7.6146  104.560  3.4907    7.4782  \n",
              "\n",
              "[5 rows x 64 columns]"
            ],
            "text/html": [
              "\n",
              "\n",
              "  <div id=\"df-96863190-078e-4cc1-8189-19f5a4207c29\">\n",
              "    <div class=\"colab-df-container\">\n",
              "      <div>\n",
              "<style scoped>\n",
              "    .dataframe tbody tr th:only-of-type {\n",
              "        vertical-align: middle;\n",
              "    }\n",
              "\n",
              "    .dataframe tbody tr th {\n",
              "        vertical-align: top;\n",
              "    }\n",
              "\n",
              "    .dataframe thead th {\n",
              "        text-align: right;\n",
              "    }\n",
              "</style>\n",
              "<table border=\"1\" class=\"dataframe\">\n",
              "  <thead>\n",
              "    <tr style=\"text-align: right;\">\n",
              "      <th></th>\n",
              "      <th>Attr1</th>\n",
              "      <th>Attr2</th>\n",
              "      <th>Attr3</th>\n",
              "      <th>Attr4</th>\n",
              "      <th>Attr5</th>\n",
              "      <th>Attr6</th>\n",
              "      <th>Attr7</th>\n",
              "      <th>Attr8</th>\n",
              "      <th>Attr9</th>\n",
              "      <th>Attr10</th>\n",
              "      <th>...</th>\n",
              "      <th>Attr55</th>\n",
              "      <th>Attr56</th>\n",
              "      <th>Attr57</th>\n",
              "      <th>Attr58</th>\n",
              "      <th>Attr59</th>\n",
              "      <th>Attr60</th>\n",
              "      <th>Attr61</th>\n",
              "      <th>Attr62</th>\n",
              "      <th>Attr63</th>\n",
              "      <th>Attr64</th>\n",
              "    </tr>\n",
              "  </thead>\n",
              "  <tbody>\n",
              "    <tr>\n",
              "      <th>0</th>\n",
              "      <td>0.006047</td>\n",
              "      <td>0.55783</td>\n",
              "      <td>0.409520</td>\n",
              "      <td>1.73410</td>\n",
              "      <td>3.9252</td>\n",
              "      <td>0.000000</td>\n",
              "      <td>0.006047</td>\n",
              "      <td>0.79265</td>\n",
              "      <td>4.3806</td>\n",
              "      <td>0.44217</td>\n",
              "      <td>...</td>\n",
              "      <td>915.550</td>\n",
              "      <td>0.999700</td>\n",
              "      <td>0.013677</td>\n",
              "      <td>0.001607</td>\n",
              "      <td>0.00000</td>\n",
              "      <td>9.9684</td>\n",
              "      <td>10.8710</td>\n",
              "      <td>46.480</td>\n",
              "      <td>7.8529</td>\n",
              "      <td>134.2000</td>\n",
              "    </tr>\n",
              "    <tr>\n",
              "      <th>1</th>\n",
              "      <td>-0.028712</td>\n",
              "      <td>0.47265</td>\n",
              "      <td>-0.031601</td>\n",
              "      <td>0.93314</td>\n",
              "      <td>815.8700</td>\n",
              "      <td>-0.026679</td>\n",
              "      <td>-0.028712</td>\n",
              "      <td>1.11570</td>\n",
              "      <td>2.1434</td>\n",
              "      <td>0.52735</td>\n",
              "      <td>...</td>\n",
              "      <td>-26.152</td>\n",
              "      <td>-0.010802</td>\n",
              "      <td>-0.054445</td>\n",
              "      <td>1.013400</td>\n",
              "      <td>0.00000</td>\n",
              "      <td>14.9890</td>\n",
              "      <td>18.3080</td>\n",
              "      <td>80.489</td>\n",
              "      <td>4.5348</td>\n",
              "      <td>3.8346</td>\n",
              "    </tr>\n",
              "    <tr>\n",
              "      <th>2</th>\n",
              "      <td>0.096043</td>\n",
              "      <td>0.59468</td>\n",
              "      <td>0.015333</td>\n",
              "      <td>1.02710</td>\n",
              "      <td>-99.2660</td>\n",
              "      <td>0.000000</td>\n",
              "      <td>0.096043</td>\n",
              "      <td>0.68157</td>\n",
              "      <td>1.8370</td>\n",
              "      <td>0.40532</td>\n",
              "      <td>...</td>\n",
              "      <td>193.370</td>\n",
              "      <td>0.615250</td>\n",
              "      <td>0.236960</td>\n",
              "      <td>0.384980</td>\n",
              "      <td>0.00000</td>\n",
              "      <td>9.3786</td>\n",
              "      <td>7.1775</td>\n",
              "      <td>112.380</td>\n",
              "      <td>3.2479</td>\n",
              "      <td>4.3832</td>\n",
              "    </tr>\n",
              "    <tr>\n",
              "      <th>3</th>\n",
              "      <td>0.082480</td>\n",
              "      <td>0.77894</td>\n",
              "      <td>0.272710</td>\n",
              "      <td>1.47150</td>\n",
              "      <td>-6.5337</td>\n",
              "      <td>0.082480</td>\n",
              "      <td>0.110100</td>\n",
              "      <td>0.28026</td>\n",
              "      <td>1.0564</td>\n",
              "      <td>0.21831</td>\n",
              "      <td>...</td>\n",
              "      <td>2845.600</td>\n",
              "      <td>0.053404</td>\n",
              "      <td>0.377820</td>\n",
              "      <td>0.946600</td>\n",
              "      <td>0.91855</td>\n",
              "      <td>10.7670</td>\n",
              "      <td>8.0951</td>\n",
              "      <td>60.668</td>\n",
              "      <td>6.0164</td>\n",
              "      <td>23.3750</td>\n",
              "    </tr>\n",
              "    <tr>\n",
              "      <th>4</th>\n",
              "      <td>0.001164</td>\n",
              "      <td>0.66895</td>\n",
              "      <td>0.018791</td>\n",
              "      <td>1.02810</td>\n",
              "      <td>-59.2060</td>\n",
              "      <td>0.156500</td>\n",
              "      <td>0.004810</td>\n",
              "      <td>0.48068</td>\n",
              "      <td>1.0373</td>\n",
              "      <td>0.32155</td>\n",
              "      <td>...</td>\n",
              "      <td>1840.000</td>\n",
              "      <td>0.035919</td>\n",
              "      <td>0.003621</td>\n",
              "      <td>0.964080</td>\n",
              "      <td>0.00000</td>\n",
              "      <td>6.1276</td>\n",
              "      <td>7.6146</td>\n",
              "      <td>104.560</td>\n",
              "      <td>3.4907</td>\n",
              "      <td>7.4782</td>\n",
              "    </tr>\n",
              "  </tbody>\n",
              "</table>\n",
              "<p>5 rows × 64 columns</p>\n",
              "</div>\n",
              "      <button class=\"colab-df-convert\" onclick=\"convertToInteractive('df-96863190-078e-4cc1-8189-19f5a4207c29')\"\n",
              "              title=\"Convert this dataframe to an interactive table.\"\n",
              "              style=\"display:none;\">\n",
              "\n",
              "  <svg xmlns=\"http://www.w3.org/2000/svg\" height=\"24px\"viewBox=\"0 0 24 24\"\n",
              "       width=\"24px\">\n",
              "    <path d=\"M0 0h24v24H0V0z\" fill=\"none\"/>\n",
              "    <path d=\"M18.56 5.44l.94 2.06.94-2.06 2.06-.94-2.06-.94-.94-2.06-.94 2.06-2.06.94zm-11 1L8.5 8.5l.94-2.06 2.06-.94-2.06-.94L8.5 2.5l-.94 2.06-2.06.94zm10 10l.94 2.06.94-2.06 2.06-.94-2.06-.94-.94-2.06-.94 2.06-2.06.94z\"/><path d=\"M17.41 7.96l-1.37-1.37c-.4-.4-.92-.59-1.43-.59-.52 0-1.04.2-1.43.59L10.3 9.45l-7.72 7.72c-.78.78-.78 2.05 0 2.83L4 21.41c.39.39.9.59 1.41.59.51 0 1.02-.2 1.41-.59l7.78-7.78 2.81-2.81c.8-.78.8-2.07 0-2.86zM5.41 20L4 18.59l7.72-7.72 1.47 1.35L5.41 20z\"/>\n",
              "  </svg>\n",
              "      </button>\n",
              "\n",
              "\n",
              "\n",
              "    <div id=\"df-0fc99bfc-3e72-414b-97ed-6f53db1546c3\">\n",
              "      <button class=\"colab-df-quickchart\" onclick=\"quickchart('df-0fc99bfc-3e72-414b-97ed-6f53db1546c3')\"\n",
              "              title=\"Suggest charts.\"\n",
              "              style=\"display:none;\">\n",
              "\n",
              "<svg xmlns=\"http://www.w3.org/2000/svg\" height=\"24px\"viewBox=\"0 0 24 24\"\n",
              "     width=\"24px\">\n",
              "    <g>\n",
              "        <path d=\"M19 3H5c-1.1 0-2 .9-2 2v14c0 1.1.9 2 2 2h14c1.1 0 2-.9 2-2V5c0-1.1-.9-2-2-2zM9 17H7v-7h2v7zm4 0h-2V7h2v10zm4 0h-2v-4h2v4z\"/>\n",
              "    </g>\n",
              "</svg>\n",
              "      </button>\n",
              "    </div>\n",
              "\n",
              "<style>\n",
              "  .colab-df-quickchart {\n",
              "    background-color: #E8F0FE;\n",
              "    border: none;\n",
              "    border-radius: 50%;\n",
              "    cursor: pointer;\n",
              "    display: none;\n",
              "    fill: #1967D2;\n",
              "    height: 32px;\n",
              "    padding: 0 0 0 0;\n",
              "    width: 32px;\n",
              "  }\n",
              "\n",
              "  .colab-df-quickchart:hover {\n",
              "    background-color: #E2EBFA;\n",
              "    box-shadow: 0px 1px 2px rgba(60, 64, 67, 0.3), 0px 1px 3px 1px rgba(60, 64, 67, 0.15);\n",
              "    fill: #174EA6;\n",
              "  }\n",
              "\n",
              "  [theme=dark] .colab-df-quickchart {\n",
              "    background-color: #3B4455;\n",
              "    fill: #D2E3FC;\n",
              "  }\n",
              "\n",
              "  [theme=dark] .colab-df-quickchart:hover {\n",
              "    background-color: #434B5C;\n",
              "    box-shadow: 0px 1px 3px 1px rgba(0, 0, 0, 0.15);\n",
              "    filter: drop-shadow(0px 1px 2px rgba(0, 0, 0, 0.3));\n",
              "    fill: #FFFFFF;\n",
              "  }\n",
              "</style>\n",
              "\n",
              "    <script>\n",
              "      async function quickchart(key) {\n",
              "        const containerElement = document.querySelector('#' + key);\n",
              "        const charts = await google.colab.kernel.invokeFunction(\n",
              "            'suggestCharts', [key], {});\n",
              "      }\n",
              "    </script>\n",
              "\n",
              "      <script>\n",
              "\n",
              "function displayQuickchartButton(domScope) {\n",
              "  let quickchartButtonEl =\n",
              "    domScope.querySelector('#df-0fc99bfc-3e72-414b-97ed-6f53db1546c3 button.colab-df-quickchart');\n",
              "  quickchartButtonEl.style.display =\n",
              "    google.colab.kernel.accessAllowed ? 'block' : 'none';\n",
              "}\n",
              "\n",
              "        displayQuickchartButton(document);\n",
              "      </script>\n",
              "      <style>\n",
              "    .colab-df-container {\n",
              "      display:flex;\n",
              "      flex-wrap:wrap;\n",
              "      gap: 12px;\n",
              "    }\n",
              "\n",
              "    .colab-df-convert {\n",
              "      background-color: #E8F0FE;\n",
              "      border: none;\n",
              "      border-radius: 50%;\n",
              "      cursor: pointer;\n",
              "      display: none;\n",
              "      fill: #1967D2;\n",
              "      height: 32px;\n",
              "      padding: 0 0 0 0;\n",
              "      width: 32px;\n",
              "    }\n",
              "\n",
              "    .colab-df-convert:hover {\n",
              "      background-color: #E2EBFA;\n",
              "      box-shadow: 0px 1px 2px rgba(60, 64, 67, 0.3), 0px 1px 3px 1px rgba(60, 64, 67, 0.15);\n",
              "      fill: #174EA6;\n",
              "    }\n",
              "\n",
              "    [theme=dark] .colab-df-convert {\n",
              "      background-color: #3B4455;\n",
              "      fill: #D2E3FC;\n",
              "    }\n",
              "\n",
              "    [theme=dark] .colab-df-convert:hover {\n",
              "      background-color: #434B5C;\n",
              "      box-shadow: 0px 1px 3px 1px rgba(0, 0, 0, 0.15);\n",
              "      filter: drop-shadow(0px 1px 2px rgba(0, 0, 0, 0.3));\n",
              "      fill: #FFFFFF;\n",
              "    }\n",
              "  </style>\n",
              "\n",
              "      <script>\n",
              "        const buttonEl =\n",
              "          document.querySelector('#df-96863190-078e-4cc1-8189-19f5a4207c29 button.colab-df-convert');\n",
              "        buttonEl.style.display =\n",
              "          google.colab.kernel.accessAllowed ? 'block' : 'none';\n",
              "\n",
              "        async function convertToInteractive(key) {\n",
              "          const element = document.querySelector('#df-96863190-078e-4cc1-8189-19f5a4207c29');\n",
              "          const dataTable =\n",
              "            await google.colab.kernel.invokeFunction('convertToInteractive',\n",
              "                                                     [key], {});\n",
              "          if (!dataTable) return;\n",
              "\n",
              "          const docLinkHtml = 'Like what you see? Visit the ' +\n",
              "            '<a target=\"_blank\" href=https://colab.research.google.com/notebooks/data_table.ipynb>data table notebook</a>'\n",
              "            + ' to learn more about interactive tables.';\n",
              "          element.innerHTML = '';\n",
              "          dataTable['output_type'] = 'display_data';\n",
              "          await google.colab.output.renderOutput(dataTable, element);\n",
              "          const docLink = document.createElement('div');\n",
              "          docLink.innerHTML = docLinkHtml;\n",
              "          element.appendChild(docLink);\n",
              "        }\n",
              "      </script>\n",
              "    </div>\n",
              "  </div>\n"
            ]
          },
          "metadata": {},
          "execution_count": 28
        }
      ]
    },
    {
      "cell_type": "code",
      "source": [
        "y_train_under.value_counts(normalize=True)"
      ],
      "metadata": {
        "colab": {
          "base_uri": "https://localhost:8080/"
        },
        "id": "QXEGt6IBKkJe",
        "outputId": "6a72f42d-ab22-41d8-c6c9-65840c51d3e8"
      },
      "execution_count": 29,
      "outputs": [
        {
          "output_type": "execute_result",
          "data": {
            "text/plain": [
              "0    0.5\n",
              "1    0.5\n",
              "Name: class, dtype: float64"
            ]
          },
          "metadata": {},
          "execution_count": 29
        }
      ]
    },
    {
      "cell_type": "code",
      "source": [
        "# Oversampling (increases the number of observations in the minority class by randomly making copies of the existing observations)\n",
        "over_sampler = RandomOverSampler(random_state=42)\n",
        "X_train_over, y_train_over =over_sampler.fit_resample(X_train,y_train)\n",
        "print(X_train_over.shape)\n",
        "X_train_over.head()"
      ],
      "metadata": {
        "colab": {
          "base_uri": "https://localhost:8080/",
          "height": 253
        },
        "id": "rIukWlipKqQ7",
        "outputId": "d9318ad7-d9ff-4eae-987f-1f5fd866bbf1"
      },
      "execution_count": 30,
      "outputs": [
        {
          "output_type": "stream",
          "name": "stdout",
          "text": [
            "(16028, 64)\n"
          ]
        },
        {
          "output_type": "execute_result",
          "data": {
            "text/plain": [
              "      Attr1    Attr2     Attr3    Attr4    Attr5    Attr6     Attr7   Attr8  \\\n",
              "0  0.013739  0.48424  0.335830  3.28400   28.116  0.00000  0.017206  1.0651   \n",
              "1  0.055586  0.28747  0.340460  2.21220   41.783  0.15219  0.065999  2.1786   \n",
              "2  0.125190  0.21204 -0.043561  0.76704  -26.932  0.42740  0.155220  3.7142   \n",
              "3  0.271490  0.34761  0.419280  2.24250  300.000  0.12908  0.303200  1.8768   \n",
              "4  0.485420  0.38138  0.618620  2.62200  372.120  0.00000  0.596450  1.6220   \n",
              "\n",
              "     Attr9   Attr10  ...   Attr55    Attr56    Attr57   Attr58    Attr59  \\\n",
              "0  1.36290  0.51576  ...  5550.80  0.014543  0.026638  0.98749  0.000000   \n",
              "1  0.92951  0.62626  ...  5034.80 -0.075836  0.088758  1.07580  0.010533   \n",
              "2  1.17620  0.78757  ... -5127.20  0.149790  0.158960  0.85021  0.031808   \n",
              "3  8.68160  0.65239  ...  1322.00  0.038724  0.416140  0.98078  0.000000   \n",
              "4  2.96690  0.61862  ...   490.72  0.200640  0.784690  0.81596  0.000000   \n",
              "\n",
              "     Attr60    Attr61  Attr62   Attr63   Attr64  \n",
              "0    5.8807    5.7658  39.379   9.2689   2.6354  \n",
              "1   11.7840    5.4632  62.549   5.8354   4.3283  \n",
              "2   68.9750   10.7120  63.477   5.7501   1.2553  \n",
              "3  147.9600  149.5800  14.188  25.7270  35.6880  \n",
              "4       NaN    4.2876  46.919   7.7793      NaN  \n",
              "\n",
              "[5 rows x 64 columns]"
            ],
            "text/html": [
              "\n",
              "\n",
              "  <div id=\"df-1c3a61a4-cea0-488a-858d-2c9930e8f8f2\">\n",
              "    <div class=\"colab-df-container\">\n",
              "      <div>\n",
              "<style scoped>\n",
              "    .dataframe tbody tr th:only-of-type {\n",
              "        vertical-align: middle;\n",
              "    }\n",
              "\n",
              "    .dataframe tbody tr th {\n",
              "        vertical-align: top;\n",
              "    }\n",
              "\n",
              "    .dataframe thead th {\n",
              "        text-align: right;\n",
              "    }\n",
              "</style>\n",
              "<table border=\"1\" class=\"dataframe\">\n",
              "  <thead>\n",
              "    <tr style=\"text-align: right;\">\n",
              "      <th></th>\n",
              "      <th>Attr1</th>\n",
              "      <th>Attr2</th>\n",
              "      <th>Attr3</th>\n",
              "      <th>Attr4</th>\n",
              "      <th>Attr5</th>\n",
              "      <th>Attr6</th>\n",
              "      <th>Attr7</th>\n",
              "      <th>Attr8</th>\n",
              "      <th>Attr9</th>\n",
              "      <th>Attr10</th>\n",
              "      <th>...</th>\n",
              "      <th>Attr55</th>\n",
              "      <th>Attr56</th>\n",
              "      <th>Attr57</th>\n",
              "      <th>Attr58</th>\n",
              "      <th>Attr59</th>\n",
              "      <th>Attr60</th>\n",
              "      <th>Attr61</th>\n",
              "      <th>Attr62</th>\n",
              "      <th>Attr63</th>\n",
              "      <th>Attr64</th>\n",
              "    </tr>\n",
              "  </thead>\n",
              "  <tbody>\n",
              "    <tr>\n",
              "      <th>0</th>\n",
              "      <td>0.013739</td>\n",
              "      <td>0.48424</td>\n",
              "      <td>0.335830</td>\n",
              "      <td>3.28400</td>\n",
              "      <td>28.116</td>\n",
              "      <td>0.00000</td>\n",
              "      <td>0.017206</td>\n",
              "      <td>1.0651</td>\n",
              "      <td>1.36290</td>\n",
              "      <td>0.51576</td>\n",
              "      <td>...</td>\n",
              "      <td>5550.80</td>\n",
              "      <td>0.014543</td>\n",
              "      <td>0.026638</td>\n",
              "      <td>0.98749</td>\n",
              "      <td>0.000000</td>\n",
              "      <td>5.8807</td>\n",
              "      <td>5.7658</td>\n",
              "      <td>39.379</td>\n",
              "      <td>9.2689</td>\n",
              "      <td>2.6354</td>\n",
              "    </tr>\n",
              "    <tr>\n",
              "      <th>1</th>\n",
              "      <td>0.055586</td>\n",
              "      <td>0.28747</td>\n",
              "      <td>0.340460</td>\n",
              "      <td>2.21220</td>\n",
              "      <td>41.783</td>\n",
              "      <td>0.15219</td>\n",
              "      <td>0.065999</td>\n",
              "      <td>2.1786</td>\n",
              "      <td>0.92951</td>\n",
              "      <td>0.62626</td>\n",
              "      <td>...</td>\n",
              "      <td>5034.80</td>\n",
              "      <td>-0.075836</td>\n",
              "      <td>0.088758</td>\n",
              "      <td>1.07580</td>\n",
              "      <td>0.010533</td>\n",
              "      <td>11.7840</td>\n",
              "      <td>5.4632</td>\n",
              "      <td>62.549</td>\n",
              "      <td>5.8354</td>\n",
              "      <td>4.3283</td>\n",
              "    </tr>\n",
              "    <tr>\n",
              "      <th>2</th>\n",
              "      <td>0.125190</td>\n",
              "      <td>0.21204</td>\n",
              "      <td>-0.043561</td>\n",
              "      <td>0.76704</td>\n",
              "      <td>-26.932</td>\n",
              "      <td>0.42740</td>\n",
              "      <td>0.155220</td>\n",
              "      <td>3.7142</td>\n",
              "      <td>1.17620</td>\n",
              "      <td>0.78757</td>\n",
              "      <td>...</td>\n",
              "      <td>-5127.20</td>\n",
              "      <td>0.149790</td>\n",
              "      <td>0.158960</td>\n",
              "      <td>0.85021</td>\n",
              "      <td>0.031808</td>\n",
              "      <td>68.9750</td>\n",
              "      <td>10.7120</td>\n",
              "      <td>63.477</td>\n",
              "      <td>5.7501</td>\n",
              "      <td>1.2553</td>\n",
              "    </tr>\n",
              "    <tr>\n",
              "      <th>3</th>\n",
              "      <td>0.271490</td>\n",
              "      <td>0.34761</td>\n",
              "      <td>0.419280</td>\n",
              "      <td>2.24250</td>\n",
              "      <td>300.000</td>\n",
              "      <td>0.12908</td>\n",
              "      <td>0.303200</td>\n",
              "      <td>1.8768</td>\n",
              "      <td>8.68160</td>\n",
              "      <td>0.65239</td>\n",
              "      <td>...</td>\n",
              "      <td>1322.00</td>\n",
              "      <td>0.038724</td>\n",
              "      <td>0.416140</td>\n",
              "      <td>0.98078</td>\n",
              "      <td>0.000000</td>\n",
              "      <td>147.9600</td>\n",
              "      <td>149.5800</td>\n",
              "      <td>14.188</td>\n",
              "      <td>25.7270</td>\n",
              "      <td>35.6880</td>\n",
              "    </tr>\n",
              "    <tr>\n",
              "      <th>4</th>\n",
              "      <td>0.485420</td>\n",
              "      <td>0.38138</td>\n",
              "      <td>0.618620</td>\n",
              "      <td>2.62200</td>\n",
              "      <td>372.120</td>\n",
              "      <td>0.00000</td>\n",
              "      <td>0.596450</td>\n",
              "      <td>1.6220</td>\n",
              "      <td>2.96690</td>\n",
              "      <td>0.61862</td>\n",
              "      <td>...</td>\n",
              "      <td>490.72</td>\n",
              "      <td>0.200640</td>\n",
              "      <td>0.784690</td>\n",
              "      <td>0.81596</td>\n",
              "      <td>0.000000</td>\n",
              "      <td>NaN</td>\n",
              "      <td>4.2876</td>\n",
              "      <td>46.919</td>\n",
              "      <td>7.7793</td>\n",
              "      <td>NaN</td>\n",
              "    </tr>\n",
              "  </tbody>\n",
              "</table>\n",
              "<p>5 rows × 64 columns</p>\n",
              "</div>\n",
              "      <button class=\"colab-df-convert\" onclick=\"convertToInteractive('df-1c3a61a4-cea0-488a-858d-2c9930e8f8f2')\"\n",
              "              title=\"Convert this dataframe to an interactive table.\"\n",
              "              style=\"display:none;\">\n",
              "\n",
              "  <svg xmlns=\"http://www.w3.org/2000/svg\" height=\"24px\"viewBox=\"0 0 24 24\"\n",
              "       width=\"24px\">\n",
              "    <path d=\"M0 0h24v24H0V0z\" fill=\"none\"/>\n",
              "    <path d=\"M18.56 5.44l.94 2.06.94-2.06 2.06-.94-2.06-.94-.94-2.06-.94 2.06-2.06.94zm-11 1L8.5 8.5l.94-2.06 2.06-.94-2.06-.94L8.5 2.5l-.94 2.06-2.06.94zm10 10l.94 2.06.94-2.06 2.06-.94-2.06-.94-.94-2.06-.94 2.06-2.06.94z\"/><path d=\"M17.41 7.96l-1.37-1.37c-.4-.4-.92-.59-1.43-.59-.52 0-1.04.2-1.43.59L10.3 9.45l-7.72 7.72c-.78.78-.78 2.05 0 2.83L4 21.41c.39.39.9.59 1.41.59.51 0 1.02-.2 1.41-.59l7.78-7.78 2.81-2.81c.8-.78.8-2.07 0-2.86zM5.41 20L4 18.59l7.72-7.72 1.47 1.35L5.41 20z\"/>\n",
              "  </svg>\n",
              "      </button>\n",
              "\n",
              "\n",
              "\n",
              "    <div id=\"df-31abf88f-b1b2-4cb7-bd77-5343b842e679\">\n",
              "      <button class=\"colab-df-quickchart\" onclick=\"quickchart('df-31abf88f-b1b2-4cb7-bd77-5343b842e679')\"\n",
              "              title=\"Suggest charts.\"\n",
              "              style=\"display:none;\">\n",
              "\n",
              "<svg xmlns=\"http://www.w3.org/2000/svg\" height=\"24px\"viewBox=\"0 0 24 24\"\n",
              "     width=\"24px\">\n",
              "    <g>\n",
              "        <path d=\"M19 3H5c-1.1 0-2 .9-2 2v14c0 1.1.9 2 2 2h14c1.1 0 2-.9 2-2V5c0-1.1-.9-2-2-2zM9 17H7v-7h2v7zm4 0h-2V7h2v10zm4 0h-2v-4h2v4z\"/>\n",
              "    </g>\n",
              "</svg>\n",
              "      </button>\n",
              "    </div>\n",
              "\n",
              "<style>\n",
              "  .colab-df-quickchart {\n",
              "    background-color: #E8F0FE;\n",
              "    border: none;\n",
              "    border-radius: 50%;\n",
              "    cursor: pointer;\n",
              "    display: none;\n",
              "    fill: #1967D2;\n",
              "    height: 32px;\n",
              "    padding: 0 0 0 0;\n",
              "    width: 32px;\n",
              "  }\n",
              "\n",
              "  .colab-df-quickchart:hover {\n",
              "    background-color: #E2EBFA;\n",
              "    box-shadow: 0px 1px 2px rgba(60, 64, 67, 0.3), 0px 1px 3px 1px rgba(60, 64, 67, 0.15);\n",
              "    fill: #174EA6;\n",
              "  }\n",
              "\n",
              "  [theme=dark] .colab-df-quickchart {\n",
              "    background-color: #3B4455;\n",
              "    fill: #D2E3FC;\n",
              "  }\n",
              "\n",
              "  [theme=dark] .colab-df-quickchart:hover {\n",
              "    background-color: #434B5C;\n",
              "    box-shadow: 0px 1px 3px 1px rgba(0, 0, 0, 0.15);\n",
              "    filter: drop-shadow(0px 1px 2px rgba(0, 0, 0, 0.3));\n",
              "    fill: #FFFFFF;\n",
              "  }\n",
              "</style>\n",
              "\n",
              "    <script>\n",
              "      async function quickchart(key) {\n",
              "        const containerElement = document.querySelector('#' + key);\n",
              "        const charts = await google.colab.kernel.invokeFunction(\n",
              "            'suggestCharts', [key], {});\n",
              "      }\n",
              "    </script>\n",
              "\n",
              "      <script>\n",
              "\n",
              "function displayQuickchartButton(domScope) {\n",
              "  let quickchartButtonEl =\n",
              "    domScope.querySelector('#df-31abf88f-b1b2-4cb7-bd77-5343b842e679 button.colab-df-quickchart');\n",
              "  quickchartButtonEl.style.display =\n",
              "    google.colab.kernel.accessAllowed ? 'block' : 'none';\n",
              "}\n",
              "\n",
              "        displayQuickchartButton(document);\n",
              "      </script>\n",
              "      <style>\n",
              "    .colab-df-container {\n",
              "      display:flex;\n",
              "      flex-wrap:wrap;\n",
              "      gap: 12px;\n",
              "    }\n",
              "\n",
              "    .colab-df-convert {\n",
              "      background-color: #E8F0FE;\n",
              "      border: none;\n",
              "      border-radius: 50%;\n",
              "      cursor: pointer;\n",
              "      display: none;\n",
              "      fill: #1967D2;\n",
              "      height: 32px;\n",
              "      padding: 0 0 0 0;\n",
              "      width: 32px;\n",
              "    }\n",
              "\n",
              "    .colab-df-convert:hover {\n",
              "      background-color: #E2EBFA;\n",
              "      box-shadow: 0px 1px 2px rgba(60, 64, 67, 0.3), 0px 1px 3px 1px rgba(60, 64, 67, 0.15);\n",
              "      fill: #174EA6;\n",
              "    }\n",
              "\n",
              "    [theme=dark] .colab-df-convert {\n",
              "      background-color: #3B4455;\n",
              "      fill: #D2E3FC;\n",
              "    }\n",
              "\n",
              "    [theme=dark] .colab-df-convert:hover {\n",
              "      background-color: #434B5C;\n",
              "      box-shadow: 0px 1px 3px 1px rgba(0, 0, 0, 0.15);\n",
              "      filter: drop-shadow(0px 1px 2px rgba(0, 0, 0, 0.3));\n",
              "      fill: #FFFFFF;\n",
              "    }\n",
              "  </style>\n",
              "\n",
              "      <script>\n",
              "        const buttonEl =\n",
              "          document.querySelector('#df-1c3a61a4-cea0-488a-858d-2c9930e8f8f2 button.colab-df-convert');\n",
              "        buttonEl.style.display =\n",
              "          google.colab.kernel.accessAllowed ? 'block' : 'none';\n",
              "\n",
              "        async function convertToInteractive(key) {\n",
              "          const element = document.querySelector('#df-1c3a61a4-cea0-488a-858d-2c9930e8f8f2');\n",
              "          const dataTable =\n",
              "            await google.colab.kernel.invokeFunction('convertToInteractive',\n",
              "                                                     [key], {});\n",
              "          if (!dataTable) return;\n",
              "\n",
              "          const docLinkHtml = 'Like what you see? Visit the ' +\n",
              "            '<a target=\"_blank\" href=https://colab.research.google.com/notebooks/data_table.ipynb>data table notebook</a>'\n",
              "            + ' to learn more about interactive tables.';\n",
              "          element.innerHTML = '';\n",
              "          dataTable['output_type'] = 'display_data';\n",
              "          await google.colab.output.renderOutput(dataTable, element);\n",
              "          const docLink = document.createElement('div');\n",
              "          docLink.innerHTML = docLinkHtml;\n",
              "          element.appendChild(docLink);\n",
              "        }\n",
              "      </script>\n",
              "    </div>\n",
              "  </div>\n"
            ]
          },
          "metadata": {},
          "execution_count": 30
        }
      ]
    },
    {
      "cell_type": "code",
      "source": [
        "y_train_over.value_counts(normalize=True)"
      ],
      "metadata": {
        "colab": {
          "base_uri": "https://localhost:8080/"
        },
        "id": "dTuFIXBFK4S8",
        "outputId": "6a22e583-8531-4dfe-f39a-7ddd28613200"
      },
      "execution_count": 31,
      "outputs": [
        {
          "output_type": "execute_result",
          "data": {
            "text/plain": [
              "0    0.5\n",
              "1    0.5\n",
              "Name: class, dtype: float64"
            ]
          },
          "metadata": {},
          "execution_count": 31
        }
      ]
    },
    {
      "cell_type": "markdown",
      "source": [
        "# **Decision Tree Model**"
      ],
      "metadata": {
        "id": "Xl0UXZZhLEVm"
      }
    },
    {
      "cell_type": "markdown",
      "source": [
        "## **Baseline**"
      ],
      "metadata": {
        "id": "Fn31TWqSLIBf"
      }
    },
    {
      "cell_type": "code",
      "source": [
        "acc_baseline = y_train.value_counts(normalize=True).max()\n",
        "print(\"Baseline Accuracy:\", round(acc_baseline, 4))"
      ],
      "metadata": {
        "colab": {
          "base_uri": "https://localhost:8080/"
        },
        "id": "BjmRvSg5LCKj",
        "outputId": "f720aa33-cd37-4df0-d7a2-609d5847cf95"
      },
      "execution_count": 32,
      "outputs": [
        {
          "output_type": "stream",
          "name": "stdout",
          "text": [
            "Baseline Accuracy: 0.9538\n"
          ]
        }
      ]
    },
    {
      "cell_type": "markdown",
      "source": [
        "## This because our data is imbalanced"
      ],
      "metadata": {
        "id": "7fX_gZV_LceC"
      }
    },
    {
      "cell_type": "markdown",
      "source": [
        "## **Iterate**"
      ],
      "metadata": {
        "id": "nzmOIM1DLzjm"
      }
    },
    {
      "cell_type": "code",
      "source": [
        "# Fit on `X_train`, `y_train`\n",
        "model_reg = make_pipeline(\n",
        "          SimpleImputer(strategy=\"median\"),\n",
        "          DecisionTreeClassifier(random_state=42)\n",
        ")\n",
        "model_reg.fit(X_train,y_train)\n",
        "\n",
        "# Fit on `X_train_under`, `y_train_under`\n",
        "model_under = make_pipeline(\n",
        "          SimpleImputer(strategy=\"median\"),\n",
        "          DecisionTreeClassifier(random_state=42)\n",
        ")\n",
        "model_under.fit(X_train_under,y_train_under)\n",
        "\n",
        "# Fit on `X_train_over`, `y_train_over`\n",
        "model_over = make_pipeline(\n",
        "          SimpleImputer(strategy=\"median\"),\n",
        "          DecisionTreeClassifier(random_state=42)\n",
        ")\n",
        "model_over.fit(X_train_over,y_train_over)"
      ],
      "metadata": {
        "colab": {
          "base_uri": "https://localhost:8080/",
          "height": 127
        },
        "id": "wgKq64BOLGgX",
        "outputId": "a94d8159-7d34-4103-b545-4aff39708de8"
      },
      "execution_count": 33,
      "outputs": [
        {
          "output_type": "execute_result",
          "data": {
            "text/plain": [
              "Pipeline(steps=[('simpleimputer', SimpleImputer(strategy='median')),\n",
              "                ('decisiontreeclassifier',\n",
              "                 DecisionTreeClassifier(random_state=42))])"
            ],
            "text/html": [
              "<style>#sk-container-id-1 {color: black;background-color: white;}#sk-container-id-1 pre{padding: 0;}#sk-container-id-1 div.sk-toggleable {background-color: white;}#sk-container-id-1 label.sk-toggleable__label {cursor: pointer;display: block;width: 100%;margin-bottom: 0;padding: 0.3em;box-sizing: border-box;text-align: center;}#sk-container-id-1 label.sk-toggleable__label-arrow:before {content: \"▸\";float: left;margin-right: 0.25em;color: #696969;}#sk-container-id-1 label.sk-toggleable__label-arrow:hover:before {color: black;}#sk-container-id-1 div.sk-estimator:hover label.sk-toggleable__label-arrow:before {color: black;}#sk-container-id-1 div.sk-toggleable__content {max-height: 0;max-width: 0;overflow: hidden;text-align: left;background-color: #f0f8ff;}#sk-container-id-1 div.sk-toggleable__content pre {margin: 0.2em;color: black;border-radius: 0.25em;background-color: #f0f8ff;}#sk-container-id-1 input.sk-toggleable__control:checked~div.sk-toggleable__content {max-height: 200px;max-width: 100%;overflow: auto;}#sk-container-id-1 input.sk-toggleable__control:checked~label.sk-toggleable__label-arrow:before {content: \"▾\";}#sk-container-id-1 div.sk-estimator input.sk-toggleable__control:checked~label.sk-toggleable__label {background-color: #d4ebff;}#sk-container-id-1 div.sk-label input.sk-toggleable__control:checked~label.sk-toggleable__label {background-color: #d4ebff;}#sk-container-id-1 input.sk-hidden--visually {border: 0;clip: rect(1px 1px 1px 1px);clip: rect(1px, 1px, 1px, 1px);height: 1px;margin: -1px;overflow: hidden;padding: 0;position: absolute;width: 1px;}#sk-container-id-1 div.sk-estimator {font-family: monospace;background-color: #f0f8ff;border: 1px dotted black;border-radius: 0.25em;box-sizing: border-box;margin-bottom: 0.5em;}#sk-container-id-1 div.sk-estimator:hover {background-color: #d4ebff;}#sk-container-id-1 div.sk-parallel-item::after {content: \"\";width: 100%;border-bottom: 1px solid gray;flex-grow: 1;}#sk-container-id-1 div.sk-label:hover label.sk-toggleable__label {background-color: #d4ebff;}#sk-container-id-1 div.sk-serial::before {content: \"\";position: absolute;border-left: 1px solid gray;box-sizing: border-box;top: 0;bottom: 0;left: 50%;z-index: 0;}#sk-container-id-1 div.sk-serial {display: flex;flex-direction: column;align-items: center;background-color: white;padding-right: 0.2em;padding-left: 0.2em;position: relative;}#sk-container-id-1 div.sk-item {position: relative;z-index: 1;}#sk-container-id-1 div.sk-parallel {display: flex;align-items: stretch;justify-content: center;background-color: white;position: relative;}#sk-container-id-1 div.sk-item::before, #sk-container-id-1 div.sk-parallel-item::before {content: \"\";position: absolute;border-left: 1px solid gray;box-sizing: border-box;top: 0;bottom: 0;left: 50%;z-index: -1;}#sk-container-id-1 div.sk-parallel-item {display: flex;flex-direction: column;z-index: 1;position: relative;background-color: white;}#sk-container-id-1 div.sk-parallel-item:first-child::after {align-self: flex-end;width: 50%;}#sk-container-id-1 div.sk-parallel-item:last-child::after {align-self: flex-start;width: 50%;}#sk-container-id-1 div.sk-parallel-item:only-child::after {width: 0;}#sk-container-id-1 div.sk-dashed-wrapped {border: 1px dashed gray;margin: 0 0.4em 0.5em 0.4em;box-sizing: border-box;padding-bottom: 0.4em;background-color: white;}#sk-container-id-1 div.sk-label label {font-family: monospace;font-weight: bold;display: inline-block;line-height: 1.2em;}#sk-container-id-1 div.sk-label-container {text-align: center;}#sk-container-id-1 div.sk-container {/* jupyter's `normalize.less` sets `[hidden] { display: none; }` but bootstrap.min.css set `[hidden] { display: none !important; }` so we also need the `!important` here to be able to override the default hidden behavior on the sphinx rendered scikit-learn.org. See: https://github.com/scikit-learn/scikit-learn/issues/21755 */display: inline-block !important;position: relative;}#sk-container-id-1 div.sk-text-repr-fallback {display: none;}</style><div id=\"sk-container-id-1\" class=\"sk-top-container\"><div class=\"sk-text-repr-fallback\"><pre>Pipeline(steps=[(&#x27;simpleimputer&#x27;, SimpleImputer(strategy=&#x27;median&#x27;)),\n",
              "                (&#x27;decisiontreeclassifier&#x27;,\n",
              "                 DecisionTreeClassifier(random_state=42))])</pre><b>In a Jupyter environment, please rerun this cell to show the HTML representation or trust the notebook. <br />On GitHub, the HTML representation is unable to render, please try loading this page with nbviewer.org.</b></div><div class=\"sk-container\" hidden><div class=\"sk-item sk-dashed-wrapped\"><div class=\"sk-label-container\"><div class=\"sk-label sk-toggleable\"><input class=\"sk-toggleable__control sk-hidden--visually\" id=\"sk-estimator-id-1\" type=\"checkbox\" ><label for=\"sk-estimator-id-1\" class=\"sk-toggleable__label sk-toggleable__label-arrow\">Pipeline</label><div class=\"sk-toggleable__content\"><pre>Pipeline(steps=[(&#x27;simpleimputer&#x27;, SimpleImputer(strategy=&#x27;median&#x27;)),\n",
              "                (&#x27;decisiontreeclassifier&#x27;,\n",
              "                 DecisionTreeClassifier(random_state=42))])</pre></div></div></div><div class=\"sk-serial\"><div class=\"sk-item\"><div class=\"sk-estimator sk-toggleable\"><input class=\"sk-toggleable__control sk-hidden--visually\" id=\"sk-estimator-id-2\" type=\"checkbox\" ><label for=\"sk-estimator-id-2\" class=\"sk-toggleable__label sk-toggleable__label-arrow\">SimpleImputer</label><div class=\"sk-toggleable__content\"><pre>SimpleImputer(strategy=&#x27;median&#x27;)</pre></div></div></div><div class=\"sk-item\"><div class=\"sk-estimator sk-toggleable\"><input class=\"sk-toggleable__control sk-hidden--visually\" id=\"sk-estimator-id-3\" type=\"checkbox\" ><label for=\"sk-estimator-id-3\" class=\"sk-toggleable__label sk-toggleable__label-arrow\">DecisionTreeClassifier</label><div class=\"sk-toggleable__content\"><pre>DecisionTreeClassifier(random_state=42)</pre></div></div></div></div></div></div></div>"
            ]
          },
          "metadata": {},
          "execution_count": 33
        }
      ]
    },
    {
      "cell_type": "markdown",
      "source": [
        "## **Evaluate**"
      ],
      "metadata": {
        "id": "-V9OeGTjL_6L"
      }
    },
    {
      "cell_type": "code",
      "source": [
        "for m in [model_reg, model_under, model_over]:\n",
        "    acc_train = m.score(X_train,y_train)\n",
        "    acc_test =m.score(X_test,y_test)\n",
        "\n",
        "    print(\"Training Accuracy:\", round(acc_train, 4))\n",
        "    print(\"Test Accuracy:\", round(acc_test, 4))"
      ],
      "metadata": {
        "colab": {
          "base_uri": "https://localhost:8080/"
        },
        "id": "p1QhQ-lnL5Fk",
        "outputId": "d0db4a30-11a7-42a3-90a7-465e95654047"
      },
      "execution_count": 34,
      "outputs": [
        {
          "output_type": "stream",
          "name": "stdout",
          "text": [
            "Training Accuracy: 1.0\n",
            "Test Accuracy: 0.9257\n",
            "Training Accuracy: 0.7009\n",
            "Test Accuracy: 0.6859\n",
            "Training Accuracy: 1.0\n",
            "Test Accuracy: 0.9453\n"
          ]
        }
      ]
    },
    {
      "cell_type": "markdown",
      "source": [
        "## We can't compare them with the score only becaue the imbalanced data."
      ],
      "metadata": {
        "id": "yPtz8p7sMQiz"
      }
    },
    {
      "cell_type": "code",
      "source": [
        "# Plot confusion matrix\n",
        "ConfusionMatrixDisplay.from_estimator(model_reg,X_test,y_test);"
      ],
      "metadata": {
        "colab": {
          "base_uri": "https://localhost:8080/",
          "height": 449
        },
        "id": "3ONxomGuMFQg",
        "outputId": "ca6c055c-7d5f-4b85-a2ee-549ab28ae582"
      },
      "execution_count": 35,
      "outputs": [
        {
          "output_type": "display_data",
          "data": {
            "text/plain": [
              "<Figure size 640x480 with 2 Axes>"
            ],
            "image/png": "[encoded data removed]"
          },
          "metadata": {}
        }
      ]
    },
    {
      "cell_type": "code",
      "source": [
        "# True -        False +\n",
        "# False -       True +"
      ],
      "metadata": {
        "id": "OlKMioRnMrtW"
      },
      "execution_count": 36,
      "outputs": []
    },
    {
      "cell_type": "code",
      "source": [
        "depth = model_over.named_steps['decisiontreeclassifier'].get_depth()\n",
        "print(depth)"
      ],
      "metadata": {
        "colab": {
          "base_uri": "https://localhost:8080/"
        },
        "id": "0n9EjgMUOFDv",
        "outputId": "5ff3f6b1-f2ca-48e5-cbd7-a83584e43845"
      },
      "execution_count": 37,
      "outputs": [
        {
          "output_type": "stream",
          "name": "stdout",
          "text": [
            "36\n"
          ]
        }
      ]
    },
    {
      "cell_type": "markdown",
      "source": [
        "## **Communicate**"
      ],
      "metadata": {
        "id": "svPOY8MlPHgz"
      }
    },
    {
      "cell_type": "code",
      "source": [
        "# 15 most important features for model_over\n",
        "\n",
        "importances =model_over.named_steps['decisiontreeclassifier'].feature_importances_\n",
        "feat_imp = pd.Series(importances,index=X_train_over.columns).sort_values()\n",
        "\n",
        "feat_imp.tail(15).plot(kind='barh')\n",
        "plt.xlabel(\"Gini Importance\")\n",
        "plt.ylabel(\"Feature\")\n",
        "plt.title(\"model_over Feature Importance\");"
      ],
      "metadata": {
        "colab": {
          "base_uri": "https://localhost:8080/",
          "height": 472
        },
        "id": "E75_HqntPB3s",
        "outputId": "ea259906-0dcc-4465-b3da-0cb1eae46565"
      },
      "execution_count": 38,
      "outputs": [
        {
          "output_type": "display_data",
          "data": {
            "text/plain": [
              "<Figure size 640x480 with 1 Axes>"
            ],
            "image/png": "[encoded data removed]"
          },
          "metadata": {}
        }
      ]
    },
    {
      "cell_type": "markdown",
      "source": [
        "## **Towards Production**"
      ],
      "metadata": {
        "id": "Pf7VRZb0PocF"
      }
    },
    {
      "cell_type": "code",
      "source": [
        "# Save  model as `\"model1.pkl\"`\n",
        "with open(\"model1.pkl\",\"wb\") as place:    # b -> binary mode\n",
        "    pickle.dump(model_over,place)"
      ],
      "metadata": {
        "id": "k924M32HPYA0"
      },
      "execution_count": 39,
      "outputs": []
    },
    {
      "cell_type": "code",
      "source": [
        "# Load `\"model1.pkl\"`\n",
        "with open(\"model1.pkl\",\"rb\") as file:\n",
        "    loaded_model=pickle.load(file)\n",
        "print(loaded_model)"
      ],
      "metadata": {
        "colab": {
          "base_uri": "https://localhost:8080/"
        },
        "id": "wvLaoiJIP2nV",
        "outputId": "70a08ade-91c2-47a0-9b5b-564dc830c9c0"
      },
      "execution_count": 40,
      "outputs": [
        {
          "output_type": "stream",
          "name": "stdout",
          "text": [
            "Pipeline(steps=[('simpleimputer', SimpleImputer(strategy='median')),\n",
            "                ('decisiontreeclassifier',\n",
            "                 DecisionTreeClassifier(random_state=42))])\n"
          ]
        }
      ]
    },
    {
      "cell_type": "markdown",
      "source": [
        "# .............................................................................."
      ],
      "metadata": {
        "id": "23UuJusgQQo5"
      }
    },
    {
      "cell_type": "markdown",
      "source": [
        "# **Random Forest Model**"
      ],
      "metadata": {
        "id": "ZqK8-DdsQUQT"
      }
    },
    {
      "cell_type": "code",
      "source": [
        "from sklearn.model_selection import GridSearchCV, cross_val_score\n",
        "from sklearn.ensemble import RandomForestClassifier"
      ],
      "metadata": {
        "id": "YYWHpqdkP7p7"
      },
      "execution_count": 41,
      "outputs": []
    },
    {
      "cell_type": "code",
      "source": [
        "clf = make_pipeline(\n",
        "    SimpleImputer(),\n",
        "    RandomForestClassifier(random_state=42)\n",
        "    )\n",
        "print(clf)"
      ],
      "metadata": {
        "colab": {
          "base_uri": "https://localhost:8080/"
        },
        "id": "qjtb7iPzF5t9",
        "outputId": "7ee5acc5-536c-4798-e81a-bff29890449f"
      },
      "execution_count": 42,
      "outputs": [
        {
          "output_type": "stream",
          "name": "stdout",
          "text": [
            "Pipeline(steps=[('simpleimputer', SimpleImputer()),\n",
            "                ('randomforestclassifier',\n",
            "                 RandomForestClassifier(random_state=42))])\n"
          ]
        }
      ]
    },
    {
      "cell_type": "code",
      "source": [
        "cv_acc_scores = cross_val_score(clf,X_train_over,y_train_over,cv=5,n_jobs=-1) # 5 folds ans n_jobs=-1 to speed up training\n",
        "print(cv_acc_scores)"
      ],
      "metadata": {
        "colab": {
          "base_uri": "https://localhost:8080/"
        },
        "id": "DC1fXJzjGVhJ",
        "outputId": "11637e92-d095-4757-810d-d8c5aa2f071e"
      },
      "execution_count": 43,
      "outputs": [
        {
          "output_type": "stream",
          "name": "stdout",
          "text": [
            "[0.99656893 0.99781659 0.99781659 0.99625585 0.99812793]\n"
          ]
        }
      ]
    },
    {
      "cell_type": "markdown",
      "source": [
        "## **Hyperparameters Tuning**"
      ],
      "metadata": {
        "id": "fdDQDQy8G8t5"
      }
    },
    {
      "cell_type": "code",
      "source": [
        "params = {\n",
        "    \"simpleimputer__strategy\":['mean','median'],\n",
        "    \"randomforestclassifier__n_estimators\":range(25,100,25),\n",
        "    \"randomforestclassifier__max_depth\":range(10,50,10)\n",
        "}\n",
        "params"
      ],
      "metadata": {
        "colab": {
          "base_uri": "https://localhost:8080/"
        },
        "id": "9XuX_vsDGg8A",
        "outputId": "98b7765c-97a1-4c34-f4be-8576a16402d0"
      },
      "execution_count": 44,
      "outputs": [
        {
          "output_type": "execute_result",
          "data": {
            "text/plain": [
              "{'simpleimputer__strategy': ['mean', 'median'],\n",
              " 'randomforestclassifier__n_estimators': range(25, 100, 25),\n",
              " 'randomforestclassifier__max_depth': range(10, 50, 10)}"
            ]
          },
          "metadata": {},
          "execution_count": 44
        }
      ]
    },
    {
      "cell_type": "code",
      "source": [
        "model = GridSearchCV(clf,param_grid=params,cv=5,n_jobs=-1,verbose=1)\n",
        "model"
      ],
      "metadata": {
        "colab": {
          "base_uri": "https://localhost:8080/",
          "height": 154
        },
        "id": "VG41_NihHFvf",
        "outputId": "b600a2a4-df78-467f-85e1-e03067e03f8d"
      },
      "execution_count": 45,
      "outputs": [
        {
          "output_type": "execute_result",
          "data": {
            "text/plain": [
              "GridSearchCV(cv=5,\n",
              "             estimator=Pipeline(steps=[('simpleimputer', SimpleImputer()),\n",
              "                                       ('randomforestclassifier',\n",
              "                                        RandomForestClassifier(random_state=42))]),\n",
              "             n_jobs=-1,\n",
              "             param_grid={'randomforestclassifier__max_depth': range(10, 50, 10),\n",
              "                         'randomforestclassifier__n_estimators': range(25, 100, 25),\n",
              "                         'simpleimputer__strategy': ['mean', 'median']},\n",
              "             verbose=1)"
            ],
            "text/html": [
              "<style>#sk-container-id-2 {color: black;background-color: white;}#sk-container-id-2 pre{padding: 0;}#sk-container-id-2 div.sk-toggleable {background-color: white;}#sk-container-id-2 label.sk-toggleable__label {cursor: pointer;display: block;width: 100%;margin-bottom: 0;padding: 0.3em;box-sizing: border-box;text-align: center;}#sk-container-id-2 label.sk-toggleable__label-arrow:before {content: \"▸\";float: left;margin-right: 0.25em;color: #696969;}#sk-container-id-2 label.sk-toggleable__label-arrow:hover:before {color: black;}#sk-container-id-2 div.sk-estimator:hover label.sk-toggleable__label-arrow:before {color: black;}#sk-container-id-2 div.sk-toggleable__content {max-height: 0;max-width: 0;overflow: hidden;text-align: left;background-color: #f0f8ff;}#sk-container-id-2 div.sk-toggleable__content pre {margin: 0.2em;color: black;border-radius: 0.25em;background-color: #f0f8ff;}#sk-container-id-2 input.sk-toggleable__control:checked~div.sk-toggleable__content {max-height: 200px;max-width: 100%;overflow: auto;}#sk-container-id-2 input.sk-toggleable__control:checked~label.sk-toggleable__label-arrow:before {content: \"▾\";}#sk-container-id-2 div.sk-estimator input.sk-toggleable__control:checked~label.sk-toggleable__label {background-color: #d4ebff;}#sk-container-id-2 div.sk-label input.sk-toggleable__control:checked~label.sk-toggleable__label {background-color: #d4ebff;}#sk-container-id-2 input.sk-hidden--visually {border: 0;clip: rect(1px 1px 1px 1px);clip: rect(1px, 1px, 1px, 1px);height: 1px;margin: -1px;overflow: hidden;padding: 0;position: absolute;width: 1px;}#sk-container-id-2 div.sk-estimator {font-family: monospace;background-color: #f0f8ff;border: 1px dotted black;border-radius: 0.25em;box-sizing: border-box;margin-bottom: 0.5em;}#sk-container-id-2 div.sk-estimator:hover {background-color: #d4ebff;}#sk-container-id-2 div.sk-parallel-item::after {content: \"\";width: 100%;border-bottom: 1px solid gray;flex-grow: 1;}#sk-container-id-2 div.sk-label:hover label.sk-toggleable__label {background-color: #d4ebff;}#sk-container-id-2 div.sk-serial::before {content: \"\";position: absolute;border-left: 1px solid gray;box-sizing: border-box;top: 0;bottom: 0;left: 50%;z-index: 0;}#sk-container-id-2 div.sk-serial {display: flex;flex-direction: column;align-items: center;background-color: white;padding-right: 0.2em;padding-left: 0.2em;position: relative;}#sk-container-id-2 div.sk-item {position: relative;z-index: 1;}#sk-container-id-2 div.sk-parallel {display: flex;align-items: stretch;justify-content: center;background-color: white;position: relative;}#sk-container-id-2 div.sk-item::before, #sk-container-id-2 div.sk-parallel-item::before {content: \"\";position: absolute;border-left: 1px solid gray;box-sizing: border-box;top: 0;bottom: 0;left: 50%;z-index: -1;}#sk-container-id-2 div.sk-parallel-item {display: flex;flex-direction: column;z-index: 1;position: relative;background-color: white;}#sk-container-id-2 div.sk-parallel-item:first-child::after {align-self: flex-end;width: 50%;}#sk-container-id-2 div.sk-parallel-item:last-child::after {align-self: flex-start;width: 50%;}#sk-container-id-2 div.sk-parallel-item:only-child::after {width: 0;}#sk-container-id-2 div.sk-dashed-wrapped {border: 1px dashed gray;margin: 0 0.4em 0.5em 0.4em;box-sizing: border-box;padding-bottom: 0.4em;background-color: white;}#sk-container-id-2 div.sk-label label {font-family: monospace;font-weight: bold;display: inline-block;line-height: 1.2em;}#sk-container-id-2 div.sk-label-container {text-align: center;}#sk-container-id-2 div.sk-container {/* jupyter's `normalize.less` sets `[hidden] { display: none; }` but bootstrap.min.css set `[hidden] { display: none !important; }` so we also need the `!important` here to be able to override the default hidden behavior on the sphinx rendered scikit-learn.org. See: https://github.com/scikit-learn/scikit-learn/issues/21755 */display: inline-block !important;position: relative;}#sk-container-id-2 div.sk-text-repr-fallback {display: none;}</style><div id=\"sk-container-id-2\" class=\"sk-top-container\"><div class=\"sk-text-repr-fallback\"><pre>GridSearchCV(cv=5,\n",
              "             estimator=Pipeline(steps=[(&#x27;simpleimputer&#x27;, SimpleImputer()),\n",
              "                                       (&#x27;randomforestclassifier&#x27;,\n",
              "                                        RandomForestClassifier(random_state=42))]),\n",
              "             n_jobs=-1,\n",
              "             param_grid={&#x27;randomforestclassifier__max_depth&#x27;: range(10, 50, 10),\n",
              "                         &#x27;randomforestclassifier__n_estimators&#x27;: range(25, 100, 25),\n",
              "                         &#x27;simpleimputer__strategy&#x27;: [&#x27;mean&#x27;, &#x27;median&#x27;]},\n",
              "             verbose=1)</pre><b>In a Jupyter environment, please rerun this cell to show the HTML representation or trust the notebook. <br />On GitHub, the HTML representation is unable to render, please try loading this page with nbviewer.org.</b></div><div class=\"sk-container\" hidden><div class=\"sk-item sk-dashed-wrapped\"><div class=\"sk-label-container\"><div class=\"sk-label sk-toggleable\"><input class=\"sk-toggleable__control sk-hidden--visually\" id=\"sk-estimator-id-4\" type=\"checkbox\" ><label for=\"sk-estimator-id-4\" class=\"sk-toggleable__label sk-toggleable__label-arrow\">GridSearchCV</label><div class=\"sk-toggleable__content\"><pre>GridSearchCV(cv=5,\n",
              "             estimator=Pipeline(steps=[(&#x27;simpleimputer&#x27;, SimpleImputer()),\n",
              "                                       (&#x27;randomforestclassifier&#x27;,\n",
              "                                        RandomForestClassifier(random_state=42))]),\n",
              "             n_jobs=-1,\n",
              "             param_grid={&#x27;randomforestclassifier__max_depth&#x27;: range(10, 50, 10),\n",
              "                         &#x27;randomforestclassifier__n_estimators&#x27;: range(25, 100, 25),\n",
              "                         &#x27;simpleimputer__strategy&#x27;: [&#x27;mean&#x27;, &#x27;median&#x27;]},\n",
              "             verbose=1)</pre></div></div></div><div class=\"sk-parallel\"><div class=\"sk-parallel-item\"><div class=\"sk-item\"><div class=\"sk-label-container\"><div class=\"sk-label sk-toggleable\"><input class=\"sk-toggleable__control sk-hidden--visually\" id=\"sk-estimator-id-5\" type=\"checkbox\" ><label for=\"sk-estimator-id-5\" class=\"sk-toggleable__label sk-toggleable__label-arrow\">estimator: Pipeline</label><div class=\"sk-toggleable__content\"><pre>Pipeline(steps=[(&#x27;simpleimputer&#x27;, SimpleImputer()),\n",
              "                (&#x27;randomforestclassifier&#x27;,\n",
              "                 RandomForestClassifier(random_state=42))])</pre></div></div></div><div class=\"sk-serial\"><div class=\"sk-item\"><div class=\"sk-serial\"><div class=\"sk-item\"><div class=\"sk-estimator sk-toggleable\"><input class=\"sk-toggleable__control sk-hidden--visually\" id=\"sk-estimator-id-6\" type=\"checkbox\" ><label for=\"sk-estimator-id-6\" class=\"sk-toggleable__label sk-toggleable__label-arrow\">SimpleImputer</label><div class=\"sk-toggleable__content\"><pre>SimpleImputer()</pre></div></div></div><div class=\"sk-item\"><div class=\"sk-estimator sk-toggleable\"><input class=\"sk-toggleable__control sk-hidden--visually\" id=\"sk-estimator-id-7\" type=\"checkbox\" ><label for=\"sk-estimator-id-7\" class=\"sk-toggleable__label sk-toggleable__label-arrow\">RandomForestClassifier</label><div class=\"sk-toggleable__content\"><pre>RandomForestClassifier(random_state=42)</pre></div></div></div></div></div></div></div></div></div></div></div></div>"
            ]
          },
          "metadata": {},
          "execution_count": 45
        }
      ]
    },
    {
      "cell_type": "code",
      "source": [
        "# Train model\n",
        "model.fit(X_train_over,y_train_over)"
      ],
      "metadata": {
        "colab": {
          "base_uri": "https://localhost:8080/",
          "height": 171
        },
        "id": "lEQmm8QxHJX_",
        "outputId": "255e3c9d-9b06-4cca-c2c7-6be8deffaf4c"
      },
      "execution_count": 46,
      "outputs": [
        {
          "output_type": "stream",
          "name": "stdout",
          "text": [
            "Fitting 5 folds for each of 24 candidates, totalling 120 fits\n"
          ]
        },
        {
          "output_type": "execute_result",
          "data": {
            "text/plain": [
              "GridSearchCV(cv=5,\n",
              "             estimator=Pipeline(steps=[('simpleimputer', SimpleImputer()),\n",
              "                                       ('randomforestclassifier',\n",
              "                                        RandomForestClassifier(random_state=42))]),\n",
              "             n_jobs=-1,\n",
              "             param_grid={'randomforestclassifier__max_depth': range(10, 50, 10),\n",
              "                         'randomforestclassifier__n_estimators': range(25, 100, 25),\n",
              "                         'simpleimputer__strategy': ['mean', 'median']},\n",
              "             verbose=1)"
            ],
            "text/html": [
              "<style>#sk-container-id-3 {color: black;background-color: white;}#sk-container-id-3 pre{padding: 0;}#sk-container-id-3 div.sk-toggleable {background-color: white;}#sk-container-id-3 label.sk-toggleable__label {cursor: pointer;display: block;width: 100%;margin-bottom: 0;padding: 0.3em;box-sizing: border-box;text-align: center;}#sk-container-id-3 label.sk-toggleable__label-arrow:before {content: \"▸\";float: left;margin-right: 0.25em;color: #696969;}#sk-container-id-3 label.sk-toggleable__label-arrow:hover:before {color: black;}#sk-container-id-3 div.sk-estimator:hover label.sk-toggleable__label-arrow:before {color: black;}#sk-container-id-3 div.sk-toggleable__content {max-height: 0;max-width: 0;overflow: hidden;text-align: left;background-color: #f0f8ff;}#sk-container-id-3 div.sk-toggleable__content pre {margin: 0.2em;color: black;border-radius: 0.25em;background-color: #f0f8ff;}#sk-container-id-3 input.sk-toggleable__control:checked~div.sk-toggleable__content {max-height: 200px;max-width: 100%;overflow: auto;}#sk-container-id-3 input.sk-toggleable__control:checked~label.sk-toggleable__label-arrow:before {content: \"▾\";}#sk-container-id-3 div.sk-estimator input.sk-toggleable__control:checked~label.sk-toggleable__label {background-color: #d4ebff;}#sk-container-id-3 div.sk-label input.sk-toggleable__control:checked~label.sk-toggleable__label {background-color: #d4ebff;}#sk-container-id-3 input.sk-hidden--visually {border: 0;clip: rect(1px 1px 1px 1px);clip: rect(1px, 1px, 1px, 1px);height: 1px;margin: -1px;overflow: hidden;padding: 0;position: absolute;width: 1px;}#sk-container-id-3 div.sk-estimator {font-family: monospace;background-color: #f0f8ff;border: 1px dotted black;border-radius: 0.25em;box-sizing: border-box;margin-bottom: 0.5em;}#sk-container-id-3 div.sk-estimator:hover {background-color: #d4ebff;}#sk-container-id-3 div.sk-parallel-item::after {content: \"\";width: 100%;border-bottom: 1px solid gray;flex-grow: 1;}#sk-container-id-3 div.sk-label:hover label.sk-toggleable__label {background-color: #d4ebff;}#sk-container-id-3 div.sk-serial::before {content: \"\";position: absolute;border-left: 1px solid gray;box-sizing: border-box;top: 0;bottom: 0;left: 50%;z-index: 0;}#sk-container-id-3 div.sk-serial {display: flex;flex-direction: column;align-items: center;background-color: white;padding-right: 0.2em;padding-left: 0.2em;position: relative;}#sk-container-id-3 div.sk-item {position: relative;z-index: 1;}#sk-container-id-3 div.sk-parallel {display: flex;align-items: stretch;justify-content: center;background-color: white;position: relative;}#sk-container-id-3 div.sk-item::before, #sk-container-id-3 div.sk-parallel-item::before {content: \"\";position: absolute;border-left: 1px solid gray;box-sizing: border-box;top: 0;bottom: 0;left: 50%;z-index: -1;}#sk-container-id-3 div.sk-parallel-item {display: flex;flex-direction: column;z-index: 1;position: relative;background-color: white;}#sk-container-id-3 div.sk-parallel-item:first-child::after {align-self: flex-end;width: 50%;}#sk-container-id-3 div.sk-parallel-item:last-child::after {align-self: flex-start;width: 50%;}#sk-container-id-3 div.sk-parallel-item:only-child::after {width: 0;}#sk-container-id-3 div.sk-dashed-wrapped {border: 1px dashed gray;margin: 0 0.4em 0.5em 0.4em;box-sizing: border-box;padding-bottom: 0.4em;background-color: white;}#sk-container-id-3 div.sk-label label {font-family: monospace;font-weight: bold;display: inline-block;line-height: 1.2em;}#sk-container-id-3 div.sk-label-container {text-align: center;}#sk-container-id-3 div.sk-container {/* jupyter's `normalize.less` sets `[hidden] { display: none; }` but bootstrap.min.css set `[hidden] { display: none !important; }` so we also need the `!important` here to be able to override the default hidden behavior on the sphinx rendered scikit-learn.org. See: https://github.com/scikit-learn/scikit-learn/issues/21755 */display: inline-block !important;position: relative;}#sk-container-id-3 div.sk-text-repr-fallback {display: none;}</style><div id=\"sk-container-id-3\" class=\"sk-top-container\"><div class=\"sk-text-repr-fallback\"><pre>GridSearchCV(cv=5,\n",
              "             estimator=Pipeline(steps=[(&#x27;simpleimputer&#x27;, SimpleImputer()),\n",
              "                                       (&#x27;randomforestclassifier&#x27;,\n",
              "                                        RandomForestClassifier(random_state=42))]),\n",
              "             n_jobs=-1,\n",
              "             param_grid={&#x27;randomforestclassifier__max_depth&#x27;: range(10, 50, 10),\n",
              "                         &#x27;randomforestclassifier__n_estimators&#x27;: range(25, 100, 25),\n",
              "                         &#x27;simpleimputer__strategy&#x27;: [&#x27;mean&#x27;, &#x27;median&#x27;]},\n",
              "             verbose=1)</pre><b>In a Jupyter environment, please rerun this cell to show the HTML representation or trust the notebook. <br />On GitHub, the HTML representation is unable to render, please try loading this page with nbviewer.org.</b></div><div class=\"sk-container\" hidden><div class=\"sk-item sk-dashed-wrapped\"><div class=\"sk-label-container\"><div class=\"sk-label sk-toggleable\"><input class=\"sk-toggleable__control sk-hidden--visually\" id=\"sk-estimator-id-8\" type=\"checkbox\" ><label for=\"sk-estimator-id-8\" class=\"sk-toggleable__label sk-toggleable__label-arrow\">GridSearchCV</label><div class=\"sk-toggleable__content\"><pre>GridSearchCV(cv=5,\n",
              "             estimator=Pipeline(steps=[(&#x27;simpleimputer&#x27;, SimpleImputer()),\n",
              "                                       (&#x27;randomforestclassifier&#x27;,\n",
              "                                        RandomForestClassifier(random_state=42))]),\n",
              "             n_jobs=-1,\n",
              "             param_grid={&#x27;randomforestclassifier__max_depth&#x27;: range(10, 50, 10),\n",
              "                         &#x27;randomforestclassifier__n_estimators&#x27;: range(25, 100, 25),\n",
              "                         &#x27;simpleimputer__strategy&#x27;: [&#x27;mean&#x27;, &#x27;median&#x27;]},\n",
              "             verbose=1)</pre></div></div></div><div class=\"sk-parallel\"><div class=\"sk-parallel-item\"><div class=\"sk-item\"><div class=\"sk-label-container\"><div class=\"sk-label sk-toggleable\"><input class=\"sk-toggleable__control sk-hidden--visually\" id=\"sk-estimator-id-9\" type=\"checkbox\" ><label for=\"sk-estimator-id-9\" class=\"sk-toggleable__label sk-toggleable__label-arrow\">estimator: Pipeline</label><div class=\"sk-toggleable__content\"><pre>Pipeline(steps=[(&#x27;simpleimputer&#x27;, SimpleImputer()),\n",
              "                (&#x27;randomforestclassifier&#x27;,\n",
              "                 RandomForestClassifier(random_state=42))])</pre></div></div></div><div class=\"sk-serial\"><div class=\"sk-item\"><div class=\"sk-serial\"><div class=\"sk-item\"><div class=\"sk-estimator sk-toggleable\"><input class=\"sk-toggleable__control sk-hidden--visually\" id=\"sk-estimator-id-10\" type=\"checkbox\" ><label for=\"sk-estimator-id-10\" class=\"sk-toggleable__label sk-toggleable__label-arrow\">SimpleImputer</label><div class=\"sk-toggleable__content\"><pre>SimpleImputer()</pre></div></div></div><div class=\"sk-item\"><div class=\"sk-estimator sk-toggleable\"><input class=\"sk-toggleable__control sk-hidden--visually\" id=\"sk-estimator-id-11\" type=\"checkbox\" ><label for=\"sk-estimator-id-11\" class=\"sk-toggleable__label sk-toggleable__label-arrow\">RandomForestClassifier</label><div class=\"sk-toggleable__content\"><pre>RandomForestClassifier(random_state=42)</pre></div></div></div></div></div></div></div></div></div></div></div></div>"
            ]
          },
          "metadata": {},
          "execution_count": 46
        }
      ]
    },
    {
      "cell_type": "code",
      "source": [
        "type( model.cv_results_)"
      ],
      "metadata": {
        "colab": {
          "base_uri": "https://localhost:8080/"
        },
        "id": "y7cYksbbHPKd",
        "outputId": "e7c57529-6c00-4d26-f68b-24bbd272d468"
      },
      "execution_count": 47,
      "outputs": [
        {
          "output_type": "execute_result",
          "data": {
            "text/plain": [
              "dict"
            ]
          },
          "metadata": {},
          "execution_count": 47
        }
      ]
    },
    {
      "cell_type": "code",
      "source": [
        "cv_results = pd.DataFrame(model.cv_results_)\n",
        "cv_results.head(10)"
      ],
      "metadata": {
        "colab": {
          "base_uri": "https://localhost:8080/",
          "height": 601
        },
        "id": "swBEGJNkHaF_",
        "outputId": "1f666a55-6183-4df7-da25-a343a165d1c4"
      },
      "execution_count": 48,
      "outputs": [
        {
          "output_type": "execute_result",
          "data": {
            "text/plain": [
              "   mean_fit_time  std_fit_time  mean_score_time  std_score_time  \\\n",
              "0       3.374381      1.555289         0.025368        0.000711   \n",
              "1       2.224870      0.023795         0.025857        0.000713   \n",
              "2       5.041415      1.185271         0.044112        0.004325   \n",
              "3       5.638462      1.602812         0.056994        0.029799   \n",
              "4      11.465921      2.742795         0.111089        0.105121   \n",
              "5       7.927008      1.314340         0.071697        0.014867   \n",
              "6       3.415815      0.640146         0.045459        0.020924   \n",
              "7       2.584229      0.031254         0.029138        0.001666   \n",
              "8       5.714789      1.137691         0.050106        0.003222   \n",
              "9       5.918970      0.936805         0.063230        0.027482   \n",
              "\n",
              "  param_randomforestclassifier__max_depth  \\\n",
              "0                                      10   \n",
              "1                                      10   \n",
              "2                                      10   \n",
              "3                                      10   \n",
              "4                                      10   \n",
              "5                                      10   \n",
              "6                                      20   \n",
              "7                                      20   \n",
              "8                                      20   \n",
              "9                                      20   \n",
              "\n",
              "  param_randomforestclassifier__n_estimators param_simpleimputer__strategy  \\\n",
              "0                                         25                          mean   \n",
              "1                                         25                        median   \n",
              "2                                         50                          mean   \n",
              "3                                         50                        median   \n",
              "4                                         75                          mean   \n",
              "5                                         75                        median   \n",
              "6                                         25                          mean   \n",
              "7                                         25                        median   \n",
              "8                                         50                          mean   \n",
              "9                                         50                        median   \n",
              "\n",
              "                                              params  split0_test_score  \\\n",
              "0  {'randomforestclassifier__max_depth': 10, 'ran...           0.976606   \n",
              "1  {'randomforestclassifier__max_depth': 10, 'ran...           0.975983   \n",
              "2  {'randomforestclassifier__max_depth': 10, 'ran...           0.979102   \n",
              "3  {'randomforestclassifier__max_depth': 10, 'ran...           0.977230   \n",
              "4  {'randomforestclassifier__max_depth': 10, 'ran...           0.980973   \n",
              "5  {'randomforestclassifier__max_depth': 10, 'ran...           0.976606   \n",
              "6  {'randomforestclassifier__max_depth': 20, 'ran...           0.994697   \n",
              "7  {'randomforestclassifier__max_depth': 20, 'ran...           0.997193   \n",
              "8  {'randomforestclassifier__max_depth': 20, 'ran...           0.995633   \n",
              "9  {'randomforestclassifier__max_depth': 20, 'ran...           0.997505   \n",
              "\n",
              "   split1_test_score  split2_test_score  split3_test_score  split4_test_score  \\\n",
              "0           0.972863           0.984092           0.973167           0.978159   \n",
              "1           0.973799           0.967249           0.966303           0.968799   \n",
              "2           0.976606           0.983157           0.972543           0.981591   \n",
              "3           0.975359           0.971928           0.969111           0.970983   \n",
              "4           0.977230           0.979414           0.975351           0.981279   \n",
              "5           0.976294           0.974423           0.968487           0.975039   \n",
              "6           0.997817           0.996257           0.995320           0.995632   \n",
              "7           0.996569           0.996569           0.995008           0.995944   \n",
              "8           0.997817           0.996881           0.995320           0.997192   \n",
              "9           0.997817           0.997193           0.994696           0.996880   \n",
              "\n",
              "   mean_test_score  std_test_score  rank_test_score  \n",
              "0         0.976978        0.004089               21  \n",
              "1         0.970426        0.003795               24  \n",
              "2         0.978600        0.003758               20  \n",
              "3         0.972922        0.002959               23  \n",
              "4         0.978849        0.002262               19  \n",
              "5         0.974170        0.002952               22  \n",
              "6         0.995945        0.001063               18  \n",
              "7         0.996256        0.000739               17  \n",
              "8         0.996568        0.000946               16  \n",
              "9         0.996818        0.001106               13  "
            ],
            "text/html": [
              "\n",
              "\n",
              "  <div id=\"df-d765c13e-519a-477a-909c-0e55edf64386\">\n",
              "    <div class=\"colab-df-container\">\n",
              "      <div>\n",
              "<style scoped>\n",
              "    .dataframe tbody tr th:only-of-type {\n",
              "        vertical-align: middle;\n",
              "    }\n",
              "\n",
              "    .dataframe tbody tr th {\n",
              "        vertical-align: top;\n",
              "    }\n",
              "\n",
              "    .dataframe thead th {\n",
              "        text-align: right;\n",
              "    }\n",
              "</style>\n",
              "<table border=\"1\" class=\"dataframe\">\n",
              "  <thead>\n",
              "    <tr style=\"text-align: right;\">\n",
              "      <th></th>\n",
              "      <th>mean_fit_time</th>\n",
              "      <th>std_fit_time</th>\n",
              "      <th>mean_score_time</th>\n",
              "      <th>std_score_time</th>\n",
              "      <th>param_randomforestclassifier__max_depth</th>\n",
              "      <th>param_randomforestclassifier__n_estimators</th>\n",
              "      <th>param_simpleimputer__strategy</th>\n",
              "      <th>params</th>\n",
              "      <th>split0_test_score</th>\n",
              "      <th>split1_test_score</th>\n",
              "      <th>split2_test_score</th>\n",
              "      <th>split3_test_score</th>\n",
              "      <th>split4_test_score</th>\n",
              "      <th>mean_test_score</th>\n",
              "      <th>std_test_score</th>\n",
              "      <th>rank_test_score</th>\n",
              "    </tr>\n",
              "  </thead>\n",
              "  <tbody>\n",
              "    <tr>\n",
              "      <th>0</th>\n",
              "      <td>3.374381</td>\n",
              "      <td>1.555289</td>\n",
              "      <td>0.025368</td>\n",
              "      <td>0.000711</td>\n",
              "      <td>10</td>\n",
              "      <td>25</td>\n",
              "      <td>mean</td>\n",
              "      <td>{'randomforestclassifier__max_depth': 10, 'ran...</td>\n",
              "      <td>0.976606</td>\n",
              "      <td>0.972863</td>\n",
              "      <td>0.984092</td>\n",
              "      <td>0.973167</td>\n",
              "      <td>0.978159</td>\n",
              "      <td>0.976978</td>\n",
              "      <td>0.004089</td>\n",
              "      <td>21</td>\n",
              "    </tr>\n",
              "    <tr>\n",
              "      <th>1</th>\n",
              "      <td>2.224870</td>\n",
              "      <td>0.023795</td>\n",
              "      <td>0.025857</td>\n",
              "      <td>0.000713</td>\n",
              "      <td>10</td>\n",
              "      <td>25</td>\n",
              "      <td>median</td>\n",
              "      <td>{'randomforestclassifier__max_depth': 10, 'ran...</td>\n",
              "      <td>0.975983</td>\n",
              "      <td>0.973799</td>\n",
              "      <td>0.967249</td>\n",
              "      <td>0.966303</td>\n",
              "      <td>0.968799</td>\n",
              "      <td>0.970426</td>\n",
              "      <td>0.003795</td>\n",
              "      <td>24</td>\n",
              "    </tr>\n",
              "    <tr>\n",
              "      <th>2</th>\n",
              "      <td>5.041415</td>\n",
              "      <td>1.185271</td>\n",
              "      <td>0.044112</td>\n",
              "      <td>0.004325</td>\n",
              "      <td>10</td>\n",
              "      <td>50</td>\n",
              "      <td>mean</td>\n",
              "      <td>{'randomforestclassifier__max_depth': 10, 'ran...</td>\n",
              "      <td>0.979102</td>\n",
              "      <td>0.976606</td>\n",
              "      <td>0.983157</td>\n",
              "      <td>0.972543</td>\n",
              "      <td>0.981591</td>\n",
              "      <td>0.978600</td>\n",
              "      <td>0.003758</td>\n",
              "      <td>20</td>\n",
              "    </tr>\n",
              "    <tr>\n",
              "      <th>3</th>\n",
              "      <td>5.638462</td>\n",
              "      <td>1.602812</td>\n",
              "      <td>0.056994</td>\n",
              "      <td>0.029799</td>\n",
              "      <td>10</td>\n",
              "      <td>50</td>\n",
              "      <td>median</td>\n",
              "      <td>{'randomforestclassifier__max_depth': 10, 'ran...</td>\n",
              "      <td>0.977230</td>\n",
              "      <td>0.975359</td>\n",
              "      <td>0.971928</td>\n",
              "      <td>0.969111</td>\n",
              "      <td>0.970983</td>\n",
              "      <td>0.972922</td>\n",
              "      <td>0.002959</td>\n",
              "      <td>23</td>\n",
              "    </tr>\n",
              "    <tr>\n",
              "      <th>4</th>\n",
              "      <td>11.465921</td>\n",
              "      <td>2.742795</td>\n",
              "      <td>0.111089</td>\n",
              "      <td>0.105121</td>\n",
              "      <td>10</td>\n",
              "      <td>75</td>\n",
              "      <td>mean</td>\n",
              "      <td>{'randomforestclassifier__max_depth': 10, 'ran...</td>\n",
              "      <td>0.980973</td>\n",
              "      <td>0.977230</td>\n",
              "      <td>0.979414</td>\n",
              "      <td>0.975351</td>\n",
              "      <td>0.981279</td>\n",
              "      <td>0.978849</td>\n",
              "      <td>0.002262</td>\n",
              "      <td>19</td>\n",
              "    </tr>\n",
              "    <tr>\n",
              "      <th>5</th>\n",
              "      <td>7.927008</td>\n",
              "      <td>1.314340</td>\n",
              "      <td>0.071697</td>\n",
              "      <td>0.014867</td>\n",
              "      <td>10</td>\n",
              "      <td>75</td>\n",
              "      <td>median</td>\n",
              "      <td>{'randomforestclassifier__max_depth': 10, 'ran...</td>\n",
              "      <td>0.976606</td>\n",
              "      <td>0.976294</td>\n",
              "      <td>0.974423</td>\n",
              "      <td>0.968487</td>\n",
              "      <td>0.975039</td>\n",
              "      <td>0.974170</td>\n",
              "      <td>0.002952</td>\n",
              "      <td>22</td>\n",
              "    </tr>\n",
              "    <tr>\n",
              "      <th>6</th>\n",
              "      <td>3.415815</td>\n",
              "      <td>0.640146</td>\n",
              "      <td>0.045459</td>\n",
              "      <td>0.020924</td>\n",
              "      <td>20</td>\n",
              "      <td>25</td>\n",
              "      <td>mean</td>\n",
              "      <td>{'randomforestclassifier__max_depth': 20, 'ran...</td>\n",
              "      <td>0.994697</td>\n",
              "      <td>0.997817</td>\n",
              "      <td>0.996257</td>\n",
              "      <td>0.995320</td>\n",
              "      <td>0.995632</td>\n",
              "      <td>0.995945</td>\n",
              "      <td>0.001063</td>\n",
              "      <td>18</td>\n",
              "    </tr>\n",
              "    <tr>\n",
              "      <th>7</th>\n",
              "      <td>2.584229</td>\n",
              "      <td>0.031254</td>\n",
              "      <td>0.029138</td>\n",
              "      <td>0.001666</td>\n",
              "      <td>20</td>\n",
              "      <td>25</td>\n",
              "      <td>median</td>\n",
              "      <td>{'randomforestclassifier__max_depth': 20, 'ran...</td>\n",
              "      <td>0.997193</td>\n",
              "      <td>0.996569</td>\n",
              "      <td>0.996569</td>\n",
              "      <td>0.995008</td>\n",
              "      <td>0.995944</td>\n",
              "      <td>0.996256</td>\n",
              "      <td>0.000739</td>\n",
              "      <td>17</td>\n",
              "    </tr>\n",
              "    <tr>\n",
              "      <th>8</th>\n",
              "      <td>5.714789</td>\n",
              "      <td>1.137691</td>\n",
              "      <td>0.050106</td>\n",
              "      <td>0.003222</td>\n",
              "      <td>20</td>\n",
              "      <td>50</td>\n",
              "      <td>mean</td>\n",
              "      <td>{'randomforestclassifier__max_depth': 20, 'ran...</td>\n",
              "      <td>0.995633</td>\n",
              "      <td>0.997817</td>\n",
              "      <td>0.996881</td>\n",
              "      <td>0.995320</td>\n",
              "      <td>0.997192</td>\n",
              "      <td>0.996568</td>\n",
              "      <td>0.000946</td>\n",
              "      <td>16</td>\n",
              "    </tr>\n",
              "    <tr>\n",
              "      <th>9</th>\n",
              "      <td>5.918970</td>\n",
              "      <td>0.936805</td>\n",
              "      <td>0.063230</td>\n",
              "      <td>0.027482</td>\n",
              "      <td>20</td>\n",
              "      <td>50</td>\n",
              "      <td>median</td>\n",
              "      <td>{'randomforestclassifier__max_depth': 20, 'ran...</td>\n",
              "      <td>0.997505</td>\n",
              "      <td>0.997817</td>\n",
              "      <td>0.997193</td>\n",
              "      <td>0.994696</td>\n",
              "      <td>0.996880</td>\n",
              "      <td>0.996818</td>\n",
              "      <td>0.001106</td>\n",
              "      <td>13</td>\n",
              "    </tr>\n",
              "  </tbody>\n",
              "</table>\n",
              "</div>\n",
              "      <button class=\"colab-df-convert\" onclick=\"convertToInteractive('df-d765c13e-519a-477a-909c-0e55edf64386')\"\n",
              "              title=\"Convert this dataframe to an interactive table.\"\n",
              "              style=\"display:none;\">\n",
              "\n",
              "  <svg xmlns=\"http://www.w3.org/2000/svg\" height=\"24px\"viewBox=\"0 0 24 24\"\n",
              "       width=\"24px\">\n",
              "    <path d=\"M0 0h24v24H0V0z\" fill=\"none\"/>\n",
              "    <path d=\"M18.56 5.44l.94 2.06.94-2.06 2.06-.94-2.06-.94-.94-2.06-.94 2.06-2.06.94zm-11 1L8.5 8.5l.94-2.06 2.06-.94-2.06-.94L8.5 2.5l-.94 2.06-2.06.94zm10 10l.94 2.06.94-2.06 2.06-.94-2.06-.94-.94-2.06-.94 2.06-2.06.94z\"/><path d=\"M17.41 7.96l-1.37-1.37c-.4-.4-.92-.59-1.43-.59-.52 0-1.04.2-1.43.59L10.3 9.45l-7.72 7.72c-.78.78-.78 2.05 0 2.83L4 21.41c.39.39.9.59 1.41.59.51 0 1.02-.2 1.41-.59l7.78-7.78 2.81-2.81c.8-.78.8-2.07 0-2.86zM5.41 20L4 18.59l7.72-7.72 1.47 1.35L5.41 20z\"/>\n",
              "  </svg>\n",
              "      </button>\n",
              "\n",
              "\n",
              "\n",
              "    <div id=\"df-1c20242e-bc93-4a82-b292-6c3af7d669fb\">\n",
              "      <button class=\"colab-df-quickchart\" onclick=\"quickchart('df-1c20242e-bc93-4a82-b292-6c3af7d669fb')\"\n",
              "              title=\"Suggest charts.\"\n",
              "              style=\"display:none;\">\n",
              "\n",
              "<svg xmlns=\"http://www.w3.org/2000/svg\" height=\"24px\"viewBox=\"0 0 24 24\"\n",
              "     width=\"24px\">\n",
              "    <g>\n",
              "        <path d=\"M19 3H5c-1.1 0-2 .9-2 2v14c0 1.1.9 2 2 2h14c1.1 0 2-.9 2-2V5c0-1.1-.9-2-2-2zM9 17H7v-7h2v7zm4 0h-2V7h2v10zm4 0h-2v-4h2v4z\"/>\n",
              "    </g>\n",
              "</svg>\n",
              "      </button>\n",
              "    </div>\n",
              "\n",
              "<style>\n",
              "  .colab-df-quickchart {\n",
              "    background-color: #E8F0FE;\n",
              "    border: none;\n",
              "    border-radius: 50%;\n",
              "    cursor: pointer;\n",
              "    display: none;\n",
              "    fill: #1967D2;\n",
              "    height: 32px;\n",
              "    padding: 0 0 0 0;\n",
              "    width: 32px;\n",
              "  }\n",
              "\n",
              "  .colab-df-quickchart:hover {\n",
              "    background-color: #E2EBFA;\n",
              "    box-shadow: 0px 1px 2px rgba(60, 64, 67, 0.3), 0px 1px 3px 1px rgba(60, 64, 67, 0.15);\n",
              "    fill: #174EA6;\n",
              "  }\n",
              "\n",
              "  [theme=dark] .colab-df-quickchart {\n",
              "    background-color: #3B4455;\n",
              "    fill: #D2E3FC;\n",
              "  }\n",
              "\n",
              "  [theme=dark] .colab-df-quickchart:hover {\n",
              "    background-color: #434B5C;\n",
              "    box-shadow: 0px 1px 3px 1px rgba(0, 0, 0, 0.15);\n",
              "    filter: drop-shadow(0px 1px 2px rgba(0, 0, 0, 0.3));\n",
              "    fill: #FFFFFF;\n",
              "  }\n",
              "</style>\n",
              "\n",
              "    <script>\n",
              "      async function quickchart(key) {\n",
              "        const containerElement = document.querySelector('#' + key);\n",
              "        const charts = await google.colab.kernel.invokeFunction(\n",
              "            'suggestCharts', [key], {});\n",
              "      }\n",
              "    </script>\n",
              "\n",
              "      <script>\n",
              "\n",
              "function displayQuickchartButton(domScope) {\n",
              "  let quickchartButtonEl =\n",
              "    domScope.querySelector('#df-1c20242e-bc93-4a82-b292-6c3af7d669fb button.colab-df-quickchart');\n",
              "  quickchartButtonEl.style.display =\n",
              "    google.colab.kernel.accessAllowed ? 'block' : 'none';\n",
              "}\n",
              "\n",
              "        displayQuickchartButton(document);\n",
              "      </script>\n",
              "      <style>\n",
              "    .colab-df-container {\n",
              "      display:flex;\n",
              "      flex-wrap:wrap;\n",
              "      gap: 12px;\n",
              "    }\n",
              "\n",
              "    .colab-df-convert {\n",
              "      background-color: #E8F0FE;\n",
              "      border: none;\n",
              "      border-radius: 50%;\n",
              "      cursor: pointer;\n",
              "      display: none;\n",
              "      fill: #1967D2;\n",
              "      height: 32px;\n",
              "      padding: 0 0 0 0;\n",
              "      width: 32px;\n",
              "    }\n",
              "\n",
              "    .colab-df-convert:hover {\n",
              "      background-color: #E2EBFA;\n",
              "      box-shadow: 0px 1px 2px rgba(60, 64, 67, 0.3), 0px 1px 3px 1px rgba(60, 64, 67, 0.15);\n",
              "      fill: #174EA6;\n",
              "    }\n",
              "\n",
              "    [theme=dark] .colab-df-convert {\n",
              "      background-color: #3B4455;\n",
              "      fill: #D2E3FC;\n",
              "    }\n",
              "\n",
              "    [theme=dark] .colab-df-convert:hover {\n",
              "      background-color: #434B5C;\n",
              "      box-shadow: 0px 1px 3px 1px rgba(0, 0, 0, 0.15);\n",
              "      filter: drop-shadow(0px 1px 2px rgba(0, 0, 0, 0.3));\n",
              "      fill: #FFFFFF;\n",
              "    }\n",
              "  </style>\n",
              "\n",
              "      <script>\n",
              "        const buttonEl =\n",
              "          document.querySelector('#df-d765c13e-519a-477a-909c-0e55edf64386 button.colab-df-convert');\n",
              "        buttonEl.style.display =\n",
              "          google.colab.kernel.accessAllowed ? 'block' : 'none';\n",
              "\n",
              "        async function convertToInteractive(key) {\n",
              "          const element = document.querySelector('#df-d765c13e-519a-477a-909c-0e55edf64386');\n",
              "          const dataTable =\n",
              "            await google.colab.kernel.invokeFunction('convertToInteractive',\n",
              "                                                     [key], {});\n",
              "          if (!dataTable) return;\n",
              "\n",
              "          const docLinkHtml = 'Like what you see? Visit the ' +\n",
              "            '<a target=\"_blank\" href=https://colab.research.google.com/notebooks/data_table.ipynb>data table notebook</a>'\n",
              "            + ' to learn more about interactive tables.';\n",
              "          element.innerHTML = '';\n",
              "          dataTable['output_type'] = 'display_data';\n",
              "          await google.colab.output.renderOutput(dataTable, element);\n",
              "          const docLink = document.createElement('div');\n",
              "          docLink.innerHTML = docLinkHtml;\n",
              "          element.appendChild(docLink);\n",
              "        }\n",
              "      </script>\n",
              "    </div>\n",
              "  </div>\n"
            ]
          },
          "metadata": {},
          "execution_count": 48
        }
      ]
    },
    {
      "cell_type": "code",
      "source": [
        "# Create mask\n",
        "mask =cv_results[cv_results[\"param_randomforestclassifier__max_depth\"]==10]\n",
        "# Plot fit time vs n_estimators\n",
        "plt.plot(mask[\"param_randomforestclassifier__n_estimators\"],mask[\"mean_fit_time\"])\n",
        "# Label axes\n",
        "plt.xlabel(\"Number of Estimators\")\n",
        "plt.ylabel(\"Mean Fit Time [seconds]\")\n",
        "plt.title(\"Training Time vs Estimators (max_depth=10)\");"
      ],
      "metadata": {
        "colab": {
          "base_uri": "https://localhost:8080/",
          "height": 472
        },
        "id": "hoP_pm20HbcA",
        "outputId": "68175882-b171-4965-d627-d89e4cfc554d"
      },
      "execution_count": 49,
      "outputs": [
        {
          "output_type": "display_data",
          "data": {
            "text/plain": [
              "<Figure size 640x480 with 1 Axes>"
            ],
            "image/png": "[encoded data removed]"
          },
          "metadata": {}
        }
      ]
    },
    {
      "cell_type": "code",
      "source": [
        "# Create mask\n",
        "mask = cv_results[\"param_randomforestclassifier__n_estimators\"]==25\n",
        "# Plot fit time vs max_depth\n",
        "plt.plot(cv_results[mask][\"param_randomforestclassifier__max_depth\"],cv_results[mask][\"mean_fit_time\"])\n",
        "# Label axes\n",
        "plt.xlabel(\"Max Depth\")\n",
        "plt.ylabel(\"Mean Fit Time [seconds]\")\n",
        "plt.title(\"Training Time vs Max Depth (n_estimators=25)\");"
      ],
      "metadata": {
        "colab": {
          "base_uri": "https://localhost:8080/",
          "height": 472
        },
        "id": "6DcyKnh-IN3H",
        "outputId": "fad834bf-fafa-4977-efd7-ac69676d467a"
      },
      "execution_count": 50,
      "outputs": [
        {
          "output_type": "display_data",
          "data": {
            "text/plain": [
              "<Figure size 640x480 with 1 Axes>"
            ],
            "image/png": "[encoded data removed]"
          },
          "metadata": {}
        }
      ]
    },
    {
      "cell_type": "code",
      "source": [
        "cv_results[mask][[\"mean_fit_time\",\"param_randomforestclassifier__n_estimators\",\"param_simpleimputer__strategy\"]]"
      ],
      "metadata": {
        "colab": {
          "base_uri": "https://localhost:8080/",
          "height": 300
        },
        "id": "4yVblVLpIalD",
        "outputId": "db0d3503-42f3-4985-b2c0-c2a2a09a19c5"
      },
      "execution_count": 51,
      "outputs": [
        {
          "output_type": "execute_result",
          "data": {
            "text/plain": [
              "    mean_fit_time param_randomforestclassifier__n_estimators  \\\n",
              "0        3.374381                                         25   \n",
              "1        2.224870                                         25   \n",
              "6        3.415815                                         25   \n",
              "7        2.584229                                         25   \n",
              "12       3.399574                                         25   \n",
              "13       2.651404                                         25   \n",
              "18       3.071447                                         25   \n",
              "19       3.029170                                         25   \n",
              "\n",
              "   param_simpleimputer__strategy  \n",
              "0                           mean  \n",
              "1                         median  \n",
              "6                           mean  \n",
              "7                         median  \n",
              "12                          mean  \n",
              "13                        median  \n",
              "18                          mean  \n",
              "19                        median  "
            ],
            "text/html": [
              "\n",
              "\n",
              "  <div id=\"df-37401aa5-02e8-4695-88d2-385d0cbf02e2\">\n",
              "    <div class=\"colab-df-container\">\n",
              "      <div>\n",
              "<style scoped>\n",
              "    .dataframe tbody tr th:only-of-type {\n",
              "        vertical-align: middle;\n",
              "    }\n",
              "\n",
              "    .dataframe tbody tr th {\n",
              "        vertical-align: top;\n",
              "    }\n",
              "\n",
              "    .dataframe thead th {\n",
              "        text-align: right;\n",
              "    }\n",
              "</style>\n",
              "<table border=\"1\" class=\"dataframe\">\n",
              "  <thead>\n",
              "    <tr style=\"text-align: right;\">\n",
              "      <th></th>\n",
              "      <th>mean_fit_time</th>\n",
              "      <th>param_randomforestclassifier__n_estimators</th>\n",
              "      <th>param_simpleimputer__strategy</th>\n",
              "    </tr>\n",
              "  </thead>\n",
              "  <tbody>\n",
              "    <tr>\n",
              "      <th>0</th>\n",
              "      <td>3.374381</td>\n",
              "      <td>25</td>\n",
              "      <td>mean</td>\n",
              "    </tr>\n",
              "    <tr>\n",
              "      <th>1</th>\n",
              "      <td>2.224870</td>\n",
              "      <td>25</td>\n",
              "      <td>median</td>\n",
              "    </tr>\n",
              "    <tr>\n",
              "      <th>6</th>\n",
              "      <td>3.415815</td>\n",
              "      <td>25</td>\n",
              "      <td>mean</td>\n",
              "    </tr>\n",
              "    <tr>\n",
              "      <th>7</th>\n",
              "      <td>2.584229</td>\n",
              "      <td>25</td>\n",
              "      <td>median</td>\n",
              "    </tr>\n",
              "    <tr>\n",
              "      <th>12</th>\n",
              "      <td>3.399574</td>\n",
              "      <td>25</td>\n",
              "      <td>mean</td>\n",
              "    </tr>\n",
              "    <tr>\n",
              "      <th>13</th>\n",
              "      <td>2.651404</td>\n",
              "      <td>25</td>\n",
              "      <td>median</td>\n",
              "    </tr>\n",
              "    <tr>\n",
              "      <th>18</th>\n",
              "      <td>3.071447</td>\n",
              "      <td>25</td>\n",
              "      <td>mean</td>\n",
              "    </tr>\n",
              "    <tr>\n",
              "      <th>19</th>\n",
              "      <td>3.029170</td>\n",
              "      <td>25</td>\n",
              "      <td>median</td>\n",
              "    </tr>\n",
              "  </tbody>\n",
              "</table>\n",
              "</div>\n",
              "      <button class=\"colab-df-convert\" onclick=\"convertToInteractive('df-37401aa5-02e8-4695-88d2-385d0cbf02e2')\"\n",
              "              title=\"Convert this dataframe to an interactive table.\"\n",
              "              style=\"display:none;\">\n",
              "\n",
              "  <svg xmlns=\"http://www.w3.org/2000/svg\" height=\"24px\"viewBox=\"0 0 24 24\"\n",
              "       width=\"24px\">\n",
              "    <path d=\"M0 0h24v24H0V0z\" fill=\"none\"/>\n",
              "    <path d=\"M18.56 5.44l.94 2.06.94-2.06 2.06-.94-2.06-.94-.94-2.06-.94 2.06-2.06.94zm-11 1L8.5 8.5l.94-2.06 2.06-.94-2.06-.94L8.5 2.5l-.94 2.06-2.06.94zm10 10l.94 2.06.94-2.06 2.06-.94-2.06-.94-.94-2.06-.94 2.06-2.06.94z\"/><path d=\"M17.41 7.96l-1.37-1.37c-.4-.4-.92-.59-1.43-.59-.52 0-1.04.2-1.43.59L10.3 9.45l-7.72 7.72c-.78.78-.78 2.05 0 2.83L4 21.41c.39.39.9.59 1.41.59.51 0 1.02-.2 1.41-.59l7.78-7.78 2.81-2.81c.8-.78.8-2.07 0-2.86zM5.41 20L4 18.59l7.72-7.72 1.47 1.35L5.41 20z\"/>\n",
              "  </svg>\n",
              "      </button>\n",
              "\n",
              "\n",
              "\n",
              "    <div id=\"df-ac835834-60ef-4118-814d-b1fae1634f09\">\n",
              "      <button class=\"colab-df-quickchart\" onclick=\"quickchart('df-ac835834-60ef-4118-814d-b1fae1634f09')\"\n",
              "              title=\"Suggest charts.\"\n",
              "              style=\"display:none;\">\n",
              "\n",
              "<svg xmlns=\"http://www.w3.org/2000/svg\" height=\"24px\"viewBox=\"0 0 24 24\"\n",
              "     width=\"24px\">\n",
              "    <g>\n",
              "        <path d=\"M19 3H5c-1.1 0-2 .9-2 2v14c0 1.1.9 2 2 2h14c1.1 0 2-.9 2-2V5c0-1.1-.9-2-2-2zM9 17H7v-7h2v7zm4 0h-2V7h2v10zm4 0h-2v-4h2v4z\"/>\n",
              "    </g>\n",
              "</svg>\n",
              "      </button>\n",
              "    </div>\n",
              "\n",
              "<style>\n",
              "  .colab-df-quickchart {\n",
              "    background-color: #E8F0FE;\n",
              "    border: none;\n",
              "    border-radius: 50%;\n",
              "    cursor: pointer;\n",
              "    display: none;\n",
              "    fill: #1967D2;\n",
              "    height: 32px;\n",
              "    padding: 0 0 0 0;\n",
              "    width: 32px;\n",
              "  }\n",
              "\n",
              "  .colab-df-quickchart:hover {\n",
              "    background-color: #E2EBFA;\n",
              "    box-shadow: 0px 1px 2px rgba(60, 64, 67, 0.3), 0px 1px 3px 1px rgba(60, 64, 67, 0.15);\n",
              "    fill: #174EA6;\n",
              "  }\n",
              "\n",
              "  [theme=dark] .colab-df-quickchart {\n",
              "    background-color: #3B4455;\n",
              "    fill: #D2E3FC;\n",
              "  }\n",
              "\n",
              "  [theme=dark] .colab-df-quickchart:hover {\n",
              "    background-color: #434B5C;\n",
              "    box-shadow: 0px 1px 3px 1px rgba(0, 0, 0, 0.15);\n",
              "    filter: drop-shadow(0px 1px 2px rgba(0, 0, 0, 0.3));\n",
              "    fill: #FFFFFF;\n",
              "  }\n",
              "</style>\n",
              "\n",
              "    <script>\n",
              "      async function quickchart(key) {\n",
              "        const containerElement = document.querySelector('#' + key);\n",
              "        const charts = await google.colab.kernel.invokeFunction(\n",
              "            'suggestCharts', [key], {});\n",
              "      }\n",
              "    </script>\n",
              "\n",
              "      <script>\n",
              "\n",
              "function displayQuickchartButton(domScope) {\n",
              "  let quickchartButtonEl =\n",
              "    domScope.querySelector('#df-ac835834-60ef-4118-814d-b1fae1634f09 button.colab-df-quickchart');\n",
              "  quickchartButtonEl.style.display =\n",
              "    google.colab.kernel.accessAllowed ? 'block' : 'none';\n",
              "}\n",
              "\n",
              "        displayQuickchartButton(document);\n",
              "      </script>\n",
              "      <style>\n",
              "    .colab-df-container {\n",
              "      display:flex;\n",
              "      flex-wrap:wrap;\n",
              "      gap: 12px;\n",
              "    }\n",
              "\n",
              "    .colab-df-convert {\n",
              "      background-color: #E8F0FE;\n",
              "      border: none;\n",
              "      border-radius: 50%;\n",
              "      cursor: pointer;\n",
              "      display: none;\n",
              "      fill: #1967D2;\n",
              "      height: 32px;\n",
              "      padding: 0 0 0 0;\n",
              "      width: 32px;\n",
              "    }\n",
              "\n",
              "    .colab-df-convert:hover {\n",
              "      background-color: #E2EBFA;\n",
              "      box-shadow: 0px 1px 2px rgba(60, 64, 67, 0.3), 0px 1px 3px 1px rgba(60, 64, 67, 0.15);\n",
              "      fill: #174EA6;\n",
              "    }\n",
              "\n",
              "    [theme=dark] .colab-df-convert {\n",
              "      background-color: #3B4455;\n",
              "      fill: #D2E3FC;\n",
              "    }\n",
              "\n",
              "    [theme=dark] .colab-df-convert:hover {\n",
              "      background-color: #434B5C;\n",
              "      box-shadow: 0px 1px 3px 1px rgba(0, 0, 0, 0.15);\n",
              "      filter: drop-shadow(0px 1px 2px rgba(0, 0, 0, 0.3));\n",
              "      fill: #FFFFFF;\n",
              "    }\n",
              "  </style>\n",
              "\n",
              "      <script>\n",
              "        const buttonEl =\n",
              "          document.querySelector('#df-37401aa5-02e8-4695-88d2-385d0cbf02e2 button.colab-df-convert');\n",
              "        buttonEl.style.display =\n",
              "          google.colab.kernel.accessAllowed ? 'block' : 'none';\n",
              "\n",
              "        async function convertToInteractive(key) {\n",
              "          const element = document.querySelector('#df-37401aa5-02e8-4695-88d2-385d0cbf02e2');\n",
              "          const dataTable =\n",
              "            await google.colab.kernel.invokeFunction('convertToInteractive',\n",
              "                                                     [key], {});\n",
              "          if (!dataTable) return;\n",
              "\n",
              "          const docLinkHtml = 'Like what you see? Visit the ' +\n",
              "            '<a target=\"_blank\" href=https://colab.research.google.com/notebooks/data_table.ipynb>data table notebook</a>'\n",
              "            + ' to learn more about interactive tables.';\n",
              "          element.innerHTML = '';\n",
              "          dataTable['output_type'] = 'display_data';\n",
              "          await google.colab.output.renderOutput(dataTable, element);\n",
              "          const docLink = document.createElement('div');\n",
              "          docLink.innerHTML = docLinkHtml;\n",
              "          element.appendChild(docLink);\n",
              "        }\n",
              "      </script>\n",
              "    </div>\n",
              "  </div>\n"
            ]
          },
          "metadata": {},
          "execution_count": 51
        }
      ]
    },
    {
      "cell_type": "code",
      "source": [
        "# Extract best hyperparameters\n",
        "model.best_params_"
      ],
      "metadata": {
        "colab": {
          "base_uri": "https://localhost:8080/"
        },
        "id": "EDQfIhA0IdK6",
        "outputId": "36854fa7-a8c4-46fb-81fc-6ebdc6b32b07"
      },
      "execution_count": 52,
      "outputs": [
        {
          "output_type": "execute_result",
          "data": {
            "text/plain": [
              "{'randomforestclassifier__max_depth': 30,\n",
              " 'randomforestclassifier__n_estimators': 75,\n",
              " 'simpleimputer__strategy': 'median'}"
            ]
          },
          "metadata": {},
          "execution_count": 52
        }
      ]
    },
    {
      "cell_type": "code",
      "source": [
        "model.best_score_"
      ],
      "metadata": {
        "colab": {
          "base_uri": "https://localhost:8080/"
        },
        "id": "XcTGi0OjIq9h",
        "outputId": "afed0f7c-3841-49b1-e7bb-17f93c927612"
      },
      "execution_count": 53,
      "outputs": [
        {
          "output_type": "execute_result",
          "data": {
            "text/plain": [
              "0.9977538604975266"
            ]
          },
          "metadata": {},
          "execution_count": 53
        }
      ]
    },
    {
      "cell_type": "code",
      "source": [
        "model.predict(X_train_over)    # it used the best model by default"
      ],
      "metadata": {
        "colab": {
          "base_uri": "https://localhost:8080/"
        },
        "id": "XC35AviEIwpY",
        "outputId": "90330a65-7a02-428e-a10b-580ad593bb28"
      },
      "execution_count": 55,
      "outputs": [
        {
          "output_type": "execute_result",
          "data": {
            "text/plain": [
              "array([0, 0, 0, ..., 1, 1, 1])"
            ]
          },
          "metadata": {},
          "execution_count": 55
        }
      ]
    },
    {
      "cell_type": "markdown",
      "source": [
        "## **Evaluate**"
      ],
      "metadata": {
        "id": "EcrADnEOI7f5"
      }
    },
    {
      "cell_type": "code",
      "source": [
        "acc_train = model.score(X_train,y_train)\n",
        "acc_test = model.score(X_test,y_test)\n",
        "\n",
        "print(\"Training Accuracy:\", round(acc_train, 4))\n",
        "print(\"Test Accuracy:\", round(acc_test, 4))"
      ],
      "metadata": {
        "colab": {
          "base_uri": "https://localhost:8080/"
        },
        "id": "3WV1i1DPIyrN",
        "outputId": "52e392b9-0137-4925-a9db-2c3b3a344f9b"
      },
      "execution_count": 56,
      "outputs": [
        {
          "output_type": "stream",
          "name": "stdout",
          "text": [
            "Training Accuracy: 1.0\n",
            "Test Accuracy: 0.9562\n"
          ]
        }
      ]
    },
    {
      "cell_type": "code",
      "source": [
        "y_test.value_counts()"
      ],
      "metadata": {
        "colab": {
          "base_uri": "https://localhost:8080/"
        },
        "id": "76a73X6RJG9S",
        "outputId": "2e06e87e-424b-41e1-ab55-dc501397060d"
      },
      "execution_count": 57,
      "outputs": [
        {
          "output_type": "execute_result",
          "data": {
            "text/plain": [
              "0    1994\n",
              "1     107\n",
              "Name: class, dtype: int64"
            ]
          },
          "metadata": {},
          "execution_count": 57
        }
      ]
    },
    {
      "cell_type": "code",
      "source": [
        "# Plot confusion matrix\n",
        "ConfusionMatrixDisplay.from_estimator(model,X_test,y_test);"
      ],
      "metadata": {
        "colab": {
          "base_uri": "https://localhost:8080/",
          "height": 449
        },
        "id": "RVW8leI5JTfM",
        "outputId": "a3474df6-3150-4095-f521-6d24bafea022"
      },
      "execution_count": 58,
      "outputs": [
        {
          "output_type": "display_data",
          "data": {
            "text/plain": [
              "<Figure size 640x480 with 2 Axes>"
            ],
            "image/png": "[encoded data removed]"
          },
          "metadata": {}
        }
      ]
    },
    {
      "cell_type": "markdown",
      "source": [
        "## **Communicate**"
      ],
      "metadata": {
        "id": "HozjnJ0JJhVv"
      }
    },
    {
      "cell_type": "code",
      "source": [
        "# Get feature names from training data\n",
        "features = X_train_over.columns\n",
        "# Extract importances from model\n",
        "importances = model.best_estimator_.named_steps['randomforestclassifier'].feature_importances_\n",
        "# Create a series with feature names and importances\n",
        "feat_imp = pd.Series(importances,index=features).sort_values()\n",
        "# Plot 10 most important features\n",
        "feat_imp.tail(10).plot(kind=\"barh\")\n",
        "plt.xlabel(\"Gini Importance\")\n",
        "plt.ylabel(\"Feature\")\n",
        "plt.title(\"Feature Importance\");"
      ],
      "metadata": {
        "colab": {
          "base_uri": "https://localhost:8080/",
          "height": 472
        },
        "id": "ORnjvDlWJVGp",
        "outputId": "359d7214-b112-40b6-b94c-ab93f912d7f9"
      },
      "execution_count": 59,
      "outputs": [
        {
          "output_type": "display_data",
          "data": {
            "text/plain": [
              "<Figure size 640x480 with 1 Axes>"
            ],
            "image/png": "[encoded data removed]"
          },
          "metadata": {}
        }
      ]
    },
    {
      "cell_type": "markdown",
      "source": [
        "## **To prooduction**"
      ],
      "metadata": {
        "id": "hi3eB9FFJvna"
      }
    },
    {
      "cell_type": "code",
      "source": [
        "# Save model\n",
        "with open(\"model2.pkl\",'wb') as f:\n",
        "    pickle.dump(model,f)"
      ],
      "metadata": {
        "id": "ZcHdYjKFJpw8"
      },
      "execution_count": 60,
      "outputs": []
    },
    {
      "cell_type": "code",
      "source": [
        "with open(\"model2.pkl\",'rb') as f:\n",
        "  model=pickle.load(f)\n",
        "# Generate predictions\n",
        "y_test_pred =model.predict(X_test)\n",
        "y_test_pred"
      ],
      "metadata": {
        "colab": {
          "base_uri": "https://localhost:8080/"
        },
        "id": "ztmpgKIrJ0WG",
        "outputId": "1e3f5acf-5939-4b84-c86e-86dc29208427"
      },
      "execution_count": 61,
      "outputs": [
        {
          "output_type": "execute_result",
          "data": {
            "text/plain": [
              "array([0, 0, 0, ..., 0, 0, 0])"
            ]
          },
          "metadata": {},
          "execution_count": 61
        }
      ]
    },
    {
      "cell_type": "markdown",
      "source": [
        "# .............................................................................."
      ],
      "metadata": {
        "id": "v50VoAlbKbAB"
      }
    },
    {
      "cell_type": "markdown",
      "source": [
        "# **Gradient Boosting Model**"
      ],
      "metadata": {
        "id": "w623uhq6Kyzp"
      }
    },
    {
      "cell_type": "code",
      "source": [
        "from sklearn.ensemble import GradientBoostingClassifier\n",
        "from ipywidgets import interact\n",
        "from sklearn.metrics import (\n",
        "    classification_report,\n",
        "    confusion_matrix,\n",
        ")"
      ],
      "metadata": {
        "id": "fx31zS3VKOM-"
      },
      "execution_count": 62,
      "outputs": []
    },
    {
      "cell_type": "code",
      "source": [
        "clf = make_pipeline(\n",
        "    SimpleImputer(),\n",
        "    GradientBoostingClassifier()\n",
        ")"
      ],
      "metadata": {
        "id": "9m0H5xicLK1N"
      },
      "execution_count": 63,
      "outputs": []
    },
    {
      "cell_type": "code",
      "source": [
        "params = {\n",
        "    \"simpleimputer__strategy\":[\"mean\",\"median\"],\n",
        "    \"gradientboostingclassifier__max_depth\":range(2,5),\n",
        "    \"gradientboostingclassifier__n_estimators\":range(20,31,5)\n",
        "}\n",
        "params"
      ],
      "metadata": {
        "colab": {
          "base_uri": "https://localhost:8080/"
        },
        "id": "pj2dge1hLRO7",
        "outputId": "5176cbd0-9497-4669-ac07-2a8b6834722e"
      },
      "execution_count": 64,
      "outputs": [
        {
          "output_type": "execute_result",
          "data": {
            "text/plain": [
              "{'simpleimputer__strategy': ['mean', 'median'],\n",
              " 'gradientboostingclassifier__max_depth': range(2, 5),\n",
              " 'gradientboostingclassifier__n_estimators': range(20, 31, 5)}"
            ]
          },
          "metadata": {},
          "execution_count": 64
        }
      ]
    },
    {
      "cell_type": "code",
      "source": [
        "model = GridSearchCV(clf,param_grid=params,cv=5,n_jobs=-1,verbose=1)"
      ],
      "metadata": {
        "id": "zopcl2uNLaL5"
      },
      "execution_count": 65,
      "outputs": []
    },
    {
      "cell_type": "code",
      "source": [
        "# Fit model to over-sampled training data\n",
        "model.fit(X_train_over,y_train_over)"
      ],
      "metadata": {
        "colab": {
          "base_uri": "https://localhost:8080/",
          "height": 171
        },
        "id": "hNyzAfKyLfXE",
        "outputId": "679db42b-707d-483b-9549-004f00dcb21d"
      },
      "execution_count": 66,
      "outputs": [
        {
          "output_type": "stream",
          "name": "stdout",
          "text": [
            "Fitting 5 folds for each of 18 candidates, totalling 90 fits\n"
          ]
        },
        {
          "output_type": "execute_result",
          "data": {
            "text/plain": [
              "GridSearchCV(cv=5,\n",
              "             estimator=Pipeline(steps=[('simpleimputer', SimpleImputer()),\n",
              "                                       ('gradientboostingclassifier',\n",
              "                                        GradientBoostingClassifier())]),\n",
              "             n_jobs=-1,\n",
              "             param_grid={'gradientboostingclassifier__max_depth': range(2, 5),\n",
              "                         'gradientboostingclassifier__n_estimators': range(20, 31, 5),\n",
              "                         'simpleimputer__strategy': ['mean', 'median']},\n",
              "             verbose=1)"
            ],
            "text/html": [
              "<style>#sk-container-id-4 {color: black;background-color: white;}#sk-container-id-4 pre{padding: 0;}#sk-container-id-4 div.sk-toggleable {background-color: white;}#sk-container-id-4 label.sk-toggleable__label {cursor: pointer;display: block;width: 100%;margin-bottom: 0;padding: 0.3em;box-sizing: border-box;text-align: center;}#sk-container-id-4 label.sk-toggleable__label-arrow:before {content: \"▸\";float: left;margin-right: 0.25em;color: #696969;}#sk-container-id-4 label.sk-toggleable__label-arrow:hover:before {color: black;}#sk-container-id-4 div.sk-estimator:hover label.sk-toggleable__label-arrow:before {color: black;}#sk-container-id-4 div.sk-toggleable__content {max-height: 0;max-width: 0;overflow: hidden;text-align: left;background-color: #f0f8ff;}#sk-container-id-4 div.sk-toggleable__content pre {margin: 0.2em;color: black;border-radius: 0.25em;background-color: #f0f8ff;}#sk-container-id-4 input.sk-toggleable__control:checked~div.sk-toggleable__content {max-height: 200px;max-width: 100%;overflow: auto;}#sk-container-id-4 input.sk-toggleable__control:checked~label.sk-toggleable__label-arrow:before {content: \"▾\";}#sk-container-id-4 div.sk-estimator input.sk-toggleable__control:checked~label.sk-toggleable__label {background-color: #d4ebff;}#sk-container-id-4 div.sk-label input.sk-toggleable__control:checked~label.sk-toggleable__label {background-color: #d4ebff;}#sk-container-id-4 input.sk-hidden--visually {border: 0;clip: rect(1px 1px 1px 1px);clip: rect(1px, 1px, 1px, 1px);height: 1px;margin: -1px;overflow: hidden;padding: 0;position: absolute;width: 1px;}#sk-container-id-4 div.sk-estimator {font-family: monospace;background-color: #f0f8ff;border: 1px dotted black;border-radius: 0.25em;box-sizing: border-box;margin-bottom: 0.5em;}#sk-container-id-4 div.sk-estimator:hover {background-color: #d4ebff;}#sk-container-id-4 div.sk-parallel-item::after {content: \"\";width: 100%;border-bottom: 1px solid gray;flex-grow: 1;}#sk-container-id-4 div.sk-label:hover label.sk-toggleable__label {background-color: #d4ebff;}#sk-container-id-4 div.sk-serial::before {content: \"\";position: absolute;border-left: 1px solid gray;box-sizing: border-box;top: 0;bottom: 0;left: 50%;z-index: 0;}#sk-container-id-4 div.sk-serial {display: flex;flex-direction: column;align-items: center;background-color: white;padding-right: 0.2em;padding-left: 0.2em;position: relative;}#sk-container-id-4 div.sk-item {position: relative;z-index: 1;}#sk-container-id-4 div.sk-parallel {display: flex;align-items: stretch;justify-content: center;background-color: white;position: relative;}#sk-container-id-4 div.sk-item::before, #sk-container-id-4 div.sk-parallel-item::before {content: \"\";position: absolute;border-left: 1px solid gray;box-sizing: border-box;top: 0;bottom: 0;left: 50%;z-index: -1;}#sk-container-id-4 div.sk-parallel-item {display: flex;flex-direction: column;z-index: 1;position: relative;background-color: white;}#sk-container-id-4 div.sk-parallel-item:first-child::after {align-self: flex-end;width: 50%;}#sk-container-id-4 div.sk-parallel-item:last-child::after {align-self: flex-start;width: 50%;}#sk-container-id-4 div.sk-parallel-item:only-child::after {width: 0;}#sk-container-id-4 div.sk-dashed-wrapped {border: 1px dashed gray;margin: 0 0.4em 0.5em 0.4em;box-sizing: border-box;padding-bottom: 0.4em;background-color: white;}#sk-container-id-4 div.sk-label label {font-family: monospace;font-weight: bold;display: inline-block;line-height: 1.2em;}#sk-container-id-4 div.sk-label-container {text-align: center;}#sk-container-id-4 div.sk-container {/* jupyter's `normalize.less` sets `[hidden] { display: none; }` but bootstrap.min.css set `[hidden] { display: none !important; }` so we also need the `!important` here to be able to override the default hidden behavior on the sphinx rendered scikit-learn.org. See: https://github.com/scikit-learn/scikit-learn/issues/21755 */display: inline-block !important;position: relative;}#sk-container-id-4 div.sk-text-repr-fallback {display: none;}</style><div id=\"sk-container-id-4\" class=\"sk-top-container\"><div class=\"sk-text-repr-fallback\"><pre>GridSearchCV(cv=5,\n",
              "             estimator=Pipeline(steps=[(&#x27;simpleimputer&#x27;, SimpleImputer()),\n",
              "                                       (&#x27;gradientboostingclassifier&#x27;,\n",
              "                                        GradientBoostingClassifier())]),\n",
              "             n_jobs=-1,\n",
              "             param_grid={&#x27;gradientboostingclassifier__max_depth&#x27;: range(2, 5),\n",
              "                         &#x27;gradientboostingclassifier__n_estimators&#x27;: range(20, 31, 5),\n",
              "                         &#x27;simpleimputer__strategy&#x27;: [&#x27;mean&#x27;, &#x27;median&#x27;]},\n",
              "             verbose=1)</pre><b>In a Jupyter environment, please rerun this cell to show the HTML representation or trust the notebook. <br />On GitHub, the HTML representation is unable to render, please try loading this page with nbviewer.org.</b></div><div class=\"sk-container\" hidden><div class=\"sk-item sk-dashed-wrapped\"><div class=\"sk-label-container\"><div class=\"sk-label sk-toggleable\"><input class=\"sk-toggleable__control sk-hidden--visually\" id=\"sk-estimator-id-12\" type=\"checkbox\" ><label for=\"sk-estimator-id-12\" class=\"sk-toggleable__label sk-toggleable__label-arrow\">GridSearchCV</label><div class=\"sk-toggleable__content\"><pre>GridSearchCV(cv=5,\n",
              "             estimator=Pipeline(steps=[(&#x27;simpleimputer&#x27;, SimpleImputer()),\n",
              "                                       (&#x27;gradientboostingclassifier&#x27;,\n",
              "                                        GradientBoostingClassifier())]),\n",
              "             n_jobs=-1,\n",
              "             param_grid={&#x27;gradientboostingclassifier__max_depth&#x27;: range(2, 5),\n",
              "                         &#x27;gradientboostingclassifier__n_estimators&#x27;: range(20, 31, 5),\n",
              "                         &#x27;simpleimputer__strategy&#x27;: [&#x27;mean&#x27;, &#x27;median&#x27;]},\n",
              "             verbose=1)</pre></div></div></div><div class=\"sk-parallel\"><div class=\"sk-parallel-item\"><div class=\"sk-item\"><div class=\"sk-label-container\"><div class=\"sk-label sk-toggleable\"><input class=\"sk-toggleable__control sk-hidden--visually\" id=\"sk-estimator-id-13\" type=\"checkbox\" ><label for=\"sk-estimator-id-13\" class=\"sk-toggleable__label sk-toggleable__label-arrow\">estimator: Pipeline</label><div class=\"sk-toggleable__content\"><pre>Pipeline(steps=[(&#x27;simpleimputer&#x27;, SimpleImputer()),\n",
              "                (&#x27;gradientboostingclassifier&#x27;, GradientBoostingClassifier())])</pre></div></div></div><div class=\"sk-serial\"><div class=\"sk-item\"><div class=\"sk-serial\"><div class=\"sk-item\"><div class=\"sk-estimator sk-toggleable\"><input class=\"sk-toggleable__control sk-hidden--visually\" id=\"sk-estimator-id-14\" type=\"checkbox\" ><label for=\"sk-estimator-id-14\" class=\"sk-toggleable__label sk-toggleable__label-arrow\">SimpleImputer</label><div class=\"sk-toggleable__content\"><pre>SimpleImputer()</pre></div></div></div><div class=\"sk-item\"><div class=\"sk-estimator sk-toggleable\"><input class=\"sk-toggleable__control sk-hidden--visually\" id=\"sk-estimator-id-15\" type=\"checkbox\" ><label for=\"sk-estimator-id-15\" class=\"sk-toggleable__label sk-toggleable__label-arrow\">GradientBoostingClassifier</label><div class=\"sk-toggleable__content\"><pre>GradientBoostingClassifier()</pre></div></div></div></div></div></div></div></div></div></div></div></div>"
            ]
          },
          "metadata": {},
          "execution_count": 66
        }
      ]
    },
    {
      "cell_type": "code",
      "source": [
        "results =pd.DataFrame(model.cv_results_)\n",
        "results.sort_values(\"rank_test_score\").head(10)"
      ],
      "metadata": {
        "colab": {
          "base_uri": "https://localhost:8080/",
          "height": 601
        },
        "id": "ilqwViZPLgwc",
        "outputId": "b3ac1e89-c74e-46e1-eef4-c8ef8dd26477"
      },
      "execution_count": 67,
      "outputs": [
        {
          "output_type": "execute_result",
          "data": {
            "text/plain": [
              "    mean_fit_time  std_fit_time  mean_score_time  std_score_time  \\\n",
              "16      15.312279      0.063675         0.015635        0.006054   \n",
              "14      12.698176      0.586110         0.015779        0.008384   \n",
              "17      15.346415      0.211730         0.013562        0.002627   \n",
              "12      10.711409      1.058842         0.012036        0.001086   \n",
              "15      12.983343      0.886754         0.015636        0.007644   \n",
              "13      10.642677      0.603435         0.013722        0.004496   \n",
              "10      12.221291      0.252977         0.012080        0.000397   \n",
              "8       10.084474      1.163455         0.013872        0.004286   \n",
              "11      11.547310      0.897120         0.014760        0.004068   \n",
              "6        7.968305      0.217137         0.014873        0.004129   \n",
              "\n",
              "   param_gradientboostingclassifier__max_depth  \\\n",
              "16                                           4   \n",
              "14                                           4   \n",
              "17                                           4   \n",
              "12                                           4   \n",
              "15                                           4   \n",
              "13                                           4   \n",
              "10                                           3   \n",
              "8                                            3   \n",
              "11                                           3   \n",
              "6                                            3   \n",
              "\n",
              "   param_gradientboostingclassifier__n_estimators  \\\n",
              "16                                             30   \n",
              "14                                             25   \n",
              "17                                             30   \n",
              "12                                             20   \n",
              "15                                             25   \n",
              "13                                             20   \n",
              "10                                             30   \n",
              "8                                              25   \n",
              "11                                             30   \n",
              "6                                              20   \n",
              "\n",
              "   param_simpleimputer__strategy  \\\n",
              "16                          mean   \n",
              "14                          mean   \n",
              "17                        median   \n",
              "12                          mean   \n",
              "15                        median   \n",
              "13                        median   \n",
              "10                          mean   \n",
              "8                           mean   \n",
              "11                        median   \n",
              "6                           mean   \n",
              "\n",
              "                                               params  split0_test_score  \\\n",
              "16  {'gradientboostingclassifier__max_depth': 4, '...           0.913911   \n",
              "14  {'gradientboostingclassifier__max_depth': 4, '...           0.905802   \n",
              "17  {'gradientboostingclassifier__max_depth': 4, '...           0.904242   \n",
              "12  {'gradientboostingclassifier__max_depth': 4, '...           0.895820   \n",
              "15  {'gradientboostingclassifier__max_depth': 4, '...           0.896132   \n",
              "13  {'gradientboostingclassifier__max_depth': 4, '...           0.878041   \n",
              "10  {'gradientboostingclassifier__max_depth': 3, '...           0.879601   \n",
              "8   {'gradientboostingclassifier__max_depth': 3, '...           0.866812   \n",
              "11  {'gradientboostingclassifier__max_depth': 3, '...           0.855895   \n",
              "6   {'gradientboostingclassifier__max_depth': 3, '...           0.858079   \n",
              "\n",
              "    split1_test_score  split2_test_score  split3_test_score  \\\n",
              "16           0.913600           0.904866           0.909516   \n",
              "14           0.912352           0.897692           0.894540   \n",
              "17           0.908609           0.901747           0.897660   \n",
              "12           0.892077           0.891142           0.882683   \n",
              "15           0.893013           0.885839           0.884555   \n",
              "13           0.880225           0.868684           0.868019   \n",
              "10           0.878353           0.873986           0.863339   \n",
              "8            0.865876           0.859950           0.854602   \n",
              "11           0.862445           0.851840           0.854914   \n",
              "6            0.850593           0.854648           0.844306   \n",
              "\n",
              "    split4_test_score  mean_test_score  std_test_score  rank_test_score  \n",
              "16           0.920749         0.912528        0.005262                1  \n",
              "14           0.904212         0.902919        0.006269                2  \n",
              "17           0.902028         0.902857        0.003576                3  \n",
              "12           0.892980         0.890940        0.004416                4  \n",
              "15           0.888924         0.889693        0.004343                5  \n",
              "13           0.875195         0.874033        0.004910                6  \n",
              "10           0.873323         0.873720        0.005728                7  \n",
              "8            0.858034         0.861055        0.004656                8  \n",
              "11           0.845866         0.854192        0.005411                9  \n",
              "6            0.852418         0.852009        0.004589               10  "
            ],
            "text/html": [
              "\n",
              "\n",
              "  <div id=\"df-94f9805e-ca51-486c-9b7c-5ccb00c7a379\">\n",
              "    <div class=\"colab-df-container\">\n",
              "      <div>\n",
              "<style scoped>\n",
              "    .dataframe tbody tr th:only-of-type {\n",
              "        vertical-align: middle;\n",
              "    }\n",
              "\n",
              "    .dataframe tbody tr th {\n",
              "        vertical-align: top;\n",
              "    }\n",
              "\n",
              "    .dataframe thead th {\n",
              "        text-align: right;\n",
              "    }\n",
              "</style>\n",
              "<table border=\"1\" class=\"dataframe\">\n",
              "  <thead>\n",
              "    <tr style=\"text-align: right;\">\n",
              "      <th></th>\n",
              "      <th>mean_fit_time</th>\n",
              "      <th>std_fit_time</th>\n",
              "      <th>mean_score_time</th>\n",
              "      <th>std_score_time</th>\n",
              "      <th>param_gradientboostingclassifier__max_depth</th>\n",
              "      <th>param_gradientboostingclassifier__n_estimators</th>\n",
              "      <th>param_simpleimputer__strategy</th>\n",
              "      <th>params</th>\n",
              "      <th>split0_test_score</th>\n",
              "      <th>split1_test_score</th>\n",
              "      <th>split2_test_score</th>\n",
              "      <th>split3_test_score</th>\n",
              "      <th>split4_test_score</th>\n",
              "      <th>mean_test_score</th>\n",
              "      <th>std_test_score</th>\n",
              "      <th>rank_test_score</th>\n",
              "    </tr>\n",
              "  </thead>\n",
              "  <tbody>\n",
              "    <tr>\n",
              "      <th>16</th>\n",
              "      <td>15.312279</td>\n",
              "      <td>0.063675</td>\n",
              "      <td>0.015635</td>\n",
              "      <td>0.006054</td>\n",
              "      <td>4</td>\n",
              "      <td>30</td>\n",
              "      <td>mean</td>\n",
              "      <td>{'gradientboostingclassifier__max_depth': 4, '...</td>\n",
              "      <td>0.913911</td>\n",
              "      <td>0.913600</td>\n",
              "      <td>0.904866</td>\n",
              "      <td>0.909516</td>\n",
              "      <td>0.920749</td>\n",
              "      <td>0.912528</td>\n",
              "      <td>0.005262</td>\n",
              "      <td>1</td>\n",
              "    </tr>\n",
              "    <tr>\n",
              "      <th>14</th>\n",
              "      <td>12.698176</td>\n",
              "      <td>0.586110</td>\n",
              "      <td>0.015779</td>\n",
              "      <td>0.008384</td>\n",
              "      <td>4</td>\n",
              "      <td>25</td>\n",
              "      <td>mean</td>\n",
              "      <td>{'gradientboostingclassifier__max_depth': 4, '...</td>\n",
              "      <td>0.905802</td>\n",
              "      <td>0.912352</td>\n",
              "      <td>0.897692</td>\n",
              "      <td>0.894540</td>\n",
              "      <td>0.904212</td>\n",
              "      <td>0.902919</td>\n",
              "      <td>0.006269</td>\n",
              "      <td>2</td>\n",
              "    </tr>\n",
              "    <tr>\n",
              "      <th>17</th>\n",
              "      <td>15.346415</td>\n",
              "      <td>0.211730</td>\n",
              "      <td>0.013562</td>\n",
              "      <td>0.002627</td>\n",
              "      <td>4</td>\n",
              "      <td>30</td>\n",
              "      <td>median</td>\n",
              "      <td>{'gradientboostingclassifier__max_depth': 4, '...</td>\n",
              "      <td>0.904242</td>\n",
              "      <td>0.908609</td>\n",
              "      <td>0.901747</td>\n",
              "      <td>0.897660</td>\n",
              "      <td>0.902028</td>\n",
              "      <td>0.902857</td>\n",
              "      <td>0.003576</td>\n",
              "      <td>3</td>\n",
              "    </tr>\n",
              "    <tr>\n",
              "      <th>12</th>\n",
              "      <td>10.711409</td>\n",
              "      <td>1.058842</td>\n",
              "      <td>0.012036</td>\n",
              "      <td>0.001086</td>\n",
              "      <td>4</td>\n",
              "      <td>20</td>\n",
              "      <td>mean</td>\n",
              "      <td>{'gradientboostingclassifier__max_depth': 4, '...</td>\n",
              "      <td>0.895820</td>\n",
              "      <td>0.892077</td>\n",
              "      <td>0.891142</td>\n",
              "      <td>0.882683</td>\n",
              "      <td>0.892980</td>\n",
              "      <td>0.890940</td>\n",
              "      <td>0.004416</td>\n",
              "      <td>4</td>\n",
              "    </tr>\n",
              "    <tr>\n",
              "      <th>15</th>\n",
              "      <td>12.983343</td>\n",
              "      <td>0.886754</td>\n",
              "      <td>0.015636</td>\n",
              "      <td>0.007644</td>\n",
              "      <td>4</td>\n",
              "      <td>25</td>\n",
              "      <td>median</td>\n",
              "      <td>{'gradientboostingclassifier__max_depth': 4, '...</td>\n",
              "      <td>0.896132</td>\n",
              "      <td>0.893013</td>\n",
              "      <td>0.885839</td>\n",
              "      <td>0.884555</td>\n",
              "      <td>0.888924</td>\n",
              "      <td>0.889693</td>\n",
              "      <td>0.004343</td>\n",
              "      <td>5</td>\n",
              "    </tr>\n",
              "    <tr>\n",
              "      <th>13</th>\n",
              "      <td>10.642677</td>\n",
              "      <td>0.603435</td>\n",
              "      <td>0.013722</td>\n",
              "      <td>0.004496</td>\n",
              "      <td>4</td>\n",
              "      <td>20</td>\n",
              "      <td>median</td>\n",
              "      <td>{'gradientboostingclassifier__max_depth': 4, '...</td>\n",
              "      <td>0.878041</td>\n",
              "      <td>0.880225</td>\n",
              "      <td>0.868684</td>\n",
              "      <td>0.868019</td>\n",
              "      <td>0.875195</td>\n",
              "      <td>0.874033</td>\n",
              "      <td>0.004910</td>\n",
              "      <td>6</td>\n",
              "    </tr>\n",
              "    <tr>\n",
              "      <th>10</th>\n",
              "      <td>12.221291</td>\n",
              "      <td>0.252977</td>\n",
              "      <td>0.012080</td>\n",
              "      <td>0.000397</td>\n",
              "      <td>3</td>\n",
              "      <td>30</td>\n",
              "      <td>mean</td>\n",
              "      <td>{'gradientboostingclassifier__max_depth': 3, '...</td>\n",
              "      <td>0.879601</td>\n",
              "      <td>0.878353</td>\n",
              "      <td>0.873986</td>\n",
              "      <td>0.863339</td>\n",
              "      <td>0.873323</td>\n",
              "      <td>0.873720</td>\n",
              "      <td>0.005728</td>\n",
              "      <td>7</td>\n",
              "    </tr>\n",
              "    <tr>\n",
              "      <th>8</th>\n",
              "      <td>10.084474</td>\n",
              "      <td>1.163455</td>\n",
              "      <td>0.013872</td>\n",
              "      <td>0.004286</td>\n",
              "      <td>3</td>\n",
              "      <td>25</td>\n",
              "      <td>mean</td>\n",
              "      <td>{'gradientboostingclassifier__max_depth': 3, '...</td>\n",
              "      <td>0.866812</td>\n",
              "      <td>0.865876</td>\n",
              "      <td>0.859950</td>\n",
              "      <td>0.854602</td>\n",
              "      <td>0.858034</td>\n",
              "      <td>0.861055</td>\n",
              "      <td>0.004656</td>\n",
              "      <td>8</td>\n",
              "    </tr>\n",
              "    <tr>\n",
              "      <th>11</th>\n",
              "      <td>11.547310</td>\n",
              "      <td>0.897120</td>\n",
              "      <td>0.014760</td>\n",
              "      <td>0.004068</td>\n",
              "      <td>3</td>\n",
              "      <td>30</td>\n",
              "      <td>median</td>\n",
              "      <td>{'gradientboostingclassifier__max_depth': 3, '...</td>\n",
              "      <td>0.855895</td>\n",
              "      <td>0.862445</td>\n",
              "      <td>0.851840</td>\n",
              "      <td>0.854914</td>\n",
              "      <td>0.845866</td>\n",
              "      <td>0.854192</td>\n",
              "      <td>0.005411</td>\n",
              "      <td>9</td>\n",
              "    </tr>\n",
              "    <tr>\n",
              "      <th>6</th>\n",
              "      <td>7.968305</td>\n",
              "      <td>0.217137</td>\n",
              "      <td>0.014873</td>\n",
              "      <td>0.004129</td>\n",
              "      <td>3</td>\n",
              "      <td>20</td>\n",
              "      <td>mean</td>\n",
              "      <td>{'gradientboostingclassifier__max_depth': 3, '...</td>\n",
              "      <td>0.858079</td>\n",
              "      <td>0.850593</td>\n",
              "      <td>0.854648</td>\n",
              "      <td>0.844306</td>\n",
              "      <td>0.852418</td>\n",
              "      <td>0.852009</td>\n",
              "      <td>0.004589</td>\n",
              "      <td>10</td>\n",
              "    </tr>\n",
              "  </tbody>\n",
              "</table>\n",
              "</div>\n",
              "      <button class=\"colab-df-convert\" onclick=\"convertToInteractive('df-94f9805e-ca51-486c-9b7c-5ccb00c7a379')\"\n",
              "              title=\"Convert this dataframe to an interactive table.\"\n",
              "              style=\"display:none;\">\n",
              "\n",
              "  <svg xmlns=\"http://www.w3.org/2000/svg\" height=\"24px\"viewBox=\"0 0 24 24\"\n",
              "       width=\"24px\">\n",
              "    <path d=\"M0 0h24v24H0V0z\" fill=\"none\"/>\n",
              "    <path d=\"M18.56 5.44l.94 2.06.94-2.06 2.06-.94-2.06-.94-.94-2.06-.94 2.06-2.06.94zm-11 1L8.5 8.5l.94-2.06 2.06-.94-2.06-.94L8.5 2.5l-.94 2.06-2.06.94zm10 10l.94 2.06.94-2.06 2.06-.94-2.06-.94-.94-2.06-.94 2.06-2.06.94z\"/><path d=\"M17.41 7.96l-1.37-1.37c-.4-.4-.92-.59-1.43-.59-.52 0-1.04.2-1.43.59L10.3 9.45l-7.72 7.72c-.78.78-.78 2.05 0 2.83L4 21.41c.39.39.9.59 1.41.59.51 0 1.02-.2 1.41-.59l7.78-7.78 2.81-2.81c.8-.78.8-2.07 0-2.86zM5.41 20L4 18.59l7.72-7.72 1.47 1.35L5.41 20z\"/>\n",
              "  </svg>\n",
              "      </button>\n",
              "\n",
              "\n",
              "\n",
              "    <div id=\"df-6c0bc638-8485-411c-a230-e80388ce3190\">\n",
              "      <button class=\"colab-df-quickchart\" onclick=\"quickchart('df-6c0bc638-8485-411c-a230-e80388ce3190')\"\n",
              "              title=\"Suggest charts.\"\n",
              "              style=\"display:none;\">\n",
              "\n",
              "<svg xmlns=\"http://www.w3.org/2000/svg\" height=\"24px\"viewBox=\"0 0 24 24\"\n",
              "     width=\"24px\">\n",
              "    <g>\n",
              "        <path d=\"M19 3H5c-1.1 0-2 .9-2 2v14c0 1.1.9 2 2 2h14c1.1 0 2-.9 2-2V5c0-1.1-.9-2-2-2zM9 17H7v-7h2v7zm4 0h-2V7h2v10zm4 0h-2v-4h2v4z\"/>\n",
              "    </g>\n",
              "</svg>\n",
              "      </button>\n",
              "    </div>\n",
              "\n",
              "<style>\n",
              "  .colab-df-quickchart {\n",
              "    background-color: #E8F0FE;\n",
              "    border: none;\n",
              "    border-radius: 50%;\n",
              "    cursor: pointer;\n",
              "    display: none;\n",
              "    fill: #1967D2;\n",
              "    height: 32px;\n",
              "    padding: 0 0 0 0;\n",
              "    width: 32px;\n",
              "  }\n",
              "\n",
              "  .colab-df-quickchart:hover {\n",
              "    background-color: #E2EBFA;\n",
              "    box-shadow: 0px 1px 2px rgba(60, 64, 67, 0.3), 0px 1px 3px 1px rgba(60, 64, 67, 0.15);\n",
              "    fill: #174EA6;\n",
              "  }\n",
              "\n",
              "  [theme=dark] .colab-df-quickchart {\n",
              "    background-color: #3B4455;\n",
              "    fill: #D2E3FC;\n",
              "  }\n",
              "\n",
              "  [theme=dark] .colab-df-quickchart:hover {\n",
              "    background-color: #434B5C;\n",
              "    box-shadow: 0px 1px 3px 1px rgba(0, 0, 0, 0.15);\n",
              "    filter: drop-shadow(0px 1px 2px rgba(0, 0, 0, 0.3));\n",
              "    fill: #FFFFFF;\n",
              "  }\n",
              "</style>\n",
              "\n",
              "    <script>\n",
              "      async function quickchart(key) {\n",
              "        const containerElement = document.querySelector('#' + key);\n",
              "        const charts = await google.colab.kernel.invokeFunction(\n",
              "            'suggestCharts', [key], {});\n",
              "      }\n",
              "    </script>\n",
              "\n",
              "      <script>\n",
              "\n",
              "function displayQuickchartButton(domScope) {\n",
              "  let quickchartButtonEl =\n",
              "    domScope.querySelector('#df-6c0bc638-8485-411c-a230-e80388ce3190 button.colab-df-quickchart');\n",
              "  quickchartButtonEl.style.display =\n",
              "    google.colab.kernel.accessAllowed ? 'block' : 'none';\n",
              "}\n",
              "\n",
              "        displayQuickchartButton(document);\n",
              "      </script>\n",
              "      <style>\n",
              "    .colab-df-container {\n",
              "      display:flex;\n",
              "      flex-wrap:wrap;\n",
              "      gap: 12px;\n",
              "    }\n",
              "\n",
              "    .colab-df-convert {\n",
              "      background-color: #E8F0FE;\n",
              "      border: none;\n",
              "      border-radius: 50%;\n",
              "      cursor: pointer;\n",
              "      display: none;\n",
              "      fill: #1967D2;\n",
              "      height: 32px;\n",
              "      padding: 0 0 0 0;\n",
              "      width: 32px;\n",
              "    }\n",
              "\n",
              "    .colab-df-convert:hover {\n",
              "      background-color: #E2EBFA;\n",
              "      box-shadow: 0px 1px 2px rgba(60, 64, 67, 0.3), 0px 1px 3px 1px rgba(60, 64, 67, 0.15);\n",
              "      fill: #174EA6;\n",
              "    }\n",
              "\n",
              "    [theme=dark] .colab-df-convert {\n",
              "      background-color: #3B4455;\n",
              "      fill: #D2E3FC;\n",
              "    }\n",
              "\n",
              "    [theme=dark] .colab-df-convert:hover {\n",
              "      background-color: #434B5C;\n",
              "      box-shadow: 0px 1px 3px 1px rgba(0, 0, 0, 0.15);\n",
              "      filter: drop-shadow(0px 1px 2px rgba(0, 0, 0, 0.3));\n",
              "      fill: #FFFFFF;\n",
              "    }\n",
              "  </style>\n",
              "\n",
              "      <script>\n",
              "        const buttonEl =\n",
              "          document.querySelector('#df-94f9805e-ca51-486c-9b7c-5ccb00c7a379 button.colab-df-convert');\n",
              "        buttonEl.style.display =\n",
              "          google.colab.kernel.accessAllowed ? 'block' : 'none';\n",
              "\n",
              "        async function convertToInteractive(key) {\n",
              "          const element = document.querySelector('#df-94f9805e-ca51-486c-9b7c-5ccb00c7a379');\n",
              "          const dataTable =\n",
              "            await google.colab.kernel.invokeFunction('convertToInteractive',\n",
              "                                                     [key], {});\n",
              "          if (!dataTable) return;\n",
              "\n",
              "          const docLinkHtml = 'Like what you see? Visit the ' +\n",
              "            '<a target=\"_blank\" href=https://colab.research.google.com/notebooks/data_table.ipynb>data table notebook</a>'\n",
              "            + ' to learn more about interactive tables.';\n",
              "          element.innerHTML = '';\n",
              "          dataTable['output_type'] = 'display_data';\n",
              "          await google.colab.output.renderOutput(dataTable, element);\n",
              "          const docLink = document.createElement('div');\n",
              "          docLink.innerHTML = docLinkHtml;\n",
              "          element.appendChild(docLink);\n",
              "        }\n",
              "      </script>\n",
              "    </div>\n",
              "  </div>\n"
            ]
          },
          "metadata": {},
          "execution_count": 67
        }
      ]
    },
    {
      "cell_type": "code",
      "source": [
        "model.best_params_"
      ],
      "metadata": {
        "colab": {
          "base_uri": "https://localhost:8080/"
        },
        "id": "7J42NiGpLlOe",
        "outputId": "30e90c8f-6bd6-41d7-b098-1a6f4749524d"
      },
      "execution_count": 68,
      "outputs": [
        {
          "output_type": "execute_result",
          "data": {
            "text/plain": [
              "{'gradientboostingclassifier__max_depth': 4,\n",
              " 'gradientboostingclassifier__n_estimators': 30,\n",
              " 'simpleimputer__strategy': 'mean'}"
            ]
          },
          "metadata": {},
          "execution_count": 68
        }
      ]
    },
    {
      "cell_type": "code",
      "source": [
        "acc_train = model.score(X_train,y_train)\n",
        "acc_test = model.score(X_test,y_test)\n",
        "\n",
        "print(\"Training Accuracy:\", round(acc_train, 4))\n",
        "print(\"Validation Accuracy:\", round(acc_test, 4))"
      ],
      "metadata": {
        "colab": {
          "base_uri": "https://localhost:8080/"
        },
        "id": "va6q-F2rLwiQ",
        "outputId": "9536e48b-02ab-497f-a8e6-2279947ab5cf"
      },
      "execution_count": 69,
      "outputs": [
        {
          "output_type": "stream",
          "name": "stdout",
          "text": [
            "Training Accuracy: 0.9056\n",
            "Validation Accuracy: 0.8891\n"
          ]
        }
      ]
    },
    {
      "cell_type": "code",
      "source": [
        "y_test.value_counts()"
      ],
      "metadata": {
        "colab": {
          "base_uri": "https://localhost:8080/"
        },
        "id": "Gxx8JQ5sLx3n",
        "outputId": "65cb05c7-41ad-474a-b4c4-a91eae3e71af"
      },
      "execution_count": 70,
      "outputs": [
        {
          "output_type": "execute_result",
          "data": {
            "text/plain": [
              "0    1994\n",
              "1     107\n",
              "Name: class, dtype: int64"
            ]
          },
          "metadata": {},
          "execution_count": 70
        }
      ]
    },
    {
      "cell_type": "code",
      "source": [
        "# Plot confusion matrix\n",
        "ConfusionMatrixDisplay.from_estimator(model,X_test,y_test);"
      ],
      "metadata": {
        "colab": {
          "base_uri": "https://localhost:8080/",
          "height": 449
        },
        "id": "fej_NOZRL1fr",
        "outputId": "034367e3-0b71-4b62-89a6-1dab39eba6df"
      },
      "execution_count": 71,
      "outputs": [
        {
          "output_type": "display_data",
          "data": {
            "text/plain": [
              "<Figure size 640x480 with 2 Axes>"
            ],
            "image/png": "[encoded data removed]"
          },
          "metadata": {}
        }
      ]
    },
    {
      "cell_type": "code",
      "source": [
        "# Evaluate using Precision and recall instead because data is imbalanced as we know"
      ],
      "metadata": {
        "id": "_OqEKlauNh2o"
      },
      "execution_count": 72,
      "outputs": []
    },
    {
      "cell_type": "markdown",
      "source": [
        "## The precision score -> predict that a company will go bankrupt if its very confident in its prediction. The recall score -> identify all the companies that will go bankrupt, even if that means being incorrect sometimes.\n",
        "## According to this problem, I prefer having better recall than precision to reduce losses."
      ],
      "metadata": {
        "id": "wcfOfoten84M"
      }
    },
    {
      "cell_type": "code",
      "source": [
        "# Print classification report\n",
        "print(classification_report(y_test,model.predict(X_test)))"
      ],
      "metadata": {
        "colab": {
          "base_uri": "https://localhost:8080/"
        },
        "id": "roewV67Ao4SH",
        "outputId": "8073866f-c5d3-406f-e9af-768b93b6734b"
      },
      "execution_count": 74,
      "outputs": [
        {
          "output_type": "stream",
          "name": "stdout",
          "text": [
            "              precision    recall  f1-score   support\n",
            "\n",
            "           0       0.99      0.90      0.94      1994\n",
            "           1       0.28      0.76      0.41       107\n",
            "\n",
            "    accuracy                           0.89      2101\n",
            "   macro avg       0.63      0.83      0.67      2101\n",
            "weighted avg       0.95      0.89      0.91      2101\n",
            "\n"
          ]
        }
      ]
    },
    {
      "cell_type": "code",
      "source": [
        "model.predict(X_test)[:5]"
      ],
      "metadata": {
        "colab": {
          "base_uri": "https://localhost:8080/"
        },
        "id": "X5_uPy14pMjy",
        "outputId": "aa67fa11-1242-40c0-d78f-82c5d7bdf7d5"
      },
      "execution_count": 76,
      "outputs": [
        {
          "output_type": "execute_result",
          "data": {
            "text/plain": [
              "array([0, 1, 0, 0, 0])"
            ]
          },
          "metadata": {},
          "execution_count": 76
        }
      ]
    },
    {
      "cell_type": "code",
      "source": [
        "model.predict_proba(X_test)[:5,-1]"
      ],
      "metadata": {
        "colab": {
          "base_uri": "https://localhost:8080/"
        },
        "id": "HR3ket3Bo8bR",
        "outputId": "b5009cf0-51bb-4fd2-eb0c-f006da26e151"
      },
      "execution_count": 75,
      "outputs": [
        {
          "output_type": "execute_result",
          "data": {
            "text/plain": [
              "array([0.44479828, 0.50705286, 0.15540057, 0.22385234, 0.09434947])"
            ]
          },
          "metadata": {},
          "execution_count": 75
        }
      ]
    },
    {
      "cell_type": "markdown",
      "source": [
        "## **Communicate**"
      ],
      "metadata": {
        "id": "2EnRkK6Bu90_"
      }
    },
    {
      "cell_type": "code",
      "source": [
        "# Get feature names from training data\n",
        "features = X_train_over.columns\n",
        "# Extract importances from model\n",
        "importances = model.best_estimator_.named_steps['gradientboostingclassifier'].feature_importances_\n",
        "# Create a series with feature names and importances\n",
        "feat_imp = pd.Series(importances,index=features).sort_values()\n",
        "# Plot 10 most important features\n",
        "feat_imp.tail(10).plot(kind=\"barh\")\n",
        "plt.xlabel(\"Gini Importance\")\n",
        "plt.ylabel(\"Feature\")\n",
        "plt.title(\"Feature Importance\");\n"
      ],
      "metadata": {
        "colab": {
          "base_uri": "https://localhost:8080/",
          "height": 472
        },
        "id": "ZDKOQaJbu0I_",
        "outputId": "c746a351-1213-4e33-d5dd-8866e3e545c2"
      },
      "execution_count": 81,
      "outputs": [
        {
          "output_type": "display_data",
          "data": {
            "text/plain": [
              "<Figure size 640x480 with 1 Axes>"
            ],
            "image/png": "[encoded data removed]"
          },
          "metadata": {}
        }
      ]
    },
    {
      "cell_type": "code",
      "source": [
        "# Save model\n",
        "with open(\"model3.pkl\",\"wb\") as f:\n",
        "    pickle.dump(model,f)"
      ],
      "metadata": {
        "id": "akDErU7KpQ74"
      },
      "execution_count": 79,
      "outputs": []
    }
  ]
}